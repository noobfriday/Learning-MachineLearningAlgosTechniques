{
 "cells": [
  {
   "cell_type": "markdown",
   "id": "87448968",
   "metadata": {},
   "source": [
    "# 1."
   ]
  },
  {
   "cell_type": "code",
   "execution_count": 3,
   "id": "1a718992",
   "metadata": {},
   "outputs": [],
   "source": [
    "import os\n",
    "import pandas as pd\n",
    "import numpy as np\n",
    "import matplotlib.pyplot as plt\n",
    "%matplotlib inline\n",
    "import seaborn as sns\n",
    "import plotly.graph_objs as go\n",
    "import plotly.express as px\n",
    "from collections import defaultdict\n",
    "from surprise import SVD\n",
    "from surprise import KNNWithMeans\n",
    "from surprise import Dataset\n",
    "from surprise import accuracy\n",
    "from surprise import Reader\n",
    "from surprise.model_selection import cross_validate\n",
    "from surprise.model_selection import train_test_split\n",
    "\n",
    "from google_trans_new import google_translator\n",
    "from translate import Translator\n",
    "\n",
    "import warnings\n",
    "warnings.filterwarnings('ignore')"
   ]
  },
  {
   "cell_type": "code",
   "execution_count": 4,
   "id": "b831a5eb",
   "metadata": {},
   "outputs": [],
   "source": [
    "#Loading Data files\n",
    "review_1 = pd.read_csv('phone_user_review_file_1.csv', encoding='iso-8859-1')\n",
    "review_2 = pd.read_csv('phone_user_review_file_2.csv', encoding='iso-8859-1')\n",
    "review_3 = pd.read_csv('phone_user_review_file_3.csv', encoding='iso-8859-1')\n",
    "review_4 = pd.read_csv('phone_user_review_file_4.csv', encoding='iso-8859-1')\n",
    "review_5 = pd.read_csv('phone_user_review_file_5.csv', encoding='iso-8859-1')\n",
    "review_6 = pd.read_csv('phone_user_review_file_6.csv', encoding='iso-8859-1')"
   ]
  },
  {
   "cell_type": "code",
   "execution_count": 5,
   "id": "53a2a3a9",
   "metadata": {},
   "outputs": [
    {
     "data": {
      "text/html": [
       "<div>\n",
       "<style scoped>\n",
       "    .dataframe tbody tr th:only-of-type {\n",
       "        vertical-align: middle;\n",
       "    }\n",
       "\n",
       "    .dataframe tbody tr th {\n",
       "        vertical-align: top;\n",
       "    }\n",
       "\n",
       "    .dataframe thead th {\n",
       "        text-align: right;\n",
       "    }\n",
       "</style>\n",
       "<table border=\"1\" class=\"dataframe\">\n",
       "  <thead>\n",
       "    <tr style=\"text-align: right;\">\n",
       "      <th></th>\n",
       "      <th>phone_url</th>\n",
       "      <th>date</th>\n",
       "      <th>lang</th>\n",
       "      <th>country</th>\n",
       "      <th>source</th>\n",
       "      <th>domain</th>\n",
       "      <th>score</th>\n",
       "      <th>score_max</th>\n",
       "      <th>extract</th>\n",
       "      <th>author</th>\n",
       "      <th>product</th>\n",
       "    </tr>\n",
       "  </thead>\n",
       "  <tbody>\n",
       "    <tr>\n",
       "      <th>0</th>\n",
       "      <td>/cellphones/samsung-galaxy-s8/</td>\n",
       "      <td>5/2/2017</td>\n",
       "      <td>en</td>\n",
       "      <td>us</td>\n",
       "      <td>Verizon Wireless</td>\n",
       "      <td>verizonwireless.com</td>\n",
       "      <td>10.0</td>\n",
       "      <td>10.0</td>\n",
       "      <td>As a diehard Samsung fan who has had every Sam...</td>\n",
       "      <td>CarolAnn35</td>\n",
       "      <td>Samsung Galaxy S8</td>\n",
       "    </tr>\n",
       "    <tr>\n",
       "      <th>1</th>\n",
       "      <td>/cellphones/samsung-galaxy-s8/</td>\n",
       "      <td>4/28/2017</td>\n",
       "      <td>en</td>\n",
       "      <td>us</td>\n",
       "      <td>Phone Arena</td>\n",
       "      <td>phonearena.com</td>\n",
       "      <td>10.0</td>\n",
       "      <td>10.0</td>\n",
       "      <td>Love the phone. the phone is sleek and smooth ...</td>\n",
       "      <td>james0923</td>\n",
       "      <td>Samsung Galaxy S8</td>\n",
       "    </tr>\n",
       "    <tr>\n",
       "      <th>2</th>\n",
       "      <td>/cellphones/samsung-galaxy-s8/</td>\n",
       "      <td>5/4/2017</td>\n",
       "      <td>en</td>\n",
       "      <td>us</td>\n",
       "      <td>Amazon</td>\n",
       "      <td>amazon.com</td>\n",
       "      <td>6.0</td>\n",
       "      <td>10.0</td>\n",
       "      <td>Adequate feel. Nice heft. Processor's still sl...</td>\n",
       "      <td>R. Craig</td>\n",
       "      <td>Samsung Galaxy S8 (64GB) G950U 5.8\" 4G LTE Unl...</td>\n",
       "    </tr>\n",
       "    <tr>\n",
       "      <th>3</th>\n",
       "      <td>/cellphones/samsung-galaxy-s8/</td>\n",
       "      <td>5/2/2017</td>\n",
       "      <td>en</td>\n",
       "      <td>us</td>\n",
       "      <td>Samsung</td>\n",
       "      <td>samsung.com</td>\n",
       "      <td>9.2</td>\n",
       "      <td>10.0</td>\n",
       "      <td>Never disappointed. One of the reasons I've be...</td>\n",
       "      <td>Buster2020</td>\n",
       "      <td>Samsung Galaxy S8 64GB (AT&amp;T)</td>\n",
       "    </tr>\n",
       "    <tr>\n",
       "      <th>4</th>\n",
       "      <td>/cellphones/samsung-galaxy-s8/</td>\n",
       "      <td>5/11/2017</td>\n",
       "      <td>en</td>\n",
       "      <td>us</td>\n",
       "      <td>Verizon Wireless</td>\n",
       "      <td>verizonwireless.com</td>\n",
       "      <td>4.0</td>\n",
       "      <td>10.0</td>\n",
       "      <td>I've now found that i'm in a group of people t...</td>\n",
       "      <td>S Ate Mine</td>\n",
       "      <td>Samsung Galaxy S8</td>\n",
       "    </tr>\n",
       "  </tbody>\n",
       "</table>\n",
       "</div>"
      ],
      "text/plain": [
       "                        phone_url       date lang country            source  \\\n",
       "0  /cellphones/samsung-galaxy-s8/   5/2/2017   en      us  Verizon Wireless   \n",
       "1  /cellphones/samsung-galaxy-s8/  4/28/2017   en      us       Phone Arena   \n",
       "2  /cellphones/samsung-galaxy-s8/   5/4/2017   en      us            Amazon   \n",
       "3  /cellphones/samsung-galaxy-s8/   5/2/2017   en      us           Samsung   \n",
       "4  /cellphones/samsung-galaxy-s8/  5/11/2017   en      us  Verizon Wireless   \n",
       "\n",
       "                domain  score  score_max  \\\n",
       "0  verizonwireless.com   10.0       10.0   \n",
       "1       phonearena.com   10.0       10.0   \n",
       "2           amazon.com    6.0       10.0   \n",
       "3          samsung.com    9.2       10.0   \n",
       "4  verizonwireless.com    4.0       10.0   \n",
       "\n",
       "                                             extract       author  \\\n",
       "0  As a diehard Samsung fan who has had every Sam...   CarolAnn35   \n",
       "1  Love the phone. the phone is sleek and smooth ...    james0923   \n",
       "2  Adequate feel. Nice heft. Processor's still sl...     R. Craig   \n",
       "3  Never disappointed. One of the reasons I've be...  Buster2020    \n",
       "4  I've now found that i'm in a group of people t...   S Ate Mine   \n",
       "\n",
       "                                             product  \n",
       "0                                  Samsung Galaxy S8  \n",
       "1                                  Samsung Galaxy S8  \n",
       "2  Samsung Galaxy S8 (64GB) G950U 5.8\" 4G LTE Unl...  \n",
       "3                      Samsung Galaxy S8 64GB (AT&T)  \n",
       "4                                  Samsung Galaxy S8  "
      ]
     },
     "execution_count": 5,
     "metadata": {},
     "output_type": "execute_result"
    }
   ],
   "source": [
    "review_1.head()"
   ]
  },
  {
   "cell_type": "code",
   "execution_count": 6,
   "id": "803101eb",
   "metadata": {},
   "outputs": [
    {
     "name": "stdout",
     "output_type": "stream",
     "text": [
      "review_1: Rows: 374910 and Columns: 11\n",
      "\n",
      "review_2: Rows: 114925 and Columns: 11\n",
      "\n",
      "review_3: Rows: 312961 and Columns: 11\n",
      "\n",
      "review_4: Rows: 98284 and Columns: 11\n",
      "\n",
      "review_5: Rows: 350216 and Columns: 11\n",
      "\n",
      "review_6: Rows: 163837 and Columns: 11\n",
      "\n",
      "Total rows: 1415133\n"
     ]
    }
   ],
   "source": [
    "print(f'review_1: Rows: {review_1.shape[0]} and Columns: {review_1.shape[1]}\\n')\n",
    "print(f'review_2: Rows: {review_2.shape[0]} and Columns: {review_2.shape[1]}\\n')\n",
    "print(f'review_3: Rows: {review_3.shape[0]} and Columns: {review_3.shape[1]}\\n')\n",
    "print(f'review_4: Rows: {review_4.shape[0]} and Columns: {review_4.shape[1]}\\n')\n",
    "print(f'review_5: Rows: {review_5.shape[0]} and Columns: {review_5.shape[1]}\\n')\n",
    "print(f'review_6: Rows: {review_6.shape[0]} and Columns: {review_6.shape[1]}\\n')\n",
    "print(f'Total rows: {review_1.shape[0]+review_2.shape[0]+review_3.shape[0]+review_4.shape[0]+review_5.shape[0]+review_6.shape[0]}')"
   ]
  },
  {
   "cell_type": "code",
   "execution_count": 7,
   "id": "2ac7c2c3",
   "metadata": {},
   "outputs": [
    {
     "name": "stdout",
     "output_type": "stream",
     "text": [
      "Check whether the column names are same in all the dataframes: \n"
     ]
    },
    {
     "data": {
      "text/plain": [
       "True"
      ]
     },
     "execution_count": 7,
     "metadata": {},
     "output_type": "execute_result"
    }
   ],
   "source": [
    "print('Check whether the column names are same in all the dataframes: ')\n",
    "all(np.unique(review_1.columns.tolist()) == np.unique(review_1.columns.tolist()+\n",
    "                                                      review_2.columns.tolist()+\n",
    "                                                      review_3.columns.tolist()+\n",
    "                                                      review_4.columns.tolist()+\n",
    "                                                      review_5.columns.tolist()+\n",
    "                                                      review_6.columns.tolist()))"
   ]
  },
  {
   "cell_type": "code",
   "execution_count": 8,
   "id": "46ed51e9",
   "metadata": {},
   "outputs": [
    {
     "name": "stdout",
     "output_type": "stream",
     "text": [
      "reviews: Rows: 1415133 and Columns: 11\n",
      "\n",
      "Top 5 rows of the data: \n"
     ]
    },
    {
     "data": {
      "text/html": [
       "<div>\n",
       "<style scoped>\n",
       "    .dataframe tbody tr th:only-of-type {\n",
       "        vertical-align: middle;\n",
       "    }\n",
       "\n",
       "    .dataframe tbody tr th {\n",
       "        vertical-align: top;\n",
       "    }\n",
       "\n",
       "    .dataframe thead th {\n",
       "        text-align: right;\n",
       "    }\n",
       "</style>\n",
       "<table border=\"1\" class=\"dataframe\">\n",
       "  <thead>\n",
       "    <tr style=\"text-align: right;\">\n",
       "      <th></th>\n",
       "      <th>phone_url</th>\n",
       "      <th>date</th>\n",
       "      <th>lang</th>\n",
       "      <th>country</th>\n",
       "      <th>source</th>\n",
       "      <th>domain</th>\n",
       "      <th>score</th>\n",
       "      <th>score_max</th>\n",
       "      <th>extract</th>\n",
       "      <th>author</th>\n",
       "      <th>product</th>\n",
       "    </tr>\n",
       "  </thead>\n",
       "  <tbody>\n",
       "    <tr>\n",
       "      <th>0</th>\n",
       "      <td>/cellphones/samsung-galaxy-s8/</td>\n",
       "      <td>5/2/2017</td>\n",
       "      <td>en</td>\n",
       "      <td>us</td>\n",
       "      <td>Verizon Wireless</td>\n",
       "      <td>verizonwireless.com</td>\n",
       "      <td>10.0</td>\n",
       "      <td>10.0</td>\n",
       "      <td>As a diehard Samsung fan who has had every Sam...</td>\n",
       "      <td>CarolAnn35</td>\n",
       "      <td>Samsung Galaxy S8</td>\n",
       "    </tr>\n",
       "    <tr>\n",
       "      <th>1</th>\n",
       "      <td>/cellphones/samsung-galaxy-s8/</td>\n",
       "      <td>4/28/2017</td>\n",
       "      <td>en</td>\n",
       "      <td>us</td>\n",
       "      <td>Phone Arena</td>\n",
       "      <td>phonearena.com</td>\n",
       "      <td>10.0</td>\n",
       "      <td>10.0</td>\n",
       "      <td>Love the phone. the phone is sleek and smooth ...</td>\n",
       "      <td>james0923</td>\n",
       "      <td>Samsung Galaxy S8</td>\n",
       "    </tr>\n",
       "    <tr>\n",
       "      <th>2</th>\n",
       "      <td>/cellphones/samsung-galaxy-s8/</td>\n",
       "      <td>5/4/2017</td>\n",
       "      <td>en</td>\n",
       "      <td>us</td>\n",
       "      <td>Amazon</td>\n",
       "      <td>amazon.com</td>\n",
       "      <td>6.0</td>\n",
       "      <td>10.0</td>\n",
       "      <td>Adequate feel. Nice heft. Processor's still sl...</td>\n",
       "      <td>R. Craig</td>\n",
       "      <td>Samsung Galaxy S8 (64GB) G950U 5.8\" 4G LTE Unl...</td>\n",
       "    </tr>\n",
       "    <tr>\n",
       "      <th>3</th>\n",
       "      <td>/cellphones/samsung-galaxy-s8/</td>\n",
       "      <td>5/2/2017</td>\n",
       "      <td>en</td>\n",
       "      <td>us</td>\n",
       "      <td>Samsung</td>\n",
       "      <td>samsung.com</td>\n",
       "      <td>9.2</td>\n",
       "      <td>10.0</td>\n",
       "      <td>Never disappointed. One of the reasons I've be...</td>\n",
       "      <td>Buster2020</td>\n",
       "      <td>Samsung Galaxy S8 64GB (AT&amp;T)</td>\n",
       "    </tr>\n",
       "    <tr>\n",
       "      <th>4</th>\n",
       "      <td>/cellphones/samsung-galaxy-s8/</td>\n",
       "      <td>5/11/2017</td>\n",
       "      <td>en</td>\n",
       "      <td>us</td>\n",
       "      <td>Verizon Wireless</td>\n",
       "      <td>verizonwireless.com</td>\n",
       "      <td>4.0</td>\n",
       "      <td>10.0</td>\n",
       "      <td>I've now found that i'm in a group of people t...</td>\n",
       "      <td>S Ate Mine</td>\n",
       "      <td>Samsung Galaxy S8</td>\n",
       "    </tr>\n",
       "  </tbody>\n",
       "</table>\n",
       "</div>"
      ],
      "text/plain": [
       "                        phone_url       date lang country            source  \\\n",
       "0  /cellphones/samsung-galaxy-s8/   5/2/2017   en      us  Verizon Wireless   \n",
       "1  /cellphones/samsung-galaxy-s8/  4/28/2017   en      us       Phone Arena   \n",
       "2  /cellphones/samsung-galaxy-s8/   5/4/2017   en      us            Amazon   \n",
       "3  /cellphones/samsung-galaxy-s8/   5/2/2017   en      us           Samsung   \n",
       "4  /cellphones/samsung-galaxy-s8/  5/11/2017   en      us  Verizon Wireless   \n",
       "\n",
       "                domain  score  score_max  \\\n",
       "0  verizonwireless.com   10.0       10.0   \n",
       "1       phonearena.com   10.0       10.0   \n",
       "2           amazon.com    6.0       10.0   \n",
       "3          samsung.com    9.2       10.0   \n",
       "4  verizonwireless.com    4.0       10.0   \n",
       "\n",
       "                                             extract       author  \\\n",
       "0  As a diehard Samsung fan who has had every Sam...   CarolAnn35   \n",
       "1  Love the phone. the phone is sleek and smooth ...    james0923   \n",
       "2  Adequate feel. Nice heft. Processor's still sl...     R. Craig   \n",
       "3  Never disappointed. One of the reasons I've be...  Buster2020    \n",
       "4  I've now found that i'm in a group of people t...   S Ate Mine   \n",
       "\n",
       "                                             product  \n",
       "0                                  Samsung Galaxy S8  \n",
       "1                                  Samsung Galaxy S8  \n",
       "2  Samsung Galaxy S8 (64GB) G950U 5.8\" 4G LTE Unl...  \n",
       "3                      Samsung Galaxy S8 64GB (AT&T)  \n",
       "4                                  Samsung Galaxy S8  "
      ]
     },
     "metadata": {},
     "output_type": "display_data"
    },
    {
     "name": "stdout",
     "output_type": "stream",
     "text": [
      "Bottom 5 rows of the data: \n"
     ]
    },
    {
     "data": {
      "text/html": [
       "<div>\n",
       "<style scoped>\n",
       "    .dataframe tbody tr th:only-of-type {\n",
       "        vertical-align: middle;\n",
       "    }\n",
       "\n",
       "    .dataframe tbody tr th {\n",
       "        vertical-align: top;\n",
       "    }\n",
       "\n",
       "    .dataframe thead th {\n",
       "        text-align: right;\n",
       "    }\n",
       "</style>\n",
       "<table border=\"1\" class=\"dataframe\">\n",
       "  <thead>\n",
       "    <tr style=\"text-align: right;\">\n",
       "      <th></th>\n",
       "      <th>phone_url</th>\n",
       "      <th>date</th>\n",
       "      <th>lang</th>\n",
       "      <th>country</th>\n",
       "      <th>source</th>\n",
       "      <th>domain</th>\n",
       "      <th>score</th>\n",
       "      <th>score_max</th>\n",
       "      <th>extract</th>\n",
       "      <th>author</th>\n",
       "      <th>product</th>\n",
       "    </tr>\n",
       "  </thead>\n",
       "  <tbody>\n",
       "    <tr>\n",
       "      <th>1415128</th>\n",
       "      <td>/cellphones/alcatel-ot-club_1187/</td>\n",
       "      <td>5/12/2000</td>\n",
       "      <td>de</td>\n",
       "      <td>de</td>\n",
       "      <td>Ciao</td>\n",
       "      <td>ciao.de</td>\n",
       "      <td>2.0</td>\n",
       "      <td>10.0</td>\n",
       "      <td>Weil mein Onkel bei ALcatel arbeitet habe ich ...</td>\n",
       "      <td>david.paul</td>\n",
       "      <td>Alcatel Club Plus Handy</td>\n",
       "    </tr>\n",
       "    <tr>\n",
       "      <th>1415129</th>\n",
       "      <td>/cellphones/alcatel-ot-club_1187/</td>\n",
       "      <td>5/11/2000</td>\n",
       "      <td>de</td>\n",
       "      <td>de</td>\n",
       "      <td>Ciao</td>\n",
       "      <td>ciao.de</td>\n",
       "      <td>10.0</td>\n",
       "      <td>10.0</td>\n",
       "      <td>Hy Liebe Leserinnen und Leser!! Ich habe seit ...</td>\n",
       "      <td>Christiane14</td>\n",
       "      <td>Alcatel Club Plus Handy</td>\n",
       "    </tr>\n",
       "    <tr>\n",
       "      <th>1415130</th>\n",
       "      <td>/cellphones/alcatel-ot-club_1187/</td>\n",
       "      <td>5/4/2000</td>\n",
       "      <td>de</td>\n",
       "      <td>de</td>\n",
       "      <td>Ciao</td>\n",
       "      <td>ciao.de</td>\n",
       "      <td>2.0</td>\n",
       "      <td>10.0</td>\n",
       "      <td>Jetzt hat wohl Alcatell gedacht ,sie machen wa...</td>\n",
       "      <td>michaelawr</td>\n",
       "      <td>Alcatel Club Plus Handy</td>\n",
       "    </tr>\n",
       "    <tr>\n",
       "      <th>1415131</th>\n",
       "      <td>/cellphones/alcatel-ot-club_1187/</td>\n",
       "      <td>5/1/2000</td>\n",
       "      <td>de</td>\n",
       "      <td>de</td>\n",
       "      <td>Ciao</td>\n",
       "      <td>ciao.de</td>\n",
       "      <td>8.0</td>\n",
       "      <td>10.0</td>\n",
       "      <td>Ich bin seit 2 Jahren (stolzer) Besitzer eines...</td>\n",
       "      <td>claudia0815</td>\n",
       "      <td>Alcatel Club Plus Handy</td>\n",
       "    </tr>\n",
       "    <tr>\n",
       "      <th>1415132</th>\n",
       "      <td>/cellphones/alcatel-ot-club_1187/</td>\n",
       "      <td>4/25/2000</td>\n",
       "      <td>de</td>\n",
       "      <td>de</td>\n",
       "      <td>Ciao</td>\n",
       "      <td>ciao.de</td>\n",
       "      <td>2.0</td>\n",
       "      <td>10.0</td>\n",
       "      <td>Was sich Alkatel hier wieder ausgedacht hat,sc...</td>\n",
       "      <td>michaelawr</td>\n",
       "      <td>Alcatel Club Plus Handy</td>\n",
       "    </tr>\n",
       "  </tbody>\n",
       "</table>\n",
       "</div>"
      ],
      "text/plain": [
       "                                 phone_url       date lang country source  \\\n",
       "1415128  /cellphones/alcatel-ot-club_1187/  5/12/2000   de      de   Ciao   \n",
       "1415129  /cellphones/alcatel-ot-club_1187/  5/11/2000   de      de   Ciao   \n",
       "1415130  /cellphones/alcatel-ot-club_1187/   5/4/2000   de      de   Ciao   \n",
       "1415131  /cellphones/alcatel-ot-club_1187/   5/1/2000   de      de   Ciao   \n",
       "1415132  /cellphones/alcatel-ot-club_1187/  4/25/2000   de      de   Ciao   \n",
       "\n",
       "          domain  score  score_max  \\\n",
       "1415128  ciao.de    2.0       10.0   \n",
       "1415129  ciao.de   10.0       10.0   \n",
       "1415130  ciao.de    2.0       10.0   \n",
       "1415131  ciao.de    8.0       10.0   \n",
       "1415132  ciao.de    2.0       10.0   \n",
       "\n",
       "                                                   extract        author  \\\n",
       "1415128  Weil mein Onkel bei ALcatel arbeitet habe ich ...    david.paul   \n",
       "1415129  Hy Liebe Leserinnen und Leser!! Ich habe seit ...  Christiane14   \n",
       "1415130  Jetzt hat wohl Alcatell gedacht ,sie machen wa...    michaelawr   \n",
       "1415131  Ich bin seit 2 Jahren (stolzer) Besitzer eines...   claudia0815   \n",
       "1415132  Was sich Alkatel hier wieder ausgedacht hat,sc...    michaelawr   \n",
       "\n",
       "                         product  \n",
       "1415128  Alcatel Club Plus Handy  \n",
       "1415129  Alcatel Club Plus Handy  \n",
       "1415130  Alcatel Club Plus Handy  \n",
       "1415131  Alcatel Club Plus Handy  \n",
       "1415132  Alcatel Club Plus Handy  "
      ]
     },
     "metadata": {},
     "output_type": "display_data"
    }
   ],
   "source": [
    "#Merge the data into a single dataframe \n",
    "reviews = pd.concat([review_1,review_2,review_3,review_4,review_5,review_6], ignore_index=True)\n",
    "del review_1, review_2, review_3, review_4, review_5, review_6\n",
    "print(f'reviews: Rows: {reviews.shape[0]} and Columns: {reviews.shape[1]}\\n')\n",
    "print('Top 5 rows of the data: ')\n",
    "display(reviews.head())\n",
    "print('Bottom 5 rows of the data: ')\n",
    "display(reviews.tail())"
   ]
  },
  {
   "cell_type": "code",
   "execution_count": 9,
   "id": "aa7ac3b8",
   "metadata": {},
   "outputs": [
    {
     "name": "stdout",
     "output_type": "stream",
     "text": [
      "<class 'pandas.core.frame.DataFrame'>\n",
      "RangeIndex: 1415133 entries, 0 to 1415132\n",
      "Data columns (total 11 columns):\n",
      " #   Column     Non-Null Count    Dtype  \n",
      "---  ------     --------------    -----  \n",
      " 0   phone_url  1415133 non-null  object \n",
      " 1   date       1415133 non-null  object \n",
      " 2   lang       1415133 non-null  object \n",
      " 3   country    1415133 non-null  object \n",
      " 4   source     1415133 non-null  object \n",
      " 5   domain     1415133 non-null  object \n",
      " 6   score      1351644 non-null  float64\n",
      " 7   score_max  1351644 non-null  float64\n",
      " 8   extract    1395772 non-null  object \n",
      " 9   author     1351931 non-null  object \n",
      " 10  product    1415132 non-null  object \n",
      "dtypes: float64(2), object(9)\n",
      "memory usage: 118.8+ MB\n"
     ]
    }
   ],
   "source": [
    "reviews.info()"
   ]
  },
  {
   "cell_type": "markdown",
   "id": "09d0f86b",
   "metadata": {},
   "source": [
    "Except **score** and **score_max** (which are of float type) all other features are of object type.\n",
    "\n",
    "Feature **date** should be of **datetype**.\n",
    "\n",
    "Also, **score**, **score_max**, **extract** and **author**: columns seems to have Null values."
   ]
  },
  {
   "cell_type": "code",
   "execution_count": 10,
   "id": "467a4487",
   "metadata": {},
   "outputs": [
    {
     "name": "stdout",
     "output_type": "stream",
     "text": [
      "Missing count and percentages for each column are: \n",
      " phone_url         0 (0.0%)\n",
      "date              0 (0.0%)\n",
      "lang              0 (0.0%)\n",
      "country           0 (0.0%)\n",
      "source            0 (0.0%)\n",
      "domain            0 (0.0%)\n",
      "score        63489 (4.49%)\n",
      "score_max    63489 (4.49%)\n",
      "extract      19361 (1.37%)\n",
      "author       63202 (4.47%)\n",
      "product           1 (0.0%)\n",
      "dtype: object\n"
     ]
    }
   ],
   "source": [
    "df=reviews.isna().sum().round(2)\n",
    "df1 = (df*100/reviews.shape[0]).round(2)\n",
    "print('Missing count and percentages for each column are: \\n',df.astype('str') +' ('+ df1.astype('str')+'%)')\n",
    "\n",
    "#fig = px.bar(x=df.index, y=df1,text = df.astype('str') +'('+ df1.astype('str')+'%)',\n",
    "#             title=\"Count (text) and Percentage(yaxis) of missing values in all the features (data: reviews)\")\n",
    "#fig.update_xaxes(title_text= 'Features')\n",
    "#fig.update_yaxes(title_text= 'Percentage of Missing values')\n",
    "#fig.show()\n",
    "del df, df1"
   ]
  },
  {
   "cell_type": "markdown",
   "id": "3176764d",
   "metadata": {},
   "source": [
    "Thus, these three features have approximately 4.5% of the missing values. 'score' and 'score_max' have exactly the same number of missing values."
   ]
  },
  {
   "cell_type": "code",
   "execution_count": 11,
   "id": "c26450d2",
   "metadata": {},
   "outputs": [
    {
     "name": "stdout",
     "output_type": "stream",
     "text": [
      "Number of unique values in each feature: \n",
      " phone_url       5556\n",
      "date            7728\n",
      "lang              22\n",
      "country           42\n",
      "source           331\n",
      "domain           384\n",
      "score             86\n",
      "score_max          1\n",
      "extract      1321353\n",
      "author        801103\n",
      "product        61313\n",
      "dtype: int64\n"
     ]
    }
   ],
   "source": [
    "print('Number of unique values in each feature: \\n',reviews.nunique())"
   ]
  },
  {
   "cell_type": "markdown",
   "id": "e36ec8c0",
   "metadata": {},
   "source": [
    "Implies that, score_max for all the phones is 10 throughout."
   ]
  },
  {
   "cell_type": "code",
   "execution_count": 12,
   "id": "b99fbd5c",
   "metadata": {},
   "outputs": [
    {
     "data": {
      "text/plain": [
       "Cliente Amazon        19276\n",
       "e-bit                  8663\n",
       "Client d'Amazon        7613\n",
       "Amazon Kunde           4735\n",
       "Amazon Customer        2713\n",
       "einer Kundin           2610\n",
       "einem Kunden           1898\n",
       "unknown                1718\n",
       "ÐÐ»ÐµÐºÑÐ°Ð½Ð´Ñ     1070\n",
       "Ð¡ÐµÑÐ³ÐµÐ¹            904\n",
       "Name: author, dtype: int64"
      ]
     },
     "execution_count": 12,
     "metadata": {},
     "output_type": "execute_result"
    }
   ],
   "source": [
    "# Top 10 Non-english users\n",
    "reviews[reviews['lang']!='en']['author'].value_counts(ascending=False)[:10]"
   ]
  },
  {
   "cell_type": "code",
   "execution_count": 13,
   "id": "3d7c94e5",
   "metadata": {},
   "outputs": [
    {
     "data": {
      "text/plain": [
       "Huawei P8lite zwart / 16 GB                                                                                                                                                                  2707\n",
       "Samsung Galaxy Express I8730                                                                                                                                                                 2686\n",
       "Samsung Galaxy S6 zwart / 32 GB                                                                                                                                                              2345\n",
       "Nokia 5800 XpressMusic                                                                                                                                                                       1996\n",
       "Nokia N95                                                                                                                                                                                    1848\n",
       "Huawei P9 Lite Smartphone, LTE, Display 5.2'' FHD, Processore Octa-Core Kirin 650, 16 GB Memoria Interna, 3GB RAM, Fotocamera 13 MP, Single-SIM, Android 6.0 Marshmallow, Bianco [Italia]    1720\n",
       "Samsung Galaxy S6 edge zwart / 32 GB                                                                                                                                                         1708\n",
       "Nokia N8                                                                                                                                                                                     1699\n",
       "Nokia 5800                                                                                                                                                                                   1588\n",
       "Huawei P8 Lite Smartphone, Display 5\" IPS, Processore Octa-Core 1.5 GHz, Memoria Interna da 16 GB, 2 GB RAM, Fotocamera 13 MP, monoSIM, Android 5.0, Bianco [Italia]                         1577\n",
       "Name: product, dtype: int64"
      ]
     },
     "execution_count": 13,
     "metadata": {},
     "output_type": "execute_result"
    }
   ],
   "source": [
    "# Top 10 Non-english products\n",
    "reviews[reviews['lang']!='en']['product'].value_counts(ascending=False)[:10]"
   ]
  },
  {
   "cell_type": "markdown",
   "id": "06d49e45",
   "metadata": {},
   "source": [
    "Thus, a multiple similar names, with different details exist in product list. For eg:\n",
    "\n",
    "1) Huawei P8lite zwart / 16 GB and\n",
    "\n",
    "2) Huawei P8 Lite Smartphone, Display 5\" IPS, Processore Octa-Core 1.5 GHz, Memoria Interna da 16 GB, 2 GB RAM, Fotocamera 13 MP, monoSIM, Android 5.0, Bianco [Italia] are exactly same models."
   ]
  },
  {
   "cell_type": "markdown",
   "id": "582955ec",
   "metadata": {},
   "source": [
    "Another observation is that 'phone_url' column also contains the phone name and model information. Let's check what extra information is present in 'product' column."
   ]
  },
  {
   "cell_type": "code",
   "execution_count": 14,
   "id": "cdd0d455",
   "metadata": {},
   "outputs": [
    {
     "data": {
      "text/plain": [
       "/cellphones/samsung-galaxy-s-iii/                                 17093\n",
       "/cellphones/apple-iphone-5s/                                      16379\n",
       "/cellphones/samsung-galaxy-s6/                                    16145\n",
       "/cellphones/samsung-galaxy-s5/                                    16082\n",
       "/cellphones/samsung-galaxy-s7-edge/                               15917\n",
       "/cellphones/motorola-moto-g/                                      14476\n",
       "/cellphones/samsung-galaxy-s7-789999/                             13488\n",
       "/cellphones/samsung-i9500-galaxy-s-iv/                            13161\n",
       "/cellphones/huawei-p8-lite/                                       12629\n",
       "/cellphones/lenovo-vibe-k4-note/                                   9662\n",
       "/cellphones/samsung-galaxy-s4-mini-gt-i9190-gt-i9192-dual-sim/     9027\n",
       "/cellphones/samsung-galaxy-s6-edge-sm-g925f/                       8844\n",
       "/cellphones/apple-iphone-4s/                                       8602\n",
       "/cellphones/samsung-galaxy-s3-mini/                                8388\n",
       "/cellphones/lg-g3-d855-657484/                                     7992\n",
       "/cellphones/oneplus-3/                                             7944\n",
       "/cellphones/lenovo-vibe-k5/                                        7892\n",
       "/cellphones/apple-iphone-5/                                        7821\n",
       "/cellphones/apple-iphone-6/                                        7820\n",
       "/cellphones/apple-iphone-4/                                        7289\n",
       "/cellphones/lg-g4/                                                 7060\n",
       "/cellphones/lg-g2-594708/                                          6621\n",
       "/cellphones/apple-iphone-5c/                                       6157\n",
       "/cellphones/apple-iphone-6s/                                       6137\n",
       "/cellphones/samsung-galaxy-ace-s5830/                              6064\n",
       "/cellphones/motorola-moto-e/                                       6031\n",
       "/cellphones/samsung-galaxy-j3-duos/                                5936\n",
       "/cellphones/apple-iphone-7/                                        5839\n",
       "/cellphones/samsung-s5230/                                         5824\n",
       "/cellphones/samsung-galaxy-note-iii/                               5806\n",
       "/cellphones/huawei-p9-lite/                                        5553\n",
       "/cellphones/samsung-galaxy-s-ii/                                   5425\n",
       "/cellphones/nokia-5800-xpressmusic-tube/                           5179\n",
       "/cellphones/samsung-galaxy-note-2/                                 5001\n",
       "/cellphones/samsung-galaxy-j5/                                     4933\n",
       "/cellphones/samsung-galaxy-note-4/                                 4885\n",
       "/cellphones/nokia-lumia-520/                                       4883\n",
       "/cellphones/samsung-galaxy-s6-edgeplus/                            4776\n",
       "/cellphones/motorola-moto-g3/                                      4619\n",
       "/cellphones/lg-google-nexus-5/                                     4549\n",
       "/cellphones/microsoft-lumia-640-dual-sim/                          4523\n",
       "/cellphones/apple-iphone-se/                                       4425\n",
       "/cellphones/motorola-moto-g4/                                      4420\n",
       "/cellphones/htc-one-m7/                                            4349\n",
       "/cellphones/nokia-lumia-630/                                       4187\n",
       "/cellphones/google-nexus-5x-h791/                                  4169\n",
       "/cellphones/samsung-galaxy-a3-2016/                                4025\n",
       "/cellphones/asus-zenfone-2/                                        3980\n",
       "/cellphones/nokia-n95/                                             3912\n",
       "/cellphones/sony-xperia-z3-compact/                                3870\n",
       "Name: phone_url, dtype: int64"
      ]
     },
     "execution_count": 14,
     "metadata": {},
     "output_type": "execute_result"
    }
   ],
   "source": [
    "# print the frequency count of phone_url column\n",
    "reviews['phone_url'].value_counts(ascending=False).head(50)"
   ]
  },
  {
   "cell_type": "code",
   "execution_count": 15,
   "id": "5b936372",
   "metadata": {},
   "outputs": [
    {
     "data": {
      "text/plain": [
       "product                                                                                                                                         \n",
       "Samsung Galaxy Express I8730                                                                                                                        2685\n",
       "Samsung Galaxy S III 16GB (Virgin Mobile)                                                                                                            730\n",
       "Samsung Galaxy S III                                                                                                                                 689\n",
       "Samsung Galaxy S III 16GB (Straight Talk)                                                                                                            556\n",
       "Samsung Galaxy S III i9300 Smartphone 16 GB (12,2 cm (4,8 Zoll) HD Super-AMOLED-Touchscreen, 8 Megapixel Kamera, Micro-SIM, Android 4.0) schwarz     381\n",
       "Samsung Galaxy S III 16GB (Boost Mobile)                                                                                                             350\n",
       "Samsung Galaxy S3 I535 16GB Verizon Wireless 4G LTE Smartphone - Blue                                                                                330\n",
       "Samsung Galaxy SIII UK SIM-Free Smartphone - Pebble Blue (16GB) - Discontinued by manufacturer                                                       328\n",
       "Samsung Galaxy S III GT-I9300 16Gb                                                                                                                   318\n",
       "Samsung Galaxy S III 16 or 32GB (T-Mobile 4G LTE)                                                                                                    276\n",
       "Samsung Galaxy S III i9300 Smartphone (4,8 Zoll (12,2 cm) Touch-Display, 16 GB Speicher, Android 4.0) pebble-blue                                    262\n",
       "Samsung Galaxy SIII Mini UK SIM-Free Smartphone - Blue - discontinued by manufacturer                                                                256\n",
       "Samsung Galaxy S III / SGH-i747 16GB GSM Unlocked LTE Android Smartphone Blue                                                                        224\n",
       "Samsung Galaxy S3                                                                                                                                    211\n",
       "Samsung Galaxy S3 i9300i Unlocked 16GB (White)                                                                                                       209\n",
       "dtype: int64"
      ]
     },
     "execution_count": 15,
     "metadata": {},
     "output_type": "execute_result"
    }
   ],
   "source": [
    "# frequency count of 'product' column for 'samsung-galaxy-s-iii' type phone\n",
    "reviews[reviews[\"phone_url\"]=='/cellphones/samsung-galaxy-s-iii/'][['product']].value_counts().head(15)"
   ]
  },
  {
   "cell_type": "markdown",
   "id": "da894121",
   "metadata": {},
   "source": [
    "Exra information is generally:\n",
    "\n",
    "1) phone memory: 8Gb/16GB/32GB etc\n",
    "\n",
    "2) phone colour: Marble white, Blue, Red etc\n",
    "\n",
    "3) carrier: AT&T, Verizon etc\n",
    "\n",
    "Another observation is that these specifications are not present in all the product names, for eg: there is no-way available to differentiate between the 2 products below:\n",
    "\n",
    "1) 'Samsung Galaxy S III Cellular Phone' and\n",
    "\n",
    "2) 'Samsung Galaxy S III SPH-L710 - 16GB - Marble White (Sprint) Smartphone'\n",
    "\n",
    "Thus, differentiating information is not same in all the product details. Also, the goal is to recommend a phone not the carrier. and other specs like color etc are of low importance in recommendation. The only consistent differentiating information in all the product names is the 'phone manufacturer and model number', which can also be extracted from 'phone_url' column. Let's check for other phone names as well."
   ]
  },
  {
   "cell_type": "code",
   "execution_count": 16,
   "id": "86ae3c40",
   "metadata": {},
   "outputs": [
    {
     "data": {
      "text/plain": [
       "product                                                                          \n",
       "Apple iPhone 5s (Silver, 16GB)                                                       1603\n",
       "Apple iPhone 5s 16GB (ÑÐµÑÐµÐ±ÑÐ¸ÑÑÑÐ¹)                                        1355\n",
       "Apple iPhone 5s GSM Unlocked Cellphone, 16 GB, Space Gray                            1273\n",
       "Apple iPhone 5s (Gold, 16GB)                                                          682\n",
       "Apple iPhone 5s 16GB (ÑÐµÑÑÐ¹ ÐºÐ¾ÑÐ¼Ð¾Ñ)                                        592\n",
       "iPhone 5S APPLE IPHONE 5S 32GB SILVER UNLOCKED                                        434\n",
       "Apple iPhone 5S (Silver, 16 GB)                                                       429\n",
       "Sim Free Apple iPhone 5S 16GB Mobile Phone - Space Grey                               349\n",
       "Apple iPhone 5S 16Gb                                                                  326\n",
       "Sim Free Apple iPhone 5S 16GB Mobile Phone - Silver                                   286\n",
       "Apple iPhone 5s 16GB (Space Gray) - Verizon Wireless                                  284\n",
       "Apple iPhone 5S 16GB Black                                                            248\n",
       "Apple iPhone 5s T-Mobile Cellphone, 16GB, Space Gray                                  238\n",
       "Apple iPhone 5S 16GB Grigio [Italia]                                                  217\n",
       "Apple iPhone 5S Gold 64GB SIM-Free Smartphone (Zertifiziert und GeneralÃ¼berholt)     202\n",
       "dtype: int64"
      ]
     },
     "execution_count": 16,
     "metadata": {},
     "output_type": "execute_result"
    }
   ],
   "source": [
    "# frequency count of 'product' column for 'apple-iphone-5s' type phone\n",
    "reviews[reviews[\"phone_url\"]=='/cellphones/apple-iphone-5s/'][['product']].value_counts().head(15)"
   ]
  },
  {
   "cell_type": "code",
   "execution_count": 17,
   "id": "084e37b1",
   "metadata": {},
   "outputs": [
    {
     "data": {
      "text/plain": [
       "product                                                                                                                             \n",
       "Samsung Galaxy S6 zwart / 32 GB                                                                                                         2345\n",
       "Samsung Galaxy S6 32GB (AT&T)                                                                                                            979\n",
       "Samsung Galaxy S6 32GB (Sprint)                                                                                                          935\n",
       "Samsung Galaxy S6 32GB (Verizon)                                                                                                         919\n",
       "Samsung Galaxy S6 wit / 32 GB                                                                                                            801\n",
       "Samsung Galaxy S6 32GB (T-Mobile)                                                                                                        736\n",
       "Samsung Galaxy S6                                                                                                                        595\n",
       "Samsung Galaxy S6 64 GB UK SIM-Free Smartphone - Gold                                                                                    468\n",
       "Samsung Galaxy S6 64GB (Verizon)                                                                                                         464\n",
       "Samsung Galaxy S6 Smartphone (5,1 Zoll (12,9 cm) Touch-Display, 128 GB Speicher, Android 5.0) gold (Nur fÃ¼r EuropÃ¤ische SIM-Karte)     397\n",
       "Samsung Galaxy S6, Black Sapphire 32GB (Verizon Wireless)                                                                                345\n",
       "Samsung Galaxy S6 Smartphone dÃ©bloquÃ© 4G (5.1 pouces - 64 Go - Android 5.0 Lollipop) Noir (import Allemagne)                           316\n",
       "Samsung G920 Galaxy S6 Smartphone, 32 GB, Oro [Italia]                                                                                   259\n",
       "Samsung Galaxy S6 64GB (AT&T)                                                                                                            258\n",
       "Samsung Galaxy S6 32GB SM-G920i - Unlocked White (International Version)                                                                 250\n",
       "dtype: int64"
      ]
     },
     "execution_count": 17,
     "metadata": {},
     "output_type": "execute_result"
    }
   ],
   "source": [
    "# frequency count of 'product' column for 'samsung-galaxy-s6' type phone\n",
    "reviews[reviews[\"phone_url\"]=='/cellphones/samsung-galaxy-s6/'][['product']].value_counts().head(15)"
   ]
  },
  {
   "cell_type": "code",
   "execution_count": 18,
   "id": "1d6f8f9f",
   "metadata": {},
   "outputs": [
    {
     "data": {
      "text/plain": [
       "product                                                                                                   \n",
       "Samsung Galaxy S5 16GB (Verizon)                                                                              1432\n",
       "Samsung Galaxy S5 16GB (T-Mobile)                                                                             1165\n",
       "Samsung Galaxy S5 16GB (AT&T)                                                                                 1079\n",
       "Smartphone Samsung Galaxy S5 SM-G900                                                                           671\n",
       "Samsung Galaxy S5 Smartphone (5,1 Zoll (12,9 cm) Touch-Display, 16 GB Speicher, Android 4.4) electric blue     664\n",
       "Samsung Galaxy S5 SM-G900T 4G LTE 16GB Smartphone, Black (T-Mobile)                                            513\n",
       "Samsung Galaxy S5 goud / 16 GB                                                                                 480\n",
       "Samsung Galaxy S5 16GB (Sprint)                                                                                452\n",
       "Samsung Galaxy S5 SM-G900F 16GB Factory Unlocked Cellphone International Version, Retail Packaging, Black      330\n",
       "Samsung Galaxy S5 SM-G900A GSM Unlocked Cellphone, 16GB, Black                                                 288\n",
       "Samsung Galaxy S5 SM-G900F 16GB (ÑÐµÑÐ½ÑÐ¹)                                                                 217\n",
       "Samsung Galaxy S5 SM-G900F 16GB (ÑÐ¸Ð½Ð¸Ð¹)                                                                   217\n",
       "Samsung Galaxy S5 SM-G900F 16GB (Ð·Ð¾Ð»Ð¾ÑÐ¸ÑÑÑÐ¹)                                                         217\n",
       "Samsung Galaxy S5 SM-G900F 16GB (Ð±ÐµÐ»ÑÐ¹)                                                                   217\n",
       "SAMSUNG Galaxy S5 (Copper Gold, 16 GB)                                                                         214\n",
       "dtype: int64"
      ]
     },
     "execution_count": 18,
     "metadata": {},
     "output_type": "execute_result"
    }
   ],
   "source": [
    "# frequency count of 'product' column for 'samsung-galaxy-s5' type phone\n",
    "reviews[reviews[\"phone_url\"]=='/cellphones/samsung-galaxy-s5/'][['product']].value_counts().head(15)"
   ]
  },
  {
   "cell_type": "markdown",
   "id": "a6cc6036",
   "metadata": {},
   "source": [
    "As can be seen, same pattern is visible for the most comun types of phones. Thus it is better to use phone name and model number rather than other details mentioned in 'product' column."
   ]
  },
  {
   "cell_type": "code",
   "execution_count": 19,
   "id": "166c2e01",
   "metadata": {},
   "outputs": [
    {
     "data": {
      "text/plain": [
       "array(['samsung galaxy s8', 'samsung galaxy s6 edgeplus',\n",
       "       'samsung galaxy s8 plus', ..., 'siemens c10', 'maxon mx 3204',\n",
       "       'alcatel ot club_1187'], dtype=object)"
      ]
     },
     "execution_count": 19,
     "metadata": {},
     "output_type": "execute_result"
    }
   ],
   "source": [
    "reviews['phone'] = reviews['phone_url'].str.split(\"/\").apply(lambda col: col[2]).replace('-', ' ', regex=True)\n",
    "reviews['product'] = reviews['phone']\n",
    "reviews['phone'].unique()"
   ]
  },
  {
   "cell_type": "code",
   "execution_count": 20,
   "id": "7b7ae7fd",
   "metadata": {},
   "outputs": [
    {
     "data": {
      "text/plain": [
       "(1415133,)"
      ]
     },
     "execution_count": 20,
     "metadata": {},
     "output_type": "execute_result"
    }
   ],
   "source": [
    "reviews['product'].shape"
   ]
  },
  {
   "cell_type": "code",
   "execution_count": 21,
   "id": "b83ff824",
   "metadata": {},
   "outputs": [
    {
     "name": "stdout",
     "output_type": "stream",
     "text": [
      "Distribution of number of ratings per item (Clipped at 10): \n",
      " samsung galaxy s iii         17093\n",
      "apple iphone 5s              16379\n",
      "samsung galaxy s6            16145\n",
      "samsung galaxy s5            16082\n",
      "samsung galaxy s7 edge       15917\n",
      "motorola moto g              14476\n",
      "samsung galaxy s7 789999     13488\n",
      "samsung i9500 galaxy s iv    13161\n",
      "huawei p8 lite               12629\n",
      "lenovo vibe k4 note           9662\n",
      "Name: product, dtype: int64\n"
     ]
    },
    {
     "data": {
      "image/png": "[encoded data removed]",
      "text/plain": [
       "<Figure size 432x288 with 1 Axes>"
      ]
     },
     "metadata": {
      "needs_background": "light"
     },
     "output_type": "display_data"
    }
   ],
   "source": [
    "product = reviews['product'].value_counts()[:10]\n",
    "print('Distribution of number of ratings per item (Clipped at 10): \\n',product)\n",
    "sns.barplot(y=product.index,x=product)\n",
    "plt.tight_layout()\n",
    "plt.show()"
   ]
  },
  {
   "cell_type": "code",
   "execution_count": 22,
   "id": "6cd5744d",
   "metadata": {},
   "outputs": [
    {
     "name": "stdout",
     "output_type": "stream",
     "text": [
      "Distribution of number of ratings per user(Clipped at 10): \n",
      " Amazon Customer    76978\n",
      "NaN                63202\n",
      "Cliente Amazon     19304\n",
      "e-bit               8663\n",
      "Client d'Amazon     7716\n",
      "Amazon Kunde        4750\n",
      "Anonymous           2750\n",
      "einer Kundin        2610\n",
      "einem Kunden        1898\n",
      "unknown             1738\n",
      "Name: author, dtype: int64\n"
     ]
    },
    {
     "data": {
      "image/png": "[encoded data removed]",
      "text/plain": [
       "<Figure size 432x288 with 1 Axes>"
      ]
     },
     "metadata": {
      "needs_background": "light"
     },
     "output_type": "display_data"
    }
   ],
   "source": [
    "users = reviews['author'].value_counts(dropna=False)[:10]\n",
    "print('Distribution of number of ratings per user(Clipped at 10): \\n',users)\n",
    "users.index = users.index.map(str)\n",
    "sns.barplot(y=users.index,x=users)\n",
    "plt.tight_layout()\n",
    "plt.show()"
   ]
  },
  {
   "cell_type": "markdown",
   "id": "dc1db198",
   "metadata": {},
   "source": [
    "Following observations are made:\n",
    "\n",
    "1) Most active user is 'Amazon customer'.\n",
    "\n",
    "2) 'Anonymous' and 'unknown' users are those whose names are not known. Thus we can use this to impute blank values in 'author' column.\n",
    "\n",
    "3) Many names are similar but in different languages like 'Amazon customer' and 'Cliente Amazon'. Let's search for these first and cleanup the differences due to language.\n",
    "\n",
    "Names like 'einer Kundin', 'einem Kunden', 'Anonymous' and 'unknown' can be interpreted in the same way i.e. an 'unknown customer'. Let's replace these names too."
   ]
  },
  {
   "cell_type": "code",
   "execution_count": 23,
   "id": "6849618f",
   "metadata": {},
   "outputs": [],
   "source": [
    "unknowns = ['Anonymous','einer Kundin','einem Kunden', 'unknown','Anonymous ']\n",
    "reviews['author'].replace(to_replace = unknowns, \n",
    "                          value = 'Anonymous', \n",
    "                          inplace=True)"
   ]
  },
  {
   "cell_type": "code",
   "execution_count": 24,
   "id": "56de0d93",
   "metadata": {},
   "outputs": [
    {
     "name": "stdout",
     "output_type": "stream",
     "text": [
      "Distribution of number of ratings per user(Clipped at 10): \n",
      " Amazon Customer       76978\n",
      "NaN                   63202\n",
      "Cliente Amazon        19304\n",
      "Anonymous             10457\n",
      "e-bit                  8663\n",
      "Client d'Amazon        7716\n",
      "Amazon Kunde           4750\n",
      "ÐÐ»ÐµÐºÑÐ°Ð½Ð´Ñ     1071\n",
      "David                  1016\n",
      "Ð¡ÐµÑÐ³ÐµÐ¹            904\n",
      "Name: author, dtype: int64\n"
     ]
    },
    {
     "data": {
      "image/png": "[encoded data removed]",
      "text/plain": [
       "<Figure size 432x288 with 1 Axes>"
      ]
     },
     "metadata": {
      "needs_background": "light"
     },
     "output_type": "display_data"
    }
   ],
   "source": [
    "users = reviews['author'].value_counts(dropna=False)[:10]\n",
    "print('Distribution of number of ratings per user(Clipped at 10): \\n',users)\n",
    "users.index = users.index.map(str)\n",
    "sns.barplot(y=users.index,x=users)\n",
    "plt.tight_layout()\n",
    "plt.show()"
   ]
  },
  {
   "cell_type": "code",
   "execution_count": 25,
   "id": "0fb99ad8",
   "metadata": {},
   "outputs": [
    {
     "name": "stdout",
     "output_type": "stream",
     "text": [
      "Uniqe values in the \"score\" feature: \n",
      " [10.   6.   9.2  4.   8.   2.   9.6  7.2  6.8  9.   8.3  8.8  8.4  5.3\n",
      "  7.   6.4  7.6  nan  5.2  3.2  4.4  2.8  5.6  3.6  4.8  1.   5.   3.\n",
      "  2.4  9.3  8.5  9.5  6.5  5.5  9.8  8.2  8.6  7.8  9.4  6.6  6.2  7.5\n",
      "  9.9  2.7  8.7  6.7  3.3  7.7  7.3  9.7  6.3  7.4  5.7  4.7  4.3  5.8\n",
      "  4.2  4.5  2.2  5.4  7.9  3.5  4.6  3.7  2.5  3.4  7.1  8.1  1.2  1.4\n",
      "  3.8  9.1  2.6  1.6  1.7  1.5  1.8  2.3  6.1  5.9  1.3  0.2  0.4  8.9\n",
      "  6.9  0.6  4.9]\n"
     ]
    }
   ],
   "source": [
    "# Let's check the score column of the data\n",
    "print('Uniqe values in the \"score\" feature: \\n',reviews.score.unique())"
   ]
  },
  {
   "cell_type": "markdown",
   "id": "c7691fd5",
   "metadata": {},
   "source": [
    "Rounding it off to the nearest integer."
   ]
  },
  {
   "cell_type": "code",
   "execution_count": 26,
   "id": "05f01155",
   "metadata": {},
   "outputs": [],
   "source": [
    "relevant_features=['author','product','score']\n",
    "# irrelvant_features=['phone_url','date','lang','country','source','domain','score_max','extract']"
   ]
  },
  {
   "cell_type": "code",
   "execution_count": 27,
   "id": "e1a2aa91",
   "metadata": {},
   "outputs": [
    {
     "name": "stdout",
     "output_type": "stream",
     "text": [
      "Number of duplicate rows:  24877\n"
     ]
    }
   ],
   "source": [
    "print('Number of duplicate rows: ', reviews.duplicated().sum())"
   ]
  },
  {
   "cell_type": "code",
   "execution_count": 28,
   "id": "36b47b01",
   "metadata": {},
   "outputs": [],
   "source": [
    "orgnl_rows = reviews.shape[0]\n",
    "orgnl_columns = reviews.shape[1]"
   ]
  },
  {
   "cell_type": "code",
   "execution_count": 29,
   "id": "6fc9090a",
   "metadata": {},
   "outputs": [
    {
     "name": "stdout",
     "output_type": "stream",
     "text": [
      "Step1: revs1 Shape after removing irrelevant features: Rows: 1415133 and Columns: 3\n",
      "\n",
      "Step2: Round-off: Unique values in the \"score\" feature(after rounding-off): \n",
      " [10, 6, 9, 4, 8, 2, 7, 5, <NA>, 3, 1, 0]\n",
      "\n",
      "Step3: Imputation of \"score\"  with median and \"author\" with \"Anonymous\"\n",
      "\n",
      "Step4: revs1 Shape(after removing missing values): Rows: 1341474 and Columns: 3\n",
      "\n",
      "Step5: revs1 Shape(after removing duplicates): Rows: 1154026 and Columns: 3\n",
      "\n",
      "Overall 18.45% samples are dropped\n",
      "\n"
     ]
    },
    {
     "data": {
      "text/html": [
       "<div>\n",
       "<style scoped>\n",
       "    .dataframe tbody tr th:only-of-type {\n",
       "        vertical-align: middle;\n",
       "    }\n",
       "\n",
       "    .dataframe tbody tr th {\n",
       "        vertical-align: top;\n",
       "    }\n",
       "\n",
       "    .dataframe thead th {\n",
       "        text-align: right;\n",
       "    }\n",
       "</style>\n",
       "<table border=\"1\" class=\"dataframe\">\n",
       "  <thead>\n",
       "    <tr style=\"text-align: right;\">\n",
       "      <th></th>\n",
       "      <th>author</th>\n",
       "      <th>product</th>\n",
       "      <th>score</th>\n",
       "    </tr>\n",
       "  </thead>\n",
       "  <tbody>\n",
       "    <tr>\n",
       "      <th>0</th>\n",
       "      <td>CarolAnn35</td>\n",
       "      <td>samsung galaxy s8</td>\n",
       "      <td>10</td>\n",
       "    </tr>\n",
       "    <tr>\n",
       "      <th>1</th>\n",
       "      <td>james0923</td>\n",
       "      <td>samsung galaxy s8</td>\n",
       "      <td>10</td>\n",
       "    </tr>\n",
       "    <tr>\n",
       "      <th>2</th>\n",
       "      <td>R. Craig</td>\n",
       "      <td>samsung galaxy s8</td>\n",
       "      <td>6</td>\n",
       "    </tr>\n",
       "    <tr>\n",
       "      <th>3</th>\n",
       "      <td>Buster2020</td>\n",
       "      <td>samsung galaxy s8</td>\n",
       "      <td>9</td>\n",
       "    </tr>\n",
       "    <tr>\n",
       "      <th>4</th>\n",
       "      <td>S Ate Mine</td>\n",
       "      <td>samsung galaxy s8</td>\n",
       "      <td>4</td>\n",
       "    </tr>\n",
       "  </tbody>\n",
       "</table>\n",
       "</div>"
      ],
      "text/plain": [
       "        author            product  score\n",
       "0   CarolAnn35  samsung galaxy s8     10\n",
       "1    james0923  samsung galaxy s8     10\n",
       "2     R. Craig  samsung galaxy s8      6\n",
       "3  Buster2020   samsung galaxy s8      9\n",
       "4   S Ate Mine  samsung galaxy s8      4"
      ]
     },
     "execution_count": 29,
     "metadata": {},
     "output_type": "execute_result"
    }
   ],
   "source": [
    "revs1 = reviews.copy()\n",
    "\n",
    "# Delete data which is not useful anymore, to save memory\n",
    "del reviews\n",
    "\n",
    "# Step1: remove irrelevant features\n",
    "revs1 = revs1.loc[:,relevant_features]\n",
    "print(f'Step1: revs1 Shape after removing irrelevant features: Rows: {revs1.shape[0]} and Columns: {revs1.shape[1]}\\n')\n",
    "\n",
    "# Step2: Round-off score feature to nearest integer\n",
    "revs1['score'] = revs1['score'].round(0).astype('Int64')\n",
    "print('Step2: Round-off: Unique values in the \"score\" feature(after rounding-off): \\n',list(revs1.score.unique()))\n",
    "\n",
    "# Step3: Impute missing values in score feature with median\n",
    "revs1['score'] = revs1['score'].fillna(revs1['score'].median())\n",
    "print('\\nStep3: Imputation of \"score\"  with median and \"author\" with \"Anonymous\"')\n",
    "\n",
    "# Step4: remove samples with missing values in 'Product' and 'author' feature and also 'Anonymous' values\n",
    "revs1.dropna(inplace=True)\n",
    "revs1 = revs1[revs1[\"author\"] != 'Anonymous']\n",
    "print(f'\\nStep4: revs1 Shape(after removing missing values): Rows: {revs1.shape[0]} and Columns: {revs1.shape[1]}\\n')\n",
    "\n",
    "# Step5: remove duplicates, if any\n",
    "revs1 = revs1.drop_duplicates()\n",
    "print(f'Step5: revs1 Shape(after removing duplicates): Rows: {revs1.shape[0]} and Columns: {revs1.shape[1]}\\n')\n",
    "\n",
    "print(f'Overall {round(100 - revs1.shape[0]*100/orgnl_rows,2)}% samples are dropped\\n')\n",
    "revs1.head()"
   ]
  },
  {
   "cell_type": "code",
   "execution_count": 31,
   "id": "e366e71b",
   "metadata": {},
   "outputs": [
    {
     "name": "stdout",
     "output_type": "stream",
     "text": [
      "revs2 Shape: Rows: 1000000 and Columns: 3\n",
      "\n"
     ]
    }
   ],
   "source": [
    "# separate 1 million data samples\n",
    "RS=512 #just a constant\n",
    "revs_1m = revs1.sample(n=1000000, random_state=RS)\n",
    "print(f'revs2 Shape: Rows: {revs_1m.shape[0]} and Columns: {revs_1m.shape[1]}\\n')"
   ]
  },
  {
   "cell_type": "markdown",
   "id": "333380ab",
   "metadata": {},
   "source": [
    "# 2."
   ]
  },
  {
   "cell_type": "code",
   "execution_count": 32,
   "id": "ef5f6e07",
   "metadata": {},
   "outputs": [
    {
     "name": "stdout",
     "output_type": "stream",
     "text": [
      "Most rated features/products: \n",
      "\n",
      " samsung galaxy s5         11437\n",
      "samsung galaxy s6         11089\n",
      "motorola moto g           10363\n",
      "samsung galaxy s7 edge    10359\n",
      "apple iphone 5s           10230\n",
      "Name: product, dtype: int64\n"
     ]
    }
   ],
   "source": [
    "# 1. Most rated features\n",
    "print('Most rated features/products: \\n\\n',revs_1m['product'].value_counts().head())"
   ]
  },
  {
   "cell_type": "code",
   "execution_count": 33,
   "id": "26bad99d",
   "metadata": {},
   "outputs": [
    {
     "data": {
      "image/png": "[encoded data removed]",
      "text/plain": [
       "<Figure size 432x288 with 1 Axes>"
      ]
     },
     "metadata": {
      "needs_background": "light"
     },
     "output_type": "display_data"
    }
   ],
   "source": [
    "# find out which rating is given highest number of times\n",
    "sns.countplot(data=revs_1m , x='score')\n",
    "plt.show()"
   ]
  },
  {
   "cell_type": "code",
   "execution_count": 34,
   "id": "a5f96c7b",
   "metadata": {},
   "outputs": [
    {
     "data": {
      "text/plain": [
       "Amazon Customer    1530\n",
       "Cliente Amazon      519\n",
       "Amazon Kunde        422\n",
       "Client d'Amazon     301\n",
       "David               292\n",
       "Alex                274\n",
       "Daniel              258\n",
       "Marco               229\n",
       "Chris               228\n",
       "Michael             210\n",
       "Name: author, dtype: int64"
      ]
     },
     "execution_count": 34,
     "metadata": {},
     "output_type": "execute_result"
    }
   ],
   "source": [
    "revs1[revs1['score']==10]['author'].value_counts().head(10)"
   ]
  },
  {
   "cell_type": "code",
   "execution_count": 35,
   "id": "faeadeaf",
   "metadata": {},
   "outputs": [
    {
     "name": "stdout",
     "output_type": "stream",
     "text": [
      "Users with highest number of reviews: \n",
      "\n",
      " Amazon Customer    4854\n",
      "Cliente Amazon     1677\n",
      "Amazon Kunde       1165\n",
      "Client d'Amazon    1011\n",
      "David               561\n",
      "Name: author, dtype: int64\n"
     ]
    }
   ],
   "source": [
    "# 2. Users with highest number of reviews\n",
    "print('Users with highest number of reviews: \\n\\n',revs_1m['author'].value_counts().head())"
   ]
  },
  {
   "cell_type": "code",
   "execution_count": 36,
   "id": "5b736d67",
   "metadata": {},
   "outputs": [
    {
     "name": "stdout",
     "output_type": "stream",
     "text": [
      "Number of authors who have given >50 rating:  805\n",
      "Number of products with >50 rating:  2496\n",
      "\n",
      "revs_50: Rows: 95672 and Columns: 3\n",
      "\n"
     ]
    },
    {
     "data": {
      "text/html": [
       "<div>\n",
       "<style scoped>\n",
       "    .dataframe tbody tr th:only-of-type {\n",
       "        vertical-align: middle;\n",
       "    }\n",
       "\n",
       "    .dataframe tbody tr th {\n",
       "        vertical-align: top;\n",
       "    }\n",
       "\n",
       "    .dataframe thead th {\n",
       "        text-align: right;\n",
       "    }\n",
       "</style>\n",
       "<table border=\"1\" class=\"dataframe\">\n",
       "  <thead>\n",
       "    <tr style=\"text-align: right;\">\n",
       "      <th></th>\n",
       "      <th>author</th>\n",
       "      <th>product</th>\n",
       "      <th>score</th>\n",
       "    </tr>\n",
       "  </thead>\n",
       "  <tbody>\n",
       "    <tr>\n",
       "      <th>66</th>\n",
       "      <td>James</td>\n",
       "      <td>samsung galaxy s8</td>\n",
       "      <td>10</td>\n",
       "    </tr>\n",
       "    <tr>\n",
       "      <th>161</th>\n",
       "      <td>Paul</td>\n",
       "      <td>samsung galaxy s8</td>\n",
       "      <td>10</td>\n",
       "    </tr>\n",
       "    <tr>\n",
       "      <th>167</th>\n",
       "      <td>Robert</td>\n",
       "      <td>samsung galaxy s8</td>\n",
       "      <td>10</td>\n",
       "    </tr>\n",
       "    <tr>\n",
       "      <th>179</th>\n",
       "      <td>Michelle</td>\n",
       "      <td>samsung galaxy s8</td>\n",
       "      <td>10</td>\n",
       "    </tr>\n",
       "    <tr>\n",
       "      <th>225</th>\n",
       "      <td>Andrew</td>\n",
       "      <td>samsung galaxy s8</td>\n",
       "      <td>10</td>\n",
       "    </tr>\n",
       "  </tbody>\n",
       "</table>\n",
       "</div>"
      ],
      "text/plain": [
       "       author            product  score\n",
       "66      James  samsung galaxy s8     10\n",
       "161      Paul  samsung galaxy s8     10\n",
       "167    Robert  samsung galaxy s8     10\n",
       "179  Michelle  samsung galaxy s8     10\n",
       "225    Andrew  samsung galaxy s8     10"
      ]
     },
     "execution_count": 36,
     "metadata": {},
     "output_type": "execute_result"
    }
   ],
   "source": [
    "# 3. Select data with products having >50 ratings and users who have given > 50 ratings\n",
    "author50 = revs1['author'].value_counts()\n",
    "author50 = author50[author50>50].index.tolist() # list of authors with > 50 ratings\n",
    "print('Number of authors who have given >50 rating: ', len(author50))\n",
    "\n",
    "product50 = revs1['product'].value_counts()\n",
    "product50 = product50[product50>50].index.tolist() # list of products with > 50 ratings\n",
    "print('Number of products with >50 rating: ', len(product50))\n",
    "\n",
    "revs_50 = revs1[(revs1['author'].isin(author50)) & (revs1['product'].isin(product50))]\n",
    "print(f'\\nrevs_50: Rows: {revs_50.shape[0]} and Columns: {revs_50.shape[1]}\\n')\n",
    "del author50, product50\n",
    "revs_50.head()"
   ]
  },
  {
   "cell_type": "code",
   "execution_count": 37,
   "id": "77f223f1",
   "metadata": {},
   "outputs": [
    {
     "data": {
      "text/plain": [
       "array(['James', 'Paul', 'Robert', 'Michelle', 'Andrew', 'Ralf',\n",
       "       'Ð\\x90Ð½Ð°Ñ\\x82Ð¾Ð»Ð¸Ð¹', 'alessandro', 'Roberto',\n",
       "       'Ð\\x95Ð³Ð¾Ñ\\x80', 'Ð\\x92Ð»Ð°Ð´Ð¸Ð¼Ð¸Ñ\\x80',\n",
       "       'Ð\\x90Ð»ÐµÐºÑ\\x81Ð°Ð½Ð´Ñ\\x80', 'Ð¡ÐµÑ\\x80Ð³ÐµÐ¹', 'Michael',\n",
       "       'Marco', 'Jan', 'Hans', 'Kim', 'Stefan', 'Nick', 'AndrÃ©', 'Kelly',\n",
       "       'Manuel', 'Danilo', 'Ð\\x9dÐ°Ð´ÐµÐ¶Ð´Ð°', 'Ð\\x98Ð³Ð¾Ñ\\x80Ñ\\x8c',\n",
       "       'Ð\\x90Ð»ÐµÐºÑ\\x81ÐµÐ¹', 'alex', 'Julien', \"Client d'Amazon\",\n",
       "       'Client Amazon', 'Carlos', 'David', 'William', 'Amazon Customer',\n",
       "       'Kindle Customer', 'bob', 'Gabriel', 'Denis', 'Sara', 'Dennis',\n",
       "       'Fabian', 'MS', 'Jim', 'anonymous', 'Peter', 'Juan', 'Daniel',\n",
       "       'Victor', 'Amber', 'Jennifer', 'Joseph', 'Ann', 'claudia', 'Mike',\n",
       "       'Adam', 'Melanie', 'Adrian', 'mike', 'jose', 'Christine', 'JC',\n",
       "       'Sam', 'juan', 'Lee', 'Carla', 'Steve', 'Marina', 'Samuel', 'Jay',\n",
       "       'Scott', 'Cliente Amazon', 'Amazon Kunde', 'Lorenzo', 'Pseudonym',\n",
       "       'Chiara', 'Simone', 'Paulo', 'Giuseppe', 'Matteo', 'domenico',\n",
       "       'Daniela', 'Carlo', 'Enzo', 'e-bit', 'Marcos', 'AnÃ´nimo',\n",
       "       'Marcelo', 'Andrea', 'mary', 'Valentina', 'Ð\\x9cÐ°Ñ\\x80Ð¸Ð½Ð°',\n",
       "       'Ð\\x95Ð»ÐµÐ½Ð°', 'Bruno', 'Gianluca', 'Simon', 'Pietro', 'alberto',\n",
       "       'Giacomo', 'Gaetano'], dtype=object)"
      ]
     },
     "execution_count": 37,
     "metadata": {},
     "output_type": "execute_result"
    }
   ],
   "source": [
    "revs_50['author'].unique()[:100]"
   ]
  },
  {
   "cell_type": "code",
   "execution_count": 38,
   "id": "6997e5dc",
   "metadata": {},
   "outputs": [
    {
     "data": {
      "text/plain": [
       "array(['samsung galaxy s8', 'samsung galaxy s6 edgeplus',\n",
       "       'samsung galaxy s8 plus', 'samsung galaxy s7 edge',\n",
       "       'apple iphone 6s plus', 'samsung galaxy s7 789999',\n",
       "       'apple iphone 7 plus', 'apple iphone 6s', 'huawei honor 7',\n",
       "       'apple iphone 7', 'huawei ascend mate 8', 'xiaomi redmi 3',\n",
       "       'apple iphone se', 'huawei p9 plus', 'htc 10', 'huawei honor 8',\n",
       "       'huawei p9 lite', 'huawei mate 9', 'oneplus 3',\n",
       "       'samsung galaxy s6 edge sm g925f', 'lg v10', 'google nexus 6p',\n",
       "       'huawei p9 797082', 'samsung galaxy a5 2017',\n",
       "       'samsung galaxy j5 4g lte 5 2 inches', 'samsung galaxy s6',\n",
       "       'huawei p10', 'sony xperia xz', 'huawei p8', 'oneplus 3t',\n",
       "       'samsung galaxy note 5 sm n920f', 'zte axon 7',\n",
       "       'motorola moto x play', 'lg k10', 'samsung galaxy j5',\n",
       "       'samsung galaxy a3 819970', 'samsung galaxy j3 duos',\n",
       "       'xiaomi mi 5', 'asus zenfone 3', 'motorola moto z play',\n",
       "       'vodafone smart ultra 6', 'samsung galaxy a5 2016',\n",
       "       'huawei mate s', 'lg g6', 'motorola xt1225', 'huawei p10 plus',\n",
       "       'samsung galaxy s7 active', 'motorola moto x style',\n",
       "       'huawei honor 6x', 'xiaomi redmi note 2', 'lg x power',\n",
       "       'sony xperia z5 premium', 'huawei honor 6 plus',\n",
       "       'sony xperia x compact', 'samsung galaxy s6 active sm g890',\n",
       "       'xiaomi mi max', 'huawei g8', 'sony xperia z5', 'lg g5',\n",
       "       'samsung galaxy a3 2016', 'microsoft lumia 640 dual sim',\n",
       "       'lenovo moto g4', 'xiaomi redmi note 3 pro',\n",
       "       'samsung galaxy j1 2016 4 5 sm j120', 'huawei honor 4x',\n",
       "       'huawei honor 4c', 'huawei ascend mate 7', 'huawei nova plus',\n",
       "       'huawei p8 lite', 'huawei p8 lite 2017', 'lenovo k6 dual',\n",
       "       'google pixel xl', 'xiaomi mi 4c',\n",
       "       'sony xperia x performance f8131', 'huawei nova',\n",
       "       'samsung galaxy j7 2016', 'huawei honor 5x',\n",
       "       'samsung galaxy s5 neo sm g903f', 'xiaomi redmi 3 pro',\n",
       "       'samsung galaxy a9 pro dual sm a9100', 'huawei honor 7 lite',\n",
       "       'blackberry priv', 'lenovo moto g4 play', 'huawei honor 6',\n",
       "       'blackberry dtek60', 'samsung galaxy a5', 'sony xperia z5 compact',\n",
       "       'oppo r7 plus', 'microsoft lumia 640 xl',\n",
       "       'alcatel one touch idol 4s', 'lg h410', 'zte zmax 2',\n",
       "       'google nexus 5x h791', 'lg g5 titan',\n",
       "       'asus zenfone selfie zd551kl', 'meizu pro 5', 'lg v20 h990',\n",
       "       'samsung galaxy a7 2016', 'blackberry passport', 'wiko fever'],\n",
       "      dtype=object)"
      ]
     },
     "execution_count": 38,
     "metadata": {},
     "output_type": "execute_result"
    }
   ],
   "source": [
    "revs_50['product'].unique()[:100]"
   ]
  },
  {
   "cell_type": "code",
   "execution_count": 67,
   "id": "06d6f244",
   "metadata": {},
   "outputs": [],
   "source": [
    "target = 3000\n",
    "top50_product = revs1['product'].value_counts()[0:50].rename('rating_count').to_frame()\n",
    "top50_product['mean_ratings']=revs1[revs1['product'].isin(top50_product.index.tolist())].groupby(['product'])['score'].mean().astype('float64').round(1)\n",
    "top50_product.sort_values(by='mean_ratings',inplace=True)\n",
    "#print('Number of products with >'+str(target)+' rating: ', len(top50_product))"
   ]
  },
  {
   "cell_type": "code",
   "execution_count": 46,
   "id": "097e7c25",
   "metadata": {},
   "outputs": [
    {
     "data": {
      "application/vnd.plotly.v1+json": {
       "config": {
        "plotlyServerURL": "https://plot.ly"
       },
       "data": [
        {
         "hovertemplate": "index=%{x}<br>mean_ratings=%{y}<br>rating_count=%{marker.size}<extra></extra>",
         "legendgroup": "",
         "marker": {
          "color": "#636efa",
          "size": [
           3931,
           6370,
           3097,
           3179,
           5181,
           5121,
           5145,
           6348,
           3135,
           3162,
           5007,
           7423,
           3085,
           3835,
           5884,
           4050,
           11200,
           4371,
           6525,
           7223,
           7289,
           3450,
           3165,
           4972,
           3071,
           13195,
           4992,
           11848,
           7599,
           6864,
           4376,
           3214,
           4762,
           4767,
           3659,
           3643,
           3819,
           3929,
           3905,
           5763,
           4154,
           4162,
           3554,
           12764,
           6618,
           4129,
           11936,
           11991,
           10637,
           4275
          ],
          "sizemode": "area",
          "sizeref": 3.665277777777778,
          "symbol": "circle"
         },
         "mode": "markers",
         "name": "",
         "orientation": "v",
         "showlegend": false,
         "type": "scatter",
         "x": [
          "lenovo vibe k4 note",
          "apple iphone 5",
          "sony xperia z3 compact",
          "samsung galaxy s duos s7562",
          "samsung galaxy ace s5830",
          "apple iphone 5c",
          "lg g4",
          "apple iphone 4",
          "asus zenfone 2",
          "samsung galaxy s5 mini",
          "samsung s5230",
          "apple iphone 4s",
          "google nexus 5x h791",
          "htc one m7",
          "apple iphone 6",
          "samsung galaxy note 4",
          "samsung i9500 galaxy s iv",
          "nokia lumia 520",
          "lg g3 d855 657484",
          "samsung galaxy s4 mini gt i9190 gt i9192 dual sim",
          "samsung galaxy s iii",
          "nokia n95",
          "htc m8",
          "motorola moto e",
          "nokia lumia 920",
          "samsung galaxy s5",
          "samsung galaxy note iii",
          "apple iphone 5s",
          "huawei p8 lite",
          "samsung galaxy s3 mini",
          "nokia 5800 xpressmusic tube",
          "apple iphone se",
          "samsung galaxy s ii",
          "samsung galaxy j3 duos",
          "microsoft lumia 640 dual sim",
          "samsung galaxy j5",
          "nokia lumia 630",
          "apple iphone 7",
          "lg google nexus 5",
          "lg g2 594708",
          "apple iphone 6s",
          "oneplus 3",
          "huawei p9 lite",
          "samsung galaxy s6",
          "samsung galaxy s6 edge sm g925f",
          "samsung galaxy note 2",
          "samsung galaxy s7 edge",
          "motorola moto g",
          "samsung galaxy s7 789999",
          "samsung galaxy s6 edgeplus"
         ],
         "xaxis": "x",
         "y": [
          7.4,
          7.5,
          7.6,
          7.6,
          7.6,
          7.8,
          7.8,
          7.8,
          7.9,
          8,
          8,
          8,
          8.1,
          8.1,
          8.2,
          8.2,
          8.2,
          8.2,
          8.3,
          8.3,
          8.3,
          8.3,
          8.3,
          8.3,
          8.3,
          8.4,
          8.4,
          8.4,
          8.4,
          8.4,
          8.5,
          8.5,
          8.5,
          8.5,
          8.6,
          8.6,
          8.6,
          8.7,
          8.7,
          8.7,
          8.7,
          8.7,
          8.8,
          8.8,
          8.8,
          8.9,
          8.9,
          8.9,
          9,
          9.2
         ],
         "yaxis": "y"
        }
       ],
       "layout": {
        "height": 800,
        "legend": {
         "itemsizing": "constant",
         "tracegroupgap": 0
        },
        "template": {
         "data": {
          "bar": [
           {
            "error_x": {
             "color": "#2a3f5f"
            },
            "error_y": {
             "color": "#2a3f5f"
            },
            "marker": {
             "line": {
              "color": "#E5ECF6",
              "width": 0.5
             },
             "pattern": {
              "fillmode": "overlay",
              "size": 10,
              "solidity": 0.2
             }
            },
            "type": "bar"
           }
          ],
          "barpolar": [
           {
            "marker": {
             "line": {
              "color": "#E5ECF6",
              "width": 0.5
             },
             "pattern": {
              "fillmode": "overlay",
              "size": 10,
              "solidity": 0.2
             }
            },
            "type": "barpolar"
           }
          ],
          "carpet": [
           {
            "aaxis": {
             "endlinecolor": "#2a3f5f",
             "gridcolor": "white",
             "linecolor": "white",
             "minorgridcolor": "white",
             "startlinecolor": "#2a3f5f"
            },
            "baxis": {
             "endlinecolor": "#2a3f5f",
             "gridcolor": "white",
             "linecolor": "white",
             "minorgridcolor": "white",
             "startlinecolor": "#2a3f5f"
            },
            "type": "carpet"
           }
          ],
          "choropleth": [
           {
            "colorbar": {
             "outlinewidth": 0,
             "ticks": ""
            },
            "type": "choropleth"
           }
          ],
          "contour": [
           {
            "colorbar": {
             "outlinewidth": 0,
             "ticks": ""
            },
            "colorscale": [
             [
              0,
              "#0d0887"
             ],
             [
              0.1111111111111111,
              "#46039f"
             ],
             [
              0.2222222222222222,
              "#7201a8"
             ],
             [
              0.3333333333333333,
              "#9c179e"
             ],
             [
              0.4444444444444444,
              "#bd3786"
             ],
             [
              0.5555555555555556,
              "#d8576b"
             ],
             [
              0.6666666666666666,
              "#ed7953"
             ],
             [
              0.7777777777777778,
              "#fb9f3a"
             ],
             [
              0.8888888888888888,
              "#fdca26"
             ],
             [
              1,
              "#f0f921"
             ]
            ],
            "type": "contour"
           }
          ],
          "contourcarpet": [
           {
            "colorbar": {
             "outlinewidth": 0,
             "ticks": ""
            },
            "type": "contourcarpet"
           }
          ],
          "heatmap": [
           {
            "colorbar": {
             "outlinewidth": 0,
             "ticks": ""
            },
            "colorscale": [
             [
              0,
              "#0d0887"
             ],
             [
              0.1111111111111111,
              "#46039f"
             ],
             [
              0.2222222222222222,
              "#7201a8"
             ],
             [
              0.3333333333333333,
              "#9c179e"
             ],
             [
              0.4444444444444444,
              "#bd3786"
             ],
             [
              0.5555555555555556,
              "#d8576b"
             ],
             [
              0.6666666666666666,
              "#ed7953"
             ],
             [
              0.7777777777777778,
              "#fb9f3a"
             ],
             [
              0.8888888888888888,
              "#fdca26"
             ],
             [
              1,
              "#f0f921"
             ]
            ],
            "type": "heatmap"
           }
          ],
          "heatmapgl": [
           {
            "colorbar": {
             "outlinewidth": 0,
             "ticks": ""
            },
            "colorscale": [
             [
              0,
              "#0d0887"
             ],
             [
              0.1111111111111111,
              "#46039f"
             ],
             [
              0.2222222222222222,
              "#7201a8"
             ],
             [
              0.3333333333333333,
              "#9c179e"
             ],
             [
              0.4444444444444444,
              "#bd3786"
             ],
             [
              0.5555555555555556,
              "#d8576b"
             ],
             [
              0.6666666666666666,
              "#ed7953"
             ],
             [
              0.7777777777777778,
              "#fb9f3a"
             ],
             [
              0.8888888888888888,
              "#fdca26"
             ],
             [
              1,
              "#f0f921"
             ]
            ],
            "type": "heatmapgl"
           }
          ],
          "histogram": [
           {
            "marker": {
             "pattern": {
              "fillmode": "overlay",
              "size": 10,
              "solidity": 0.2
             }
            },
            "type": "histogram"
           }
          ],
          "histogram2d": [
           {
            "colorbar": {
             "outlinewidth": 0,
             "ticks": ""
            },
            "colorscale": [
             [
              0,
              "#0d0887"
             ],
             [
              0.1111111111111111,
              "#46039f"
             ],
             [
              0.2222222222222222,
              "#7201a8"
             ],
             [
              0.3333333333333333,
              "#9c179e"
             ],
             [
              0.4444444444444444,
              "#bd3786"
             ],
             [
              0.5555555555555556,
              "#d8576b"
             ],
             [
              0.6666666666666666,
              "#ed7953"
             ],
             [
              0.7777777777777778,
              "#fb9f3a"
             ],
             [
              0.8888888888888888,
              "#fdca26"
             ],
             [
              1,
              "#f0f921"
             ]
            ],
            "type": "histogram2d"
           }
          ],
          "histogram2dcontour": [
           {
            "colorbar": {
             "outlinewidth": 0,
             "ticks": ""
            },
            "colorscale": [
             [
              0,
              "#0d0887"
             ],
             [
              0.1111111111111111,
              "#46039f"
             ],
             [
              0.2222222222222222,
              "#7201a8"
             ],
             [
              0.3333333333333333,
              "#9c179e"
             ],
             [
              0.4444444444444444,
              "#bd3786"
             ],
             [
              0.5555555555555556,
              "#d8576b"
             ],
             [
              0.6666666666666666,
              "#ed7953"
             ],
             [
              0.7777777777777778,
              "#fb9f3a"
             ],
             [
              0.8888888888888888,
              "#fdca26"
             ],
             [
              1,
              "#f0f921"
             ]
            ],
            "type": "histogram2dcontour"
           }
          ],
          "mesh3d": [
           {
            "colorbar": {
             "outlinewidth": 0,
             "ticks": ""
            },
            "type": "mesh3d"
           }
          ],
          "parcoords": [
           {
            "line": {
             "colorbar": {
              "outlinewidth": 0,
              "ticks": ""
             }
            },
            "type": "parcoords"
           }
          ],
          "pie": [
           {
            "automargin": true,
            "type": "pie"
           }
          ],
          "scatter": [
           {
            "marker": {
             "colorbar": {
              "outlinewidth": 0,
              "ticks": ""
             }
            },
            "type": "scatter"
           }
          ],
          "scatter3d": [
           {
            "line": {
             "colorbar": {
              "outlinewidth": 0,
              "ticks": ""
             }
            },
            "marker": {
             "colorbar": {
              "outlinewidth": 0,
              "ticks": ""
             }
            },
            "type": "scatter3d"
           }
          ],
          "scattercarpet": [
           {
            "marker": {
             "colorbar": {
              "outlinewidth": 0,
              "ticks": ""
             }
            },
            "type": "scattercarpet"
           }
          ],
          "scattergeo": [
           {
            "marker": {
             "colorbar": {
              "outlinewidth": 0,
              "ticks": ""
             }
            },
            "type": "scattergeo"
           }
          ],
          "scattergl": [
           {
            "marker": {
             "colorbar": {
              "outlinewidth": 0,
              "ticks": ""
             }
            },
            "type": "scattergl"
           }
          ],
          "scattermapbox": [
           {
            "marker": {
             "colorbar": {
              "outlinewidth": 0,
              "ticks": ""
             }
            },
            "type": "scattermapbox"
           }
          ],
          "scatterpolar": [
           {
            "marker": {
             "colorbar": {
              "outlinewidth": 0,
              "ticks": ""
             }
            },
            "type": "scatterpolar"
           }
          ],
          "scatterpolargl": [
           {
            "marker": {
             "colorbar": {
              "outlinewidth": 0,
              "ticks": ""
             }
            },
            "type": "scatterpolargl"
           }
          ],
          "scatterternary": [
           {
            "marker": {
             "colorbar": {
              "outlinewidth": 0,
              "ticks": ""
             }
            },
            "type": "scatterternary"
           }
          ],
          "surface": [
           {
            "colorbar": {
             "outlinewidth": 0,
             "ticks": ""
            },
            "colorscale": [
             [
              0,
              "#0d0887"
             ],
             [
              0.1111111111111111,
              "#46039f"
             ],
             [
              0.2222222222222222,
              "#7201a8"
             ],
             [
              0.3333333333333333,
              "#9c179e"
             ],
             [
              0.4444444444444444,
              "#bd3786"
             ],
             [
              0.5555555555555556,
              "#d8576b"
             ],
             [
              0.6666666666666666,
              "#ed7953"
             ],
             [
              0.7777777777777778,
              "#fb9f3a"
             ],
             [
              0.8888888888888888,
              "#fdca26"
             ],
             [
              1,
              "#f0f921"
             ]
            ],
            "type": "surface"
           }
          ],
          "table": [
           {
            "cells": {
             "fill": {
              "color": "#EBF0F8"
             },
             "line": {
              "color": "white"
             }
            },
            "header": {
             "fill": {
              "color": "#C8D4E3"
             },
             "line": {
              "color": "white"
             }
            },
            "type": "table"
           }
          ]
         },
         "layout": {
          "annotationdefaults": {
           "arrowcolor": "#2a3f5f",
           "arrowhead": 0,
           "arrowwidth": 1
          },
          "autotypenumbers": "strict",
          "coloraxis": {
           "colorbar": {
            "outlinewidth": 0,
            "ticks": ""
           }
          },
          "colorscale": {
           "diverging": [
            [
             0,
             "#8e0152"
            ],
            [
             0.1,
             "#c51b7d"
            ],
            [
             0.2,
             "#de77ae"
            ],
            [
             0.3,
             "#f1b6da"
            ],
            [
             0.4,
             "#fde0ef"
            ],
            [
             0.5,
             "#f7f7f7"
            ],
            [
             0.6,
             "#e6f5d0"
            ],
            [
             0.7,
             "#b8e186"
            ],
            [
             0.8,
             "#7fbc41"
            ],
            [
             0.9,
             "#4d9221"
            ],
            [
             1,
             "#276419"
            ]
           ],
           "sequential": [
            [
             0,
             "#0d0887"
            ],
            [
             0.1111111111111111,
             "#46039f"
            ],
            [
             0.2222222222222222,
             "#7201a8"
            ],
            [
             0.3333333333333333,
             "#9c179e"
            ],
            [
             0.4444444444444444,
             "#bd3786"
            ],
            [
             0.5555555555555556,
             "#d8576b"
            ],
            [
             0.6666666666666666,
             "#ed7953"
            ],
            [
             0.7777777777777778,
             "#fb9f3a"
            ],
            [
             0.8888888888888888,
             "#fdca26"
            ],
            [
             1,
             "#f0f921"
            ]
           ],
           "sequentialminus": [
            [
             0,
             "#0d0887"
            ],
            [
             0.1111111111111111,
             "#46039f"
            ],
            [
             0.2222222222222222,
             "#7201a8"
            ],
            [
             0.3333333333333333,
             "#9c179e"
            ],
            [
             0.4444444444444444,
             "#bd3786"
            ],
            [
             0.5555555555555556,
             "#d8576b"
            ],
            [
             0.6666666666666666,
             "#ed7953"
            ],
            [
             0.7777777777777778,
             "#fb9f3a"
            ],
            [
             0.8888888888888888,
             "#fdca26"
            ],
            [
             1,
             "#f0f921"
            ]
           ]
          },
          "colorway": [
           "#636efa",
           "#EF553B",
           "#00cc96",
           "#ab63fa",
           "#FFA15A",
           "#19d3f3",
           "#FF6692",
           "#B6E880",
           "#FF97FF",
           "#FECB52"
          ],
          "font": {
           "color": "#2a3f5f"
          },
          "geo": {
           "bgcolor": "white",
           "lakecolor": "white",
           "landcolor": "#E5ECF6",
           "showlakes": true,
           "showland": true,
           "subunitcolor": "white"
          },
          "hoverlabel": {
           "align": "left"
          },
          "hovermode": "closest",
          "mapbox": {
           "style": "light"
          },
          "paper_bgcolor": "white",
          "plot_bgcolor": "#E5ECF6",
          "polar": {
           "angularaxis": {
            "gridcolor": "white",
            "linecolor": "white",
            "ticks": ""
           },
           "bgcolor": "#E5ECF6",
           "radialaxis": {
            "gridcolor": "white",
            "linecolor": "white",
            "ticks": ""
           }
          },
          "scene": {
           "xaxis": {
            "backgroundcolor": "#E5ECF6",
            "gridcolor": "white",
            "gridwidth": 2,
            "linecolor": "white",
            "showbackground": true,
            "ticks": "",
            "zerolinecolor": "white"
           },
           "yaxis": {
            "backgroundcolor": "#E5ECF6",
            "gridcolor": "white",
            "gridwidth": 2,
            "linecolor": "white",
            "showbackground": true,
            "ticks": "",
            "zerolinecolor": "white"
           },
           "zaxis": {
            "backgroundcolor": "#E5ECF6",
            "gridcolor": "white",
            "gridwidth": 2,
            "linecolor": "white",
            "showbackground": true,
            "ticks": "",
            "zerolinecolor": "white"
           }
          },
          "shapedefaults": {
           "line": {
            "color": "#2a3f5f"
           }
          },
          "ternary": {
           "aaxis": {
            "gridcolor": "white",
            "linecolor": "white",
            "ticks": ""
           },
           "baxis": {
            "gridcolor": "white",
            "linecolor": "white",
            "ticks": ""
           },
           "bgcolor": "#E5ECF6",
           "caxis": {
            "gridcolor": "white",
            "linecolor": "white",
            "ticks": ""
           }
          },
          "title": {
           "x": 0.05
          },
          "xaxis": {
           "automargin": true,
           "gridcolor": "white",
           "linecolor": "white",
           "ticks": "",
           "title": {
            "standoff": 15
           },
           "zerolinecolor": "white",
           "zerolinewidth": 2
          },
          "yaxis": {
           "automargin": true,
           "gridcolor": "white",
           "linecolor": "white",
           "ticks": "",
           "title": {
            "standoff": 15
           },
           "zerolinecolor": "white",
           "zerolinewidth": 2
          }
         }
        },
        "title": {
         "text": "Visualisation of mean ratings vs rating count for highest rated 50 phones"
        },
        "xaxis": {
         "anchor": "y",
         "domain": [
          0,
          1
         ],
         "title": {
          "text": "index"
         }
        },
        "yaxis": {
         "anchor": "x",
         "domain": [
          0,
          1
         ],
         "title": {
          "text": "mean_ratings"
         }
        }
       }
      },
      "text/html": [
       "<div>                            <div id=\"6baec607-d8e5-444e-a29d-40f658c59b5b\" class=\"plotly-graph-div\" style=\"height:800px; width:100%;\"></div>            <script type=\"text/javascript\">                require([\"plotly\"], function(Plotly) {                    window.PLOTLYENV=window.PLOTLYENV || {};                                    if (document.getElementById(\"6baec607-d8e5-444e-a29d-40f658c59b5b\")) {                    Plotly.newPlot(                        \"6baec607-d8e5-444e-a29d-40f658c59b5b\",                        [{\"hovertemplate\":\"index=%{x}<br>mean_ratings=%{y}<br>rating_count=%{marker.size}<extra></extra>\",\"legendgroup\":\"\",\"marker\":{\"color\":\"#636efa\",\"size\":[3931,6370,3097,3179,5181,5121,5145,6348,3135,3162,5007,7423,3085,3835,5884,4050,11200,4371,6525,7223,7289,3450,3165,4972,3071,13195,4992,11848,7599,6864,4376,3214,4762,4767,3659,3643,3819,3929,3905,5763,4154,4162,3554,12764,6618,4129,11936,11991,10637,4275],\"sizemode\":\"area\",\"sizeref\":3.665277777777778,\"symbol\":\"circle\"},\"mode\":\"markers\",\"name\":\"\",\"orientation\":\"v\",\"showlegend\":false,\"x\":[\"lenovo vibe k4 note\",\"apple iphone 5\",\"sony xperia z3 compact\",\"samsung galaxy s duos s7562\",\"samsung galaxy ace s5830\",\"apple iphone 5c\",\"lg g4\",\"apple iphone 4\",\"asus zenfone 2\",\"samsung galaxy s5 mini\",\"samsung s5230\",\"apple iphone 4s\",\"google nexus 5x h791\",\"htc one m7\",\"apple iphone 6\",\"samsung galaxy note 4\",\"samsung i9500 galaxy s iv\",\"nokia lumia 520\",\"lg g3 d855 657484\",\"samsung galaxy s4 mini gt i9190 gt i9192 dual sim\",\"samsung galaxy s iii\",\"nokia n95\",\"htc m8\",\"motorola moto e\",\"nokia lumia 920\",\"samsung galaxy s5\",\"samsung galaxy note iii\",\"apple iphone 5s\",\"huawei p8 lite\",\"samsung galaxy s3 mini\",\"nokia 5800 xpressmusic tube\",\"apple iphone se\",\"samsung galaxy s ii\",\"samsung galaxy j3 duos\",\"microsoft lumia 640 dual sim\",\"samsung galaxy j5\",\"nokia lumia 630\",\"apple iphone 7\",\"lg google nexus 5\",\"lg g2 594708\",\"apple iphone 6s\",\"oneplus 3\",\"huawei p9 lite\",\"samsung galaxy s6\",\"samsung galaxy s6 edge sm g925f\",\"samsung galaxy note 2\",\"samsung galaxy s7 edge\",\"motorola moto g\",\"samsung galaxy s7 789999\",\"samsung galaxy s6 edgeplus\"],\"xaxis\":\"x\",\"y\":[7.4,7.5,7.6,7.6,7.6,7.8,7.8,7.8,7.9,8.0,8.0,8.0,8.1,8.1,8.2,8.2,8.2,8.2,8.3,8.3,8.3,8.3,8.3,8.3,8.3,8.4,8.4,8.4,8.4,8.4,8.5,8.5,8.5,8.5,8.6,8.6,8.6,8.7,8.7,8.7,8.7,8.7,8.8,8.8,8.8,8.9,8.9,8.9,9.0,9.2],\"yaxis\":\"y\",\"type\":\"scatter\"}],                        {\"template\":{\"data\":{\"bar\":[{\"error_x\":{\"color\":\"#2a3f5f\"},\"error_y\":{\"color\":\"#2a3f5f\"},\"marker\":{\"line\":{\"color\":\"#E5ECF6\",\"width\":0.5},\"pattern\":{\"fillmode\":\"overlay\",\"size\":10,\"solidity\":0.2}},\"type\":\"bar\"}],\"barpolar\":[{\"marker\":{\"line\":{\"color\":\"#E5ECF6\",\"width\":0.5},\"pattern\":{\"fillmode\":\"overlay\",\"size\":10,\"solidity\":0.2}},\"type\":\"barpolar\"}],\"carpet\":[{\"aaxis\":{\"endlinecolor\":\"#2a3f5f\",\"gridcolor\":\"white\",\"linecolor\":\"white\",\"minorgridcolor\":\"white\",\"startlinecolor\":\"#2a3f5f\"},\"baxis\":{\"endlinecolor\":\"#2a3f5f\",\"gridcolor\":\"white\",\"linecolor\":\"white\",\"minorgridcolor\":\"white\",\"startlinecolor\":\"#2a3f5f\"},\"type\":\"carpet\"}],\"choropleth\":[{\"colorbar\":{\"outlinewidth\":0,\"ticks\":\"\"},\"type\":\"choropleth\"}],\"contour\":[{\"colorbar\":{\"outlinewidth\":0,\"ticks\":\"\"},\"colorscale\":[[0.0,\"#0d0887\"],[0.1111111111111111,\"#46039f\"],[0.2222222222222222,\"#7201a8\"],[0.3333333333333333,\"#9c179e\"],[0.4444444444444444,\"#bd3786\"],[0.5555555555555556,\"#d8576b\"],[0.6666666666666666,\"#ed7953\"],[0.7777777777777778,\"#fb9f3a\"],[0.8888888888888888,\"#fdca26\"],[1.0,\"#f0f921\"]],\"type\":\"contour\"}],\"contourcarpet\":[{\"colorbar\":{\"outlinewidth\":0,\"ticks\":\"\"},\"type\":\"contourcarpet\"}],\"heatmap\":[{\"colorbar\":{\"outlinewidth\":0,\"ticks\":\"\"},\"colorscale\":[[0.0,\"#0d0887\"],[0.1111111111111111,\"#46039f\"],[0.2222222222222222,\"#7201a8\"],[0.3333333333333333,\"#9c179e\"],[0.4444444444444444,\"#bd3786\"],[0.5555555555555556,\"#d8576b\"],[0.6666666666666666,\"#ed7953\"],[0.7777777777777778,\"#fb9f3a\"],[0.8888888888888888,\"#fdca26\"],[1.0,\"#f0f921\"]],\"type\":\"heatmap\"}],\"heatmapgl\":[{\"colorbar\":{\"outlinewidth\":0,\"ticks\":\"\"},\"colorscale\":[[0.0,\"#0d0887\"],[0.1111111111111111,\"#46039f\"],[0.2222222222222222,\"#7201a8\"],[0.3333333333333333,\"#9c179e\"],[0.4444444444444444,\"#bd3786\"],[0.5555555555555556,\"#d8576b\"],[0.6666666666666666,\"#ed7953\"],[0.7777777777777778,\"#fb9f3a\"],[0.8888888888888888,\"#fdca26\"],[1.0,\"#f0f921\"]],\"type\":\"heatmapgl\"}],\"histogram\":[{\"marker\":{\"pattern\":{\"fillmode\":\"overlay\",\"size\":10,\"solidity\":0.2}},\"type\":\"histogram\"}],\"histogram2d\":[{\"colorbar\":{\"outlinewidth\":0,\"ticks\":\"\"},\"colorscale\":[[0.0,\"#0d0887\"],[0.1111111111111111,\"#46039f\"],[0.2222222222222222,\"#7201a8\"],[0.3333333333333333,\"#9c179e\"],[0.4444444444444444,\"#bd3786\"],[0.5555555555555556,\"#d8576b\"],[0.6666666666666666,\"#ed7953\"],[0.7777777777777778,\"#fb9f3a\"],[0.8888888888888888,\"#fdca26\"],[1.0,\"#f0f921\"]],\"type\":\"histogram2d\"}],\"histogram2dcontour\":[{\"colorbar\":{\"outlinewidth\":0,\"ticks\":\"\"},\"colorscale\":[[0.0,\"#0d0887\"],[0.1111111111111111,\"#46039f\"],[0.2222222222222222,\"#7201a8\"],[0.3333333333333333,\"#9c179e\"],[0.4444444444444444,\"#bd3786\"],[0.5555555555555556,\"#d8576b\"],[0.6666666666666666,\"#ed7953\"],[0.7777777777777778,\"#fb9f3a\"],[0.8888888888888888,\"#fdca26\"],[1.0,\"#f0f921\"]],\"type\":\"histogram2dcontour\"}],\"mesh3d\":[{\"colorbar\":{\"outlinewidth\":0,\"ticks\":\"\"},\"type\":\"mesh3d\"}],\"parcoords\":[{\"line\":{\"colorbar\":{\"outlinewidth\":0,\"ticks\":\"\"}},\"type\":\"parcoords\"}],\"pie\":[{\"automargin\":true,\"type\":\"pie\"}],\"scatter\":[{\"marker\":{\"colorbar\":{\"outlinewidth\":0,\"ticks\":\"\"}},\"type\":\"scatter\"}],\"scatter3d\":[{\"line\":{\"colorbar\":{\"outlinewidth\":0,\"ticks\":\"\"}},\"marker\":{\"colorbar\":{\"outlinewidth\":0,\"ticks\":\"\"}},\"type\":\"scatter3d\"}],\"scattercarpet\":[{\"marker\":{\"colorbar\":{\"outlinewidth\":0,\"ticks\":\"\"}},\"type\":\"scattercarpet\"}],\"scattergeo\":[{\"marker\":{\"colorbar\":{\"outlinewidth\":0,\"ticks\":\"\"}},\"type\":\"scattergeo\"}],\"scattergl\":[{\"marker\":{\"colorbar\":{\"outlinewidth\":0,\"ticks\":\"\"}},\"type\":\"scattergl\"}],\"scattermapbox\":[{\"marker\":{\"colorbar\":{\"outlinewidth\":0,\"ticks\":\"\"}},\"type\":\"scattermapbox\"}],\"scatterpolar\":[{\"marker\":{\"colorbar\":{\"outlinewidth\":0,\"ticks\":\"\"}},\"type\":\"scatterpolar\"}],\"scatterpolargl\":[{\"marker\":{\"colorbar\":{\"outlinewidth\":0,\"ticks\":\"\"}},\"type\":\"scatterpolargl\"}],\"scatterternary\":[{\"marker\":{\"colorbar\":{\"outlinewidth\":0,\"ticks\":\"\"}},\"type\":\"scatterternary\"}],\"surface\":[{\"colorbar\":{\"outlinewidth\":0,\"ticks\":\"\"},\"colorscale\":[[0.0,\"#0d0887\"],[0.1111111111111111,\"#46039f\"],[0.2222222222222222,\"#7201a8\"],[0.3333333333333333,\"#9c179e\"],[0.4444444444444444,\"#bd3786\"],[0.5555555555555556,\"#d8576b\"],[0.6666666666666666,\"#ed7953\"],[0.7777777777777778,\"#fb9f3a\"],[0.8888888888888888,\"#fdca26\"],[1.0,\"#f0f921\"]],\"type\":\"surface\"}],\"table\":[{\"cells\":{\"fill\":{\"color\":\"#EBF0F8\"},\"line\":{\"color\":\"white\"}},\"header\":{\"fill\":{\"color\":\"#C8D4E3\"},\"line\":{\"color\":\"white\"}},\"type\":\"table\"}]},\"layout\":{\"annotationdefaults\":{\"arrowcolor\":\"#2a3f5f\",\"arrowhead\":0,\"arrowwidth\":1},\"autotypenumbers\":\"strict\",\"coloraxis\":{\"colorbar\":{\"outlinewidth\":0,\"ticks\":\"\"}},\"colorscale\":{\"diverging\":[[0,\"#8e0152\"],[0.1,\"#c51b7d\"],[0.2,\"#de77ae\"],[0.3,\"#f1b6da\"],[0.4,\"#fde0ef\"],[0.5,\"#f7f7f7\"],[0.6,\"#e6f5d0\"],[0.7,\"#b8e186\"],[0.8,\"#7fbc41\"],[0.9,\"#4d9221\"],[1,\"#276419\"]],\"sequential\":[[0.0,\"#0d0887\"],[0.1111111111111111,\"#46039f\"],[0.2222222222222222,\"#7201a8\"],[0.3333333333333333,\"#9c179e\"],[0.4444444444444444,\"#bd3786\"],[0.5555555555555556,\"#d8576b\"],[0.6666666666666666,\"#ed7953\"],[0.7777777777777778,\"#fb9f3a\"],[0.8888888888888888,\"#fdca26\"],[1.0,\"#f0f921\"]],\"sequentialminus\":[[0.0,\"#0d0887\"],[0.1111111111111111,\"#46039f\"],[0.2222222222222222,\"#7201a8\"],[0.3333333333333333,\"#9c179e\"],[0.4444444444444444,\"#bd3786\"],[0.5555555555555556,\"#d8576b\"],[0.6666666666666666,\"#ed7953\"],[0.7777777777777778,\"#fb9f3a\"],[0.8888888888888888,\"#fdca26\"],[1.0,\"#f0f921\"]]},\"colorway\":[\"#636efa\",\"#EF553B\",\"#00cc96\",\"#ab63fa\",\"#FFA15A\",\"#19d3f3\",\"#FF6692\",\"#B6E880\",\"#FF97FF\",\"#FECB52\"],\"font\":{\"color\":\"#2a3f5f\"},\"geo\":{\"bgcolor\":\"white\",\"lakecolor\":\"white\",\"landcolor\":\"#E5ECF6\",\"showlakes\":true,\"showland\":true,\"subunitcolor\":\"white\"},\"hoverlabel\":{\"align\":\"left\"},\"hovermode\":\"closest\",\"mapbox\":{\"style\":\"light\"},\"paper_bgcolor\":\"white\",\"plot_bgcolor\":\"#E5ECF6\",\"polar\":{\"angularaxis\":{\"gridcolor\":\"white\",\"linecolor\":\"white\",\"ticks\":\"\"},\"bgcolor\":\"#E5ECF6\",\"radialaxis\":{\"gridcolor\":\"white\",\"linecolor\":\"white\",\"ticks\":\"\"}},\"scene\":{\"xaxis\":{\"backgroundcolor\":\"#E5ECF6\",\"gridcolor\":\"white\",\"gridwidth\":2,\"linecolor\":\"white\",\"showbackground\":true,\"ticks\":\"\",\"zerolinecolor\":\"white\"},\"yaxis\":{\"backgroundcolor\":\"#E5ECF6\",\"gridcolor\":\"white\",\"gridwidth\":2,\"linecolor\":\"white\",\"showbackground\":true,\"ticks\":\"\",\"zerolinecolor\":\"white\"},\"zaxis\":{\"backgroundcolor\":\"#E5ECF6\",\"gridcolor\":\"white\",\"gridwidth\":2,\"linecolor\":\"white\",\"showbackground\":true,\"ticks\":\"\",\"zerolinecolor\":\"white\"}},\"shapedefaults\":{\"line\":{\"color\":\"#2a3f5f\"}},\"ternary\":{\"aaxis\":{\"gridcolor\":\"white\",\"linecolor\":\"white\",\"ticks\":\"\"},\"baxis\":{\"gridcolor\":\"white\",\"linecolor\":\"white\",\"ticks\":\"\"},\"bgcolor\":\"#E5ECF6\",\"caxis\":{\"gridcolor\":\"white\",\"linecolor\":\"white\",\"ticks\":\"\"}},\"title\":{\"x\":0.05},\"xaxis\":{\"automargin\":true,\"gridcolor\":\"white\",\"linecolor\":\"white\",\"ticks\":\"\",\"title\":{\"standoff\":15},\"zerolinecolor\":\"white\",\"zerolinewidth\":2},\"yaxis\":{\"automargin\":true,\"gridcolor\":\"white\",\"linecolor\":\"white\",\"ticks\":\"\",\"title\":{\"standoff\":15},\"zerolinecolor\":\"white\",\"zerolinewidth\":2}}},\"xaxis\":{\"anchor\":\"y\",\"domain\":[0.0,1.0],\"title\":{\"text\":\"index\"}},\"yaxis\":{\"anchor\":\"x\",\"domain\":[0.0,1.0],\"title\":{\"text\":\"mean_ratings\"}},\"legend\":{\"tracegroupgap\":0,\"itemsizing\":\"constant\"},\"title\":{\"text\":\"Visualisation of mean ratings vs rating count for highest rated 50 phones\"},\"height\":800},                        {\"responsive\": true}                    ).then(function(){\n",
       "                            \n",
       "var gd = document.getElementById('6baec607-d8e5-444e-a29d-40f658c59b5b');\n",
       "var x = new MutationObserver(function (mutations, observer) {{\n",
       "        var display = window.getComputedStyle(gd).display;\n",
       "        if (!display || display === 'none') {{\n",
       "            console.log([gd, 'removed!']);\n",
       "            Plotly.purge(gd);\n",
       "            observer.disconnect();\n",
       "        }}\n",
       "}});\n",
       "\n",
       "// Listen for the removal of the full notebook cells\n",
       "var notebookContainer = gd.closest('#notebook-container');\n",
       "if (notebookContainer) {{\n",
       "    x.observe(notebookContainer, {childList: true});\n",
       "}}\n",
       "\n",
       "// Listen for the clearing of the current output cell\n",
       "var outputEl = gd.closest('.output');\n",
       "if (outputEl) {{\n",
       "    x.observe(outputEl, {childList: true});\n",
       "}}\n",
       "\n",
       "                        })                };                });            </script>        </div>"
      ]
     },
     "metadata": {},
     "output_type": "display_data"
    }
   ],
   "source": [
    "fig = px.scatter(top50_product, x=top50_product.index, y=\"mean_ratings\", size=\"rating_count\", size_max=60,\n",
    "                  height=800,title=\"Visualisation of mean ratings vs rating count for highest rated 50 phones\")\n",
    "fig.show()"
   ]
  },
  {
   "cell_type": "markdown",
   "id": "ec96e638",
   "metadata": {},
   "source": [
    "# 3."
   ]
  },
  {
   "cell_type": "code",
   "execution_count": 43,
   "id": "6bcd9f7b",
   "metadata": {},
   "outputs": [],
   "source": [
    "def popularity_rec(data):\n",
    "    ratings_mean_count = pd.DataFrame(data.groupby('product')['score'].mean())\n",
    "    ratings_mean_count['rating_counts'] = data.groupby('product')['score'].count()\n",
    "    ratings_mean_count = ratings_mean_count.sort_values(by=['score','rating_counts'], ascending=[False,False])\n",
    "    print('Top 5 recommendations for the products are: \\n')\n",
    "    display(ratings_mean_count.head())\n",
    "    return"
   ]
  },
  {
   "cell_type": "code",
   "execution_count": 44,
   "id": "7efea8f4",
   "metadata": {},
   "outputs": [
    {
     "name": "stdout",
     "output_type": "stream",
     "text": [
      "Top 5 recommendations for the products are: \n",
      "\n"
     ]
    },
    {
     "data": {
      "text/html": [
       "<div>\n",
       "<style scoped>\n",
       "    .dataframe tbody tr th:only-of-type {\n",
       "        vertical-align: middle;\n",
       "    }\n",
       "\n",
       "    .dataframe tbody tr th {\n",
       "        vertical-align: top;\n",
       "    }\n",
       "\n",
       "    .dataframe thead th {\n",
       "        text-align: right;\n",
       "    }\n",
       "</style>\n",
       "<table border=\"1\" class=\"dataframe\">\n",
       "  <thead>\n",
       "    <tr style=\"text-align: right;\">\n",
       "      <th></th>\n",
       "      <th>score</th>\n",
       "      <th>rating_counts</th>\n",
       "    </tr>\n",
       "    <tr>\n",
       "      <th>product</th>\n",
       "      <th></th>\n",
       "      <th></th>\n",
       "    </tr>\n",
       "  </thead>\n",
       "  <tbody>\n",
       "    <tr>\n",
       "      <th>samsung e1120</th>\n",
       "      <td>10.0</td>\n",
       "      <td>4</td>\n",
       "    </tr>\n",
       "    <tr>\n",
       "      <th>zte v987</th>\n",
       "      <td>10.0</td>\n",
       "      <td>4</td>\n",
       "    </tr>\n",
       "    <tr>\n",
       "      <th>lenovo p700i</th>\n",
       "      <td>10.0</td>\n",
       "      <td>2</td>\n",
       "    </tr>\n",
       "    <tr>\n",
       "      <th>lg kf700</th>\n",
       "      <td>10.0</td>\n",
       "      <td>2</td>\n",
       "    </tr>\n",
       "    <tr>\n",
       "      <th>motorola mpx200</th>\n",
       "      <td>10.0</td>\n",
       "      <td>2</td>\n",
       "    </tr>\n",
       "  </tbody>\n",
       "</table>\n",
       "</div>"
      ],
      "text/plain": [
       "                 score  rating_counts\n",
       "product                              \n",
       "samsung e1120     10.0              4\n",
       "zte v987          10.0              4\n",
       "lenovo p700i      10.0              2\n",
       "lg kf700          10.0              2\n",
       "motorola mpx200   10.0              2"
      ]
     },
     "metadata": {},
     "output_type": "display_data"
    }
   ],
   "source": [
    "# Using the data from the most popular phones amongst the most frequent users\n",
    "popularity_rec(revs_50)"
   ]
  },
  {
   "cell_type": "code",
   "execution_count": 47,
   "id": "9bda6129",
   "metadata": {},
   "outputs": [
    {
     "name": "stdout",
     "output_type": "stream",
     "text": [
      "Top 5 recommendations for the products are: \n",
      "\n"
     ]
    },
    {
     "data": {
      "text/html": [
       "<div>\n",
       "<style scoped>\n",
       "    .dataframe tbody tr th:only-of-type {\n",
       "        vertical-align: middle;\n",
       "    }\n",
       "\n",
       "    .dataframe tbody tr th {\n",
       "        vertical-align: top;\n",
       "    }\n",
       "\n",
       "    .dataframe thead th {\n",
       "        text-align: right;\n",
       "    }\n",
       "</style>\n",
       "<table border=\"1\" class=\"dataframe\">\n",
       "  <thead>\n",
       "    <tr style=\"text-align: right;\">\n",
       "      <th></th>\n",
       "      <th>score</th>\n",
       "      <th>rating_counts</th>\n",
       "    </tr>\n",
       "    <tr>\n",
       "      <th>product</th>\n",
       "      <th></th>\n",
       "      <th></th>\n",
       "    </tr>\n",
       "  </thead>\n",
       "  <tbody>\n",
       "    <tr>\n",
       "      <th>verykool t742</th>\n",
       "      <td>10.0</td>\n",
       "      <td>8</td>\n",
       "    </tr>\n",
       "    <tr>\n",
       "      <th>supersonic sc 150</th>\n",
       "      <td>10.0</td>\n",
       "      <td>6</td>\n",
       "    </tr>\n",
       "    <tr>\n",
       "      <th>verykool s505</th>\n",
       "      <td>10.0</td>\n",
       "      <td>5</td>\n",
       "    </tr>\n",
       "    <tr>\n",
       "      <th>vodafone smart 4 power</th>\n",
       "      <td>10.0</td>\n",
       "      <td>5</td>\n",
       "    </tr>\n",
       "    <tr>\n",
       "      <th>mitsubishi trium mondo</th>\n",
       "      <td>10.0</td>\n",
       "      <td>4</td>\n",
       "    </tr>\n",
       "  </tbody>\n",
       "</table>\n",
       "</div>"
      ],
      "text/plain": [
       "                        score  rating_counts\n",
       "product                                     \n",
       "verykool t742            10.0              8\n",
       "supersonic sc 150        10.0              6\n",
       "verykool s505            10.0              5\n",
       "vodafone smart 4 power   10.0              5\n",
       "mitsubishi trium mondo   10.0              4"
      ]
     },
     "metadata": {},
     "output_type": "display_data"
    }
   ],
   "source": [
    "# if we consider the original data (excluding 'Anonymous' users)\n",
    "popularity_rec(revs1)"
   ]
  },
  {
   "cell_type": "code",
   "execution_count": 48,
   "id": "0e748be7",
   "metadata": {},
   "outputs": [
    {
     "name": "stdout",
     "output_type": "stream",
     "text": [
      "f1r4t 11.06.2013 13 kiÅi beÄendi brk bence cok yanlÄ±Å dÃ¼ÅÃ¼nÃ¼yorsun.telefonun polikarbon olmasÄ± telefonun aÄÄ±rlÄ±ÄÄ±nÄ± azaltÄ±r.ayrÄ±ca iphone5 2 Ã§ekirdekli s4 ise 8 Ã§ekirdeklidir.yani aradaki Ã¶zellik farkÄ±na gÃ¶re iphone 12 gram daha hafif.he ayrÄ±ca iphonunda \n"
     ]
    }
   ],
   "source": [
    "field_length = revs1.author.astype(str).map(len)\n",
    "print (revs1.iloc[field_length.argmax(),0])"
   ]
  },
  {
   "cell_type": "markdown",
   "id": "f1fa9fa6",
   "metadata": {},
   "source": [
    "# 4."
   ]
  },
  {
   "cell_type": "markdown",
   "id": "ce081277",
   "metadata": {},
   "source": [
    "### Collaborative filtering model using SVD"
   ]
  },
  {
   "cell_type": "code",
   "execution_count": 49,
   "id": "b407310d",
   "metadata": {},
   "outputs": [
    {
     "name": "stdout",
     "output_type": "stream",
     "text": [
      "top 3 values from trainset: \n",
      "\n",
      "0 ->  [(0, 10.0), (66, 10.0), (209, 10.0), (137, 10.0), (917, 10.0), (219, 10.0), (75, 10.0), (209, 9.0), (58, 8.0), (558, 8.0), (256, 10.0), (39, 6.0), (652, 6.0), (1767, 10.0), (268, 9.0), (369, 10.0), (558, 10.0), (1421, 10.0), (268, 7.0), (1449, 10.0), (1934, 9.0), (1090, 8.0), (333, 9.0), (228, 7.0), (93, 10.0), (1, 8.0), (58, 9.0), (384, 10.0), (1, 9.0), (823, 10.0), (59, 9.0), (569, 9.0), (657, 10.0), (774, 8.0), (58, 10.0), (122, 4.0), (868, 10.0), (867, 8.0), (447, 10.0), (528, 9.0), (66, 9.0), (611, 9.0), (494, 10.0), (171, 10.0), (157, 10.0), (378, 10.0), (301, 10.0), (1771, 10.0), (17, 10.0), (106, 10.0), (171, 9.0), (611, 10.0), (463, 9.0), (199, 8.0), (637, 10.0), (715, 8.0), (350, 6.0), (972, 9.0), (578, 10.0), (652, 10.0), (192, 8.0), (607, 9.0), (369, 9.0), (286, 4.0), (459, 10.0), (77, 3.0), (510, 10.0), (652, 8.0), (244, 8.0), (43, 4.0), (62, 9.0), (54, 6.0), (454, 10.0), (77, 10.0), (594, 10.0), (584, 10.0), (298, 9.0), (240, 10.0), (62, 10.0), (1702, 10.0), (111, 9.0), (466, 9.0), (244, 9.0), (1033, 10.0), (2021, 8.0), (199, 10.0), (256, 9.0), (273, 10.0), (110, 9.0), (1421, 9.0), (1354, 9.0), (504, 8.0), (297, 9.0), (1197, 9.0), (268, 10.0), (1602, 8.0), (463, 10.0)] \n",
      "\n",
      "1 ->  [(1, 5.0), (201, 6.0), (541, 10.0), (349, 10.0), (158, 10.0), (1034, 8.0), (212, 10.0), (244, 10.0), (463, 8.0), (5, 10.0), (463, 10.0), (75, 9.0), (810, 8.0), (1553, 9.0), (463, 7.0), (633, 10.0), (466, 4.0), (709, 9.0), (0, 8.0), (299, 10.0), (378, 10.0), (978, 10.0), (286, 8.0), (755, 8.0), (852, 10.0), (504, 4.0), (879, 10.0), (642, 6.0), (72, 10.0), (319, 10.0), (302, 10.0), (157, 10.0), (106, 10.0), (408, 4.0), (385, 10.0), (297, 6.0), (466, 9.0), (199, 9.0), (661, 9.0), (110, 9.0), (171, 9.0), (706, 10.0), (170, 8.0), (369, 10.0), (369, 9.0), (642, 10.0), (192, 9.0), (423, 10.0), (130, 2.0), (62, 9.0), (1421, 10.0), (2024, 3.0), (1182, 10.0), (243, 10.0), (83, 8.0), (633, 4.0), (471, 10.0), (12, 10.0), (18, 2.0), (449, 10.0), (239, 9.0), (504, 6.0), (702, 10.0), (369, 4.0), (1007, 6.0), (554, 10.0), (13, 9.0), (415, 10.0), (788, 10.0), (317, 4.0), (2175, 9.0), (316, 10.0), (957, 10.0), (171, 8.0), (740, 10.0), (494, 8.0), (463, 9.0), (209, 9.0), (351, 9.0), (1772, 9.0), (317, 10.0), (1137, 9.0), (12, 8.0), (111, 4.0), (240, 10.0), (207, 10.0), (603, 10.0), (1420, 8.0), (578, 10.0), (1252, 10.0), (1085, 10.0), (1526, 2.0), (199, 10.0), (219, 9.0), (122, 7.0), (1200, 4.0), (302, 8.0), (1488, 10.0), (68, 10.0), (564, 10.0), (311, 10.0), (863, 8.0), (1526, 8.0), (112, 10.0), (894, 10.0), (369, 7.0), (937, 10.0), (447, 6.0), (510, 8.0), (153, 2.0), (58, 9.0), (398, 10.0), (1454, 9.0), (212, 6.0), (2145, 8.0), (254, 4.0), (98, 9.0), (212, 9.0), (12, 6.0), (607, 8.0), (540, 10.0), (289, 10.0), (77, 10.0), (706, 8.0), (1784, 8.0), (504, 10.0), (256, 9.0), (710, 6.0), (225, 10.0), (597, 10.0), (933, 10.0), (783, 10.0), (652, 10.0), (612, 10.0), (130, 4.0), (268, 10.0), (2346, 6.0), (298, 9.0), (124, 10.0), (563, 4.0), (62, 10.0), (268, 3.0), (273, 8.0), (1255, 4.0), (66, 10.0), (762, 10.0), (171, 10.0), (153, 9.0), (110, 7.0), (306, 8.0), (111, 10.0), (312, 10.0), (1090, 8.0), (1, 10.0), (93, 10.0), (73, 10.0), (917, 10.0), (165, 10.0), (1790, 10.0), (725, 8.0), (528, 9.0), (170, 10.0), (457, 8.0), (494, 10.0), (611, 8.0), (75, 8.0), (228, 10.0), (613, 9.0), (58, 10.0), (242, 10.0), (1379, 10.0), (547, 10.0), (59, 10.0), (594, 6.0), (66, 9.0), (171, 4.0), (93, 6.0), (106, 8.0), (209, 10.0), (361, 10.0), (239, 10.0), (766, 8.0), (1431, 4.0), (594, 8.0)] \n",
      "\n",
      "2 ->  [(2, 10.0), (26, 2.0), (30, 8.0), (154, 8.0), (63, 6.0), (323, 8.0), (350, 6.0), (430, 2.0), (256, 2.0), (109, 10.0), (656, 10.0), (281, 10.0), (142, 10.0), (767, 6.0), (279, 8.0), (190, 10.0), (183, 4.0), (262, 2.0), (11, 6.0), (1109, 8.0), (166, 2.0), (140, 4.0), (12, 8.0), (262, 10.0), (645, 8.0), (421, 10.0), (96, 6.0), (1222, 8.0), (473, 6.0), (1098, 10.0), (301, 10.0), (624, 8.0), (61, 4.0), (291, 6.0), (423, 6.0), (624, 6.0), (419, 6.0), (330, 2.0), (206, 6.0), (111, 2.0), (781, 2.0), (1101, 10.0), (1455, 10.0), (219, 10.0), (219, 4.0), (113, 8.0), (418, 10.0), (133, 6.0), (171, 6.0), (75, 8.0), (201, 2.0), (133, 2.0), (59, 4.0), (268, 8.0), (190, 4.0), (886, 4.0), (1233, 2.0), (518, 8.0), (206, 10.0), (89, 10.0), (545, 2.0), (292, 2.0), (570, 6.0), (657, 6.0), (245, 4.0), (304, 6.0), (1553, 10.0), (142, 6.0), (657, 4.0), (112, 8.0), (1098, 8.0), (210, 6.0), (78, 2.0), (75, 10.0), (489, 10.0), (133, 10.0), (568, 2.0), (1484, 2.0), (244, 4.0), (1146, 6.0), (689, 2.0), (374, 8.0), (312, 10.0), (17, 10.0), (16, 8.0), (367, 10.0), (307, 10.0), (1406, 10.0), (2, 6.0), (301, 8.0), (1482, 8.0), (285, 8.0), (140, 10.0), (987, 8.0), (1241, 2.0), (307, 4.0), (122, 8.0), (1724, 4.0), (295, 6.0), (521, 2.0), (167, 8.0), (96, 2.0), (433, 4.0), (1319, 6.0), (459, 10.0), (798, 10.0), (304, 10.0), (43, 2.0), (419, 4.0), (1484, 8.0), (613, 6.0), (28, 10.0), (37, 4.0), (467, 2.0), (30, 6.0), (433, 10.0), (323, 2.0), (319, 4.0), (312, 2.0), (30, 10.0), (642, 2.0), (762, 4.0), (569, 4.0), (767, 2.0), (145, 8.0), (220, 2.0), (316, 2.0), (281, 2.0), (145, 2.0), (524, 10.0), (322, 4.0), (1869, 10.0), (541, 2.0), (378, 6.0), (32, 6.0), (208, 8.0), (842, 8.0), (43, 10.0), (137, 6.0), (1188, 6.0), (34, 2.0), (1131, 8.0), (1, 2.0), (213, 10.0), (17, 8.0), (63, 4.0), (1442, 10.0), (336, 10.0), (56, 10.0), (322, 8.0), (166, 8.0), (105, 4.0), (138, 2.0), (292, 8.0), (601, 4.0), (73, 8.0), (336, 8.0), (193, 2.0), (709, 2.0), (37, 2.0), (96, 8.0), (339, 10.0), (463, 10.0), (62, 10.0), (1969, 8.0), (747, 10.0), (545, 6.0), (262, 8.0), (1101, 8.0), (118, 8.0), (631, 10.0), (561, 10.0), (65, 6.0), (574, 6.0), (177, 8.0), (444, 2.0), (290, 2.0), (295, 8.0), (489, 6.0), (1028, 6.0), (886, 6.0), (166, 10.0), (235, 8.0), (355, 10.0), (594, 10.0), (521, 10.0), (19, 6.0), (925, 10.0), (773, 10.0), (116, 4.0), (1128, 10.0), (460, 6.0), (337, 8.0), (1219, 6.0), (678, 10.0), (2003, 2.0), (224, 4.0), (46, 8.0), (13, 10.0), (490, 8.0), (62, 2.0), (584, 2.0), (1711, 6.0), (256, 6.0), (1101, 2.0), (760, 4.0), (561, 8.0), (2024, 6.0), (121, 10.0), (1067, 8.0), (26, 6.0), (438, 2.0), (235, 2.0), (364, 6.0), (258, 10.0), (141, 4.0), (174, 6.0), (862, 4.0), (438, 8.0), (753, 10.0), (361, 8.0), (464, 10.0), (1029, 6.0), (34, 8.0), (192, 6.0), (361, 6.0), (2, 2.0), (1542, 2.0), (17, 6.0), (464, 2.0), (12, 2.0), (677, 10.0), (1969, 10.0), (140, 8.0), (480, 2.0), (541, 10.0), (5, 10.0), (758, 2.0), (643, 2.0), (158, 4.0), (1214, 8.0), (240, 6.0), (472, 8.0), (125, 6.0), (336, 2.0), (1319, 4.0), (65, 8.0), (331, 6.0), (79, 2.0), (414, 8.0), (183, 2.0), (240, 10.0), (122, 2.0), (111, 6.0), (568, 4.0), (243, 8.0), (418, 8.0), (177, 4.0), (1258, 10.0), (574, 10.0), (550, 10.0), (145, 6.0), (421, 8.0), (584, 4.0), (744, 8.0), (364, 10.0), (178, 2.0), (480, 10.0), (239, 6.0), (153, 10.0), (629, 8.0), (419, 10.0), (439, 8.0), (506, 8.0), (38, 8.0), (460, 4.0), (81, 6.0), (643, 10.0), (396, 10.0), (158, 2.0), (201, 6.0), (63, 8.0), (90, 10.0), (421, 2.0), (305, 6.0), (46, 2.0), (1482, 2.0), (1671, 10.0), (208, 10.0), (194, 2.0), (74, 8.0), (1, 4.0), (279, 2.0), (75, 2.0), (1792, 10.0), (199, 8.0), (125, 8.0), (122, 10.0), (106, 4.0), (66, 8.0), (381, 10.0), (34, 6.0), (245, 6.0), (219, 6.0), (174, 4.0), (63, 2.0), (138, 10.0), (1146, 2.0), (571, 2.0), (1134, 6.0), (234, 6.0), (545, 10.0), (119, 2.0), (183, 10.0), (912, 10.0), (1146, 10.0), (490, 10.0), (570, 8.0), (1433, 8.0), (624, 4.0), (1381, 10.0), (208, 2.0), (28, 8.0), (26, 10.0), (396, 4.0), (46, 6.0), (554, 2.0), (1711, 4.0), (288, 8.0), (16, 2.0), (728, 6.0), (176, 2.0), (996, 8.0), (291, 2.0), (601, 10.0), (630, 10.0), (1072, 8.0), (364, 8.0), (1241, 8.0), (908, 2.0), (23, 8.0), (631, 8.0), (118, 6.0), (672, 8.0), (773, 2.0), (672, 10.0), (414, 10.0), (112, 4.0), (49, 8.0), (38, 10.0), (77, 2.0), (268, 6.0), (1433, 10.0), (137, 8.0), (490, 6.0), (235, 10.0), (50, 10.0), (130, 10.0), (374, 6.0), (1111, 10.0), (75, 6.0), (206, 4.0), (541, 4.0), (1484, 10.0), (1109, 10.0), (521, 6.0), (240, 4.0), (630, 2.0), (133, 4.0), (281, 4.0), (656, 8.0), (1521, 10.0), (657, 8.0), (489, 4.0), (482, 6.0), (562, 6.0), (436, 2.0), (205, 8.0), (1141, 10.0), (113, 2.0), (73, 2.0), (240, 8.0), (643, 6.0), (813, 10.0), (101, 10.0), (1259, 8.0), (773, 6.0), (744, 10.0), (558, 10.0), (295, 10.0), (307, 6.0), (182, 2.0), (43, 4.0), (50, 6.0), (109, 8.0), (1129, 6.0), (174, 2.0), (121, 6.0), (744, 6.0), (218, 8.0), (1701, 8.0), (467, 6.0), (781, 10.0), (82, 2.0), (369, 10.0), (134, 6.0), (154, 4.0), (1510, 10.0), (708, 4.0), (607, 8.0), (163, 6.0), (1491, 4.0), (528, 4.0), (506, 6.0), (293, 8.0), (881, 10.0), (134, 4.0), (171, 4.0), (905, 2.0), (275, 4.0), (760, 2.0), (213, 2.0), (122, 4.0), (421, 6.0), (224, 6.0), (291, 10.0), (433, 6.0), (167, 4.0), (437, 10.0), (418, 2.0), (572, 8.0), (319, 6.0), (490, 4.0), (421, 4.0), (472, 10.0), (106, 6.0), (1028, 8.0), (0, 6.0), (760, 6.0), (1908, 4.0), (218, 2.0), (773, 4.0), (251, 6.0), (192, 2.0), (763, 8.0), (762, 6.0), (251, 2.0), (258, 8.0), (112, 6.0), (63, 10.0), (491, 10.0), (912, 2.0), (330, 8.0), (244, 8.0), (543, 8.0), (1074, 10.0), (1724, 6.0), (361, 10.0), (34, 10.0), (176, 6.0), (207, 2.0), (2024, 10.0), (629, 10.0), (1233, 8.0), (245, 8.0), (1969, 2.0), (109, 2.0), (319, 10.0), (1093, 6.0), (890, 8.0), (1067, 4.0), (518, 4.0), (613, 4.0), (414, 4.0), (279, 10.0), (251, 10.0), (223, 10.0), (556, 6.0), (548, 2.0), (767, 10.0), (728, 2.0), (568, 8.0), (65, 2.0), (268, 10.0), (290, 10.0), (325, 8.0), (925, 4.0), (1233, 4.0), (163, 10.0), (378, 4.0), (207, 8.0), (1908, 8.0), (572, 2.0), (304, 2.0), (177, 10.0), (760, 10.0), (209, 10.0), (189, 6.0), (741, 10.0), (205, 10.0), (550, 6.0), (355, 4.0), (106, 10.0), (46, 4.0), (178, 4.0), (295, 2.0), (97, 2.0), (656, 4.0), (1341, 2.0), (319, 8.0), (97, 4.0), (503, 8.0), (473, 8.0), (562, 8.0), (1072, 10.0), (141, 2.0), (268, 2.0), (1190, 8.0), (0, 4.0), (194, 8.0), (925, 2.0), (643, 4.0), (1128, 4.0), (1131, 4.0), (277, 2.0), (291, 4.0), (295, 4.0), (179, 4.0), (304, 4.0), (624, 10.0), (787, 6.0), (61, 10.0), (2037, 10.0), (762, 2.0), (138, 6.0), (506, 4.0), (190, 6.0), (1128, 6.0), (201, 8.0), (2053, 10.0), (401, 10.0), (1319, 2.0), (569, 8.0), (256, 4.0), (90, 4.0), (73, 6.0), (105, 2.0), (1319, 10.0), (79, 8.0), (518, 10.0), (245, 2.0), (663, 10.0), (423, 8.0), (16, 6.0), (1482, 4.0), (239, 4.0), (130, 2.0), (667, 10.0), (810, 2.0), (134, 2.0), (781, 4.0), (292, 10.0), (304, 8.0), (1437, 6.0), (908, 10.0), (351, 6.0), (223, 8.0), (76, 2.0), (234, 8.0), (30, 4.0), (163, 4.0), (119, 8.0), (1146, 8.0), (489, 2.0), (587, 2.0), (319, 2.0), (574, 8.0), (154, 6.0), (199, 10.0), (369, 6.0), (46, 10.0), (293, 10.0), (1057, 10.0), (223, 2.0), (550, 4.0), (140, 2.0), (1113, 2.0), (1308, 4.0), (1131, 10.0), (153, 2.0), (115, 8.0), (193, 6.0), (116, 8.0), (728, 4.0), (607, 10.0), (11, 2.0), (189, 4.0), (97, 6.0), (13, 6.0), (195, 8.0), (689, 4.0), (82, 10.0), (369, 2.0), (302, 10.0), (528, 2.0), (262, 6.0), (110, 8.0), (439, 4.0), (205, 4.0), (886, 8.0), (480, 8.0), (351, 10.0), (133, 8.0), (361, 4.0), (410, 2.0), (65, 4.0), (480, 6.0), (121, 8.0), (541, 8.0), (183, 8.0), (56, 6.0), (193, 8.0), (233, 6.0), (773, 8.0), (578, 6.0), (798, 4.0), (584, 8.0), (1360, 6.0), (79, 10.0), (233, 10.0), (584, 10.0), (762, 10.0), (422, 6.0), (111, 4.0), (1113, 10.0), (194, 10.0), (220, 8.0), (677, 8.0), (912, 8.0), (1226, 8.0), (1236, 10.0), (574, 2.0), (467, 8.0), (381, 2.0), (787, 8.0), (546, 10.0), (1069, 2.0), (118, 10.0), (235, 4.0), (43, 6.0), (457, 10.0), (115, 4.0), (1437, 2.0), (886, 10.0), (66, 2.0), (307, 2.0), (554, 8.0), (678, 4.0), (142, 2.0), (758, 6.0), (372, 10.0), (1156, 2.0), (11, 8.0), (798, 8.0), (1226, 10.0), (367, 2.0), (176, 8.0), (1156, 6.0), (365, 2.0), (491, 8.0), (206, 8.0), (747, 4.0), (158, 10.0), (1188, 10.0), (178, 8.0), (330, 10.0), (727, 10.0), (73, 10.0), (1109, 4.0), (1513, 10.0), (1219, 2.0), (572, 4.0), (262, 4.0), (182, 8.0), (335, 10.0), (1160, 6.0), (1341, 4.0), (1076, 10.0), (239, 8.0), (61, 6.0), (265, 8.0), (2016, 6.0), (657, 2.0), (1521, 6.0), (886, 2.0), (578, 2.0), (656, 6.0), (205, 6.0), (207, 6.0), (758, 4.0), (1029, 2.0), (981, 8.0), (145, 10.0), (418, 4.0), (275, 8.0), (11, 10.0), (643, 8.0), (75, 4.0), (728, 8.0), (740, 8.0), (250, 8.0), (328, 10.0), (137, 4.0), (457, 8.0), (813, 2.0), (444, 6.0), (728, 10.0), (239, 10.0), (787, 4.0), (1259, 10.0), (1724, 8.0), (82, 4.0), (32, 10.0), (1808, 10.0), (932, 10.0), (1156, 8.0), (183, 6.0), (881, 2.0), (16, 4.0), (193, 10.0), (591, 8.0), (351, 8.0), (842, 6.0), (154, 10.0), (670, 10.0), (1259, 6.0), (216, 2.0), (141, 8.0), (322, 10.0), (1156, 4.0), (38, 4.0), (378, 2.0), (298, 2.0), (331, 10.0), (381, 4.0), (23, 6.0), (528, 8.0), (336, 6.0), (367, 6.0), (355, 8.0), (1360, 2.0), (457, 2.0), (546, 8.0), (182, 10.0), (11, 4.0), (82, 6.0), (460, 8.0), (1098, 2.0), (23, 10.0), (460, 2.0), (1053, 10.0), (1053, 8.0), (66, 10.0), (125, 2.0), (1067, 10.0), (298, 8.0), (182, 4.0), (708, 10.0), (13, 4.0), (167, 10.0), (466, 4.0), (179, 6.0), (1029, 4.0), (32, 4.0), (170, 10.0), (763, 6.0), (799, 8.0), (275, 10.0), (923, 4.0), (1319, 8.0), (76, 10.0), (106, 8.0), (1067, 6.0), (657, 10.0), (1315, 8.0), (399, 8.0), (1101, 4.0), (1219, 8.0), (122, 6.0), (418, 6.0), (1093, 2.0), (630, 8.0), (138, 4.0), (170, 2.0), (249, 6.0), (166, 6.0), (1510, 8.0), (32, 8.0), (420, 8.0), (631, 2.0), (158, 8.0), (527, 4.0), (256, 10.0), (50, 4.0), (1341, 10.0), (594, 6.0), (854, 2.0), (751, 2.0), (66, 4.0), (367, 8.0), (138, 8.0), (270, 10.0), (1455, 8.0), (82, 8.0), (199, 6.0), (16, 10.0), (678, 2.0), (13, 8.0), (19, 8.0)] \n",
      "\n",
      "\n",
      "top 3 values from testset: \n",
      "\n",
      "('Ð\\x9dÐ¸ÐºÐ¾Ð»Ð°Ð¹', 'nokia x2 02', 8.0)\n",
      "\n",
      "('Anne', 'samsung galaxy ace plus', 10.0)\n",
      "\n",
      "('Johan', 'sony ericsson w205', 4.0)\n"
     ]
    }
   ],
   "source": [
    "# Rearrange columns for SVD and prepare train and testsets\n",
    "revs50_ = Dataset.load_from_df(revs_50[['author','product','score']], Reader(rating_scale=(1, 10)))\n",
    "trainset, testset = train_test_split(revs50_, test_size=.25,random_state=RS)\n",
    "\n",
    "print('top 3 values from trainset: \\n')\n",
    "for key,value in {k: v for k, v in trainset.ur.items() if k <= 2}.items(): print(key,'-> ',value,'\\n')\n",
    "print('\\ntop 3 values from testset: ', *testset[0:3], sep='\\n\\n')"
   ]
  },
  {
   "cell_type": "code",
   "execution_count": 50,
   "id": "f13e1584",
   "metadata": {},
   "outputs": [],
   "source": [
    "# Objective: To get top_n recommendation for each user\n",
    "def get_top_n(predictions, n=5):\n",
    "    # First map the predictions to each user.\n",
    "    top_n = defaultdict(list)\n",
    "    for uid, iid, true_r, est, _ in predictions:\n",
    "        top_n[uid].append((iid, est))\n",
    "\n",
    "    # Then sort the predictions for each user and retrieve the n highest ones.\n",
    "    for uid, user_ratings in top_n.items():\n",
    "        user_ratings.sort(key=lambda x: x[1], reverse=True)\n",
    "        top_n[uid] = user_ratings[:n]\n",
    "\n",
    "    return top_n"
   ]
  },
  {
   "cell_type": "code",
   "execution_count": 51,
   "id": "9d83dbd9",
   "metadata": {},
   "outputs": [
    {
     "name": "stdout",
     "output_type": "stream",
     "text": [
      "First few prediction values: \n",
      " [Prediction(uid='Ð\\x9dÐ¸ÐºÐ¾Ð»Ð°Ð¹', iid='nokia x2 02', r_ui=8.0, est=8.43128058759973, details={'was_impossible': False}), Prediction(uid='Anne', iid='samsung galaxy ace plus', r_ui=10.0, est=7.801063011653431, details={'was_impossible': False})]\n",
      "RMSE: 2.9455\n",
      "\n",
      "RMSE value(test-set):  2.95 \n",
      "\n",
      "RMSE: 2.9455\n"
     ]
    }
   ],
   "source": [
    "# fit and predict using svd\n",
    "def svd_func(train, test):\n",
    "    svd = SVD(random_state=RS)\n",
    "    svd.fit(train)\n",
    "    svd_pred = svd.test(test)\n",
    "    return svd_pred, svd\n",
    "\n",
    "svd_pred, svd = svd_func(trainset,testset)\n",
    "print('First few prediction values: \\n',svd_pred[0:2])\n",
    "print('\\nRMSE value(test-set): ',round(accuracy.rmse(svd_pred),2),'\\n') # compute RMSE\n",
    "svd_rmse = round(accuracy.rmse(svd_pred),2)"
   ]
  },
  {
   "cell_type": "markdown",
   "id": "60721086",
   "metadata": {},
   "source": [
    "### Collaborative filtering model using kNNWithMeans_Item based"
   ]
  },
  {
   "cell_type": "code",
   "execution_count": 52,
   "id": "b582f7d9",
   "metadata": {},
   "outputs": [
    {
     "name": "stdout",
     "output_type": "stream",
     "text": [
      "Estimating biases using als...\n",
      "Computing the pearson_baseline similarity matrix...\n",
      "Done computing similarity matrix.\n",
      "First few prediction values: \n",
      " [Prediction(uid='Ð\\x9dÐ¸ÐºÐ¾Ð»Ð°Ð¹', iid='nokia x2 02', r_ui=8.0, est=9.11841112682344, details={'actual_k': 50, 'was_impossible': False}), Prediction(uid='Anne', iid='samsung galaxy ace plus', r_ui=10.0, est=7.895110651031385, details={'actual_k': 39, 'was_impossible': False})]\n",
      "RMSE: 2.8571\n",
      "\n",
      "RMSE value(Item-based Model, test-set):  2.86 \n",
      "\n",
      "RMSE: 2.8571\n"
     ]
    }
   ],
   "source": [
    "# fit and predict using knn\n",
    "def knn_item(train, test):\n",
    "    knn_i = KNNWithMeans(k=50, sim_options={'name': 'pearson_baseline', 'user_based': False})\n",
    "    knn_i.fit(train)\n",
    "    knn_i_pred = knn_i.test(test)\n",
    "    return knn_i_pred, knn_i\n",
    "\n",
    "knn_i_pred, knn_i = knn_item(trainset, testset)\n",
    "print('First few prediction values: \\n',knn_i_pred[0:2])\n",
    "print('\\nRMSE value(Item-based Model, test-set): ',round(accuracy.rmse(knn_i_pred),2),'\\n') # compute RMSE\n",
    "knn_i_rmse = round(accuracy.rmse(knn_i_pred),2)"
   ]
  },
  {
   "cell_type": "markdown",
   "id": "ec0f21dc",
   "metadata": {},
   "source": [
    "### Collaborative filtering model using kNNWithMeans_User based"
   ]
  },
  {
   "cell_type": "code",
   "execution_count": 53,
   "id": "fed42931",
   "metadata": {},
   "outputs": [
    {
     "name": "stdout",
     "output_type": "stream",
     "text": [
      "Estimating biases using als...\n",
      "Computing the pearson_baseline similarity matrix...\n",
      "Done computing similarity matrix.\n",
      "First few prediction values: \n",
      " [Prediction(uid='Ð\\x9dÐ¸ÐºÐ¾Ð»Ð°Ð¹', iid='nokia x2 02', r_ui=8.0, est=8.33819154144121, details={'actual_k': 24, 'was_impossible': False}), Prediction(uid='Anne', iid='samsung galaxy ace plus', r_ui=10.0, est=8.101437744519474, details={'actual_k': 13, 'was_impossible': False})]\n",
      "RMSE: 2.8866\n",
      "\n",
      "RMSE value(User-based Model, test-set):  2.89 \n",
      "\n",
      "RMSE: 2.8866\n"
     ]
    }
   ],
   "source": [
    "# fit and predict using knn\n",
    "def knn_user(train, test):\n",
    "    knn_u = KNNWithMeans(k=50, sim_options={'name': 'pearson_baseline', 'user_based': True})\n",
    "    knn_u.fit(train)\n",
    "    knn_u_pred = knn_u.test(test)\n",
    "    return knn_u_pred, knn_u\n",
    "\n",
    "knn_u_pred, knn_u = knn_user(trainset, testset)\n",
    "print('First few prediction values: \\n',knn_u_pred[0:2])\n",
    "print('\\nRMSE value(User-based Model, test-set): ',round(accuracy.rmse(knn_u_pred),2),'\\n') # compute RMSE\n",
    "knn_u_rmse = round(accuracy.rmse(knn_u_pred),2)"
   ]
  },
  {
   "cell_type": "markdown",
   "id": "9831a046",
   "metadata": {},
   "source": [
    "# 5."
   ]
  },
  {
   "cell_type": "code",
   "execution_count": 58,
   "id": "214f8593",
   "metadata": {},
   "outputs": [
    {
     "name": "stdout",
     "output_type": "stream",
     "text": [
      "svd_rmse =  2.95 \n",
      "knn_i_rmse =  2.86 \n",
      "knn_u_rmse =  2.89\n"
     ]
    },
    {
     "data": {
      "image/png": "[encoded data removed]",
      "text/plain": [
       "<Figure size 432x288 with 1 Axes>"
      ]
     },
     "metadata": {
      "needs_background": "light"
     },
     "output_type": "display_data"
    }
   ],
   "source": [
    "# Comparison of RMSE scores from different collaorative algorithms\n",
    "sns.barplot(x=['svd_rmse','knn_i_rmse', 'knn_u_rmse'],y=[svd_rmse,knn_i_rmse, knn_u_rmse])\n",
    "print('svd_rmse = ',svd_rmse,'\\nknn_i_rmse = ',knn_i_rmse,'\\nknn_u_rmse = ', knn_u_rmse)"
   ]
  },
  {
   "cell_type": "markdown",
   "id": "1a4b5b81",
   "metadata": {},
   "source": [
    "Best RMSE score is given by knn (item based)."
   ]
  },
  {
   "cell_type": "markdown",
   "id": "15853352",
   "metadata": {},
   "source": [
    "# 6."
   ]
  },
  {
   "cell_type": "code",
   "execution_count": 59,
   "id": "de0ce436",
   "metadata": {},
   "outputs": [
    {
     "name": "stdout",
     "output_type": "stream",
     "text": [
      "average prediction for test users:  7.819237602039821\n",
      "average rating  by test users:  7.858851074504558\n",
      "average prediction error for test users:  2.282413974985396\n"
     ]
    }
   ],
   "source": [
    "svd_pred_df=pd.DataFrame(svd_pred, columns=['uid', 'iid', 'rui', 'est', 'details'])\n",
    "print('average prediction for test users: ',svd_pred_df['est'].mean())\n",
    "print('average rating  by test users: ',svd_pred_df['rui'].mean())\n",
    "print('average prediction error for test users: ',(svd_pred_df['rui']-svd_pred_df['est']).abs().mean())"
   ]
  },
  {
   "cell_type": "code",
   "execution_count": 60,
   "id": "fd3232f1",
   "metadata": {},
   "outputs": [
    {
     "name": "stdout",
     "output_type": "stream",
     "text": [
      "average prediction for test users:  7.766144481908979\n",
      "average rating  by test users:  7.858851074504558\n",
      "average prediction error for test users:  2.2493368155795688\n"
     ]
    }
   ],
   "source": [
    "knn_i_pred_df=pd.DataFrame(knn_i_pred, columns=['uid', 'iid', 'rui', 'est', 'details'])\n",
    "print('average prediction for test users: ',knn_i_pred_df['est'].mean())\n",
    "print('average rating  by test users: ',knn_i_pred_df['rui'].mean())\n",
    "print('average prediction error for test users: ',(knn_i_pred_df['rui']-knn_i_pred_df['est']).abs().mean())"
   ]
  },
  {
   "cell_type": "code",
   "execution_count": 61,
   "id": "156ae0ba",
   "metadata": {},
   "outputs": [
    {
     "name": "stdout",
     "output_type": "stream",
     "text": [
      "average prediction for test users:  7.794279728901006\n",
      "average rating  by test users:  7.858851074504558\n",
      "average prediction error for test users:  2.2425663839528136\n"
     ]
    }
   ],
   "source": [
    "knn_u_pred_df=pd.DataFrame(knn_u_pred, columns=['uid', 'iid', 'rui', 'est', 'details'])\n",
    "print('average prediction for test users: ',knn_u_pred_df['est'].mean())\n",
    "print('average rating  by test users: ',knn_u_pred_df['rui'].mean())\n",
    "print('average prediction error for test users: ',(knn_u_pred_df['rui']-knn_u_pred_df['est']).abs().mean())"
   ]
  },
  {
   "cell_type": "markdown",
   "id": "2fd7fea7",
   "metadata": {},
   "source": [
    "# 7."
   ]
  },
  {
   "cell_type": "markdown",
   "id": "eba23574",
   "metadata": {},
   "source": [
    "### Findings and Inferences"
   ]
  },
  {
   "cell_type": "markdown",
   "id": "a7089490",
   "metadata": {},
   "source": [
    "1) Most popular phone (rated 10 by highest number of people):\n",
    "\n",
    "    Overall: verykool t742\n",
    "    Amongst top users: samsung e1120\n",
    "\n",
    "2) Overall data is highly skewed towards 'Amazon customers' from different countries. This may also be because 'Amazon' is the biggest trader for phones in the world. Although correct 'user' names from 'Amazon' should have used.\n",
    "\n",
    "3) Most of the authors have given the rating of '10' or '8'.\n",
    "\n",
    "4) Both knn_i(item-based) and knn_u(user-based) have roughly similar RMSE."
   ]
  },
  {
   "cell_type": "markdown",
   "id": "f2ddcdc9",
   "metadata": {},
   "source": [
    "# 8."
   ]
  },
  {
   "cell_type": "code",
   "execution_count": 62,
   "id": "9c803f0c",
   "metadata": {},
   "outputs": [
    {
     "name": "stdout",
     "output_type": "stream",
     "text": [
      "Top 5 recommendations for all test users are: \n",
      "\n",
      "ÐÐ¸ÐºÐ¾Ð»Ð°Ð¹ ->  [('acer liquid z5 duo', 10), ('apple iphone 6s', 9.694827191659575), ('sony xperia z 504642', 9.562778626563937), ('asus zenfone selfie zd551kl', 9.302303966268525), ('samsung galaxy j7', 9.241888206543836)] \n",
      "\n",
      "Anne ->  [('apple iphone 7', 9.195218538291176), ('apple iphone 7', 9.195218538291176), ('lg k10', 9.02715056325575), ('samsung wave 3', 8.883073733692498), ('sony ericsson k510i', 8.802552047819699)] \n",
      "\n",
      "Johan ->  [('huawei ascend mate 8', 9.96848169006881), ('huawei p8', 9.688017733622505), ('huawei p8', 9.688017733622505), ('samsung gt b2100', 9.112027583862266), ('samsung galaxy s7 edge', 9.056284713577208)] \n",
      "\n",
      "ana ->  [('sony xperia tx', 9.216049854480461), ('huawei ascend g7', 8.600136051576127), ('doogee dagger dg550', 8.354078279290249), ('lg g2 594708', 8.302605024502217), ('samsung galaxy j5', 8.13537148128063)] \n",
      "\n",
      "anonym ->  [('sony cmd j70', 10), ('sony ericsson w550i', 10), ('motorola timeport l7089', 10), ('motorola v2288', 9.643845781400177), ('motorola v2288', 9.643845781400177)] \n",
      "\n",
      "Marc ->  [('huawei honor 4x', 9.36074569705199), ('motorola moto g 753361', 9.273934066694625), ('microsoft lumia 535', 9.210085281349375), ('samsung galaxy s6 edge sm g925f', 9.168803045399269), ('huawei honor 6', 9.125054051870867)] \n",
      "\n",
      "Francesco ->  [('qtek 9100', 9.543176583192993), ('lg l bello', 9.475760006183773), ('huawei honor 6x', 9.455224383979465), ('huawei ascend g620s', 9.364873969572189), ('samsung c3520', 9.239149029173884)] \n",
      "\n",
      "emre ->  [('lg optimus g pro', 9.799030913893173), ('alcatel one touch idol ultra', 9.759997004529858), ('samsung gt i8552', 9.73346187640533), ('lg p713 optimus l7 ii', 9.552528637510955), ('samsung galaxy note 5 sm n920f', 9.444954255943745)] \n",
      "\n",
      "Amazon Customer ->  [('samsung transform', 10), ('sagem my x 2', 10), ('pantech caper', 10), ('zte nubia z5s mini', 10), ('lg d lite gd570', 10)] \n",
      "\n",
      "Laura ->  [('samsung galaxy a5', 9.457182609396611), ('sony ericsson xperia pro', 9.171860983591642), ('asus zenfone 3 max', 9.08633762725864), ('nokia 5310', 8.946822738125526), ('samsung galaxy a3 819970', 8.832007517984023)] \n",
      "\n",
      "Andrea ->  [('motorola moto x', 9.343784490362795), ('samsung galaxy s ii plus', 9.255383460846527), ('lg g5', 9.171587253206004), ('microsoft lumia 950 xl', 9.116363130470342), ('apple iphone 7', 9.096935262279315)] \n",
      "\n",
      "e-bit ->  [('samsung galaxy a7 2017', 9.508440596877067), ('lg optimus g e977', 9.425119887738038), ('asus zenfone selfie zd551kl', 8.82540229984665), ('samsung galaxy s5 neo sm g903f', 8.768488836410206), ('samsung galaxy s5 neo sm g903f', 8.768488836410206)] \n",
      "\n",
      "Luis ->  [('nokia lumia 630', 9.123192048161203), ('huawei ascend y550', 9.087556085595622), ('sony xperia sp', 8.846315351956658), ('lg g3 d722', 8.641451923467908), ('samsung galaxy s7 789999', 8.635153681138009)] \n",
      "\n",
      "Ð¢Ð°ÑÑÑÐ½Ð° ->  [('apple iphone se', 9.763932488981391), ('nokia lumia 720', 9.720501558781844), ('samsung galaxy s7 789999', 9.501254791656297), ('sony xperia z 504642', 9.424397124388475), ('apple iphone 6s plus', 9.35700957541772)] \n",
      "\n",
      "Anna ->  [('sony ericsson w760i', 9.474383777257044), ('alcatel onetouch pop 3 5015d', 9.3910879836826), ('nokia 6303i', 9.332770906412074), ('sony xperia x compact', 9.161942210372723), ('nokia lumia 720', 9.146999931659957)] \n",
      "\n",
      "?????????????? ->  [('sony xperia p', 9.371002276049964), ('samsung galaxy note', 9.294337956196769), ('nokia asha 309', 9.26254222309181), ('apple iphone 4s', 9.253257315698058), ('apple iphone 4s', 9.253257315698058)] \n",
      "\n",
      "Stephen ->  [('samsung galaxy a3 819970', 9.34328878491593), ('samsung galaxy a3 819970', 9.34328878491593), ('lg google nexus 5', 8.782523376340052), ('samsung e1190', 8.455851476088306), ('microsoft lumia 650', 8.329190443859286)] \n",
      "\n",
      "John ->  [('huawei mate 9', 9.683243194455516), ('sony ericsson w810i', 9.617882573110503), ('htc one m7', 9.09075097407537), ('motorola moto z play', 9.077318484321179), ('google nexus 5x h791', 9.043708302347282)] \n",
      "\n",
      "Giulio ->  [('huawei ascend mate 7', 9.406446603895853), ('alcatel one touch pop c7 7041d', 9.351514761132076), ('huawei p8 lite 2017', 9.326863117407282), ('huawei p9 lite', 9.139754777457249), ('samsung s7580 galaxy trend plus', 9.127558546112375)] \n",
      "\n",
      "Marco ->  [('lg l90 d410', 9.621592991093442), ('huawei ascend honor 3c', 9.500301552260877), ('apple iphone 7', 9.462759453023889), ('htc incredible s', 9.405176710757587), ('lg g2 594708', 9.39007084217671)] \n",
      "\n",
      "Cliente de Amazon ->  [('lg g2 594708', 9.035507508171143), ('motorola moto e', 8.843581682083386), ('samsung galaxy s iii neo i9300i', 8.803185546873124), ('huawei honor 8', 8.68594765670054), ('sony xperia z2', 8.645098482020218)] \n",
      "\n",
      "Sandy ->  [('doogee dg2014', 9.372874728838267), ('samsung galaxy s4 mini gt i9190 gt i9192 dual sim', 8.924772613777055), ('huawei ascend g730', 8.922602026406102), ('lg optimus l7 ii dual', 8.913047394084222), ('samsung e2330', 8.834909804865568)] \n",
      "\n",
      "Giorgio ->  [('asus zenfone 2 ze551ml', 9.341496676734522), ('huawei ascend y550', 9.305101040737174), ('motorola moto g', 9.238551878751052), ('motorola moto g', 9.238551878751052), ('huawei p8 lite', 8.956866990312802)] \n",
      "\n",
      "Phil ->  [('samsung e950', 9.286976253157475), ('lg g3 d855 657484', 9.281644535477106), ('lg g3 d855 657484', 9.281644535477106), ('google nexus 5x h791', 9.09344065402781), ('htc 8x', 8.900323808737632)] \n",
      "\n",
      "Nicolas ->  [('elephone p8000', 9.575952524562402), ('samsung galaxy a5 2016', 9.45904237877628), ('nokia lumia 930', 9.433859173433255), ('samsung galaxy note', 9.265305818521608), ('lg g2 594708', 9.215376693574854)] \n",
      "\n",
      "Client d'Amazon ->  [('huawei ascend y550', 9.333785666028566), ('asus zc551kl', 8.533026663209563), ('blu advance 4 0 l2', 8.466417539750784), ('sony xperia x f5121', 8.450372834666066), ('xiaomi redmi note 2', 8.4439709930978)] \n",
      "\n",
      "Jennifer ->  [('htc radar', 9.710349047915036), ('samsung galaxy a3 819970', 9.684295157523348), ('apple iphone 4s', 9.61402615735323), ('apple iphone 4s', 9.61402615735323), ('samsung galaxy s4 zoom', 9.597265623461517)] \n",
      "\n",
      "ÐÐ»ÐµÐºÑÐ°Ð½Ð´Ñ ->  [('huawei u8500', 9.722462822143186), ('nokia n81', 9.671207900656377), ('lg optimus one p500', 9.654520056554528), ('samsung galaxy s8', 9.421861541892998), ('nokia c7 00i', 9.38176946477196)] \n",
      "\n",
      "?????????????? ???????????? ->  [('alcatel ot 995', 9.830699545511067), ('sony xperia p', 8.717522277440315), ('htc desire sv', 8.197071073151898), ('nokia lumia 820', 8.132832287910325), ('nokia asha 311', 8.105883959983005)] \n",
      "\n",
      "Ravi ->  [('motorola moto g3', 8.98303394120724), ('nokia lumia 930', 8.133237079896503), ('nokia lumia 929', 7.880167160149514), ('lenovo vibe k4 note', 7.792670712940954), ('lenovo zuk z1', 7.7176381347307235)] \n",
      "\n",
      "Jason ->  [('google nexus 6p', 8.862914775161904), ('microsoft lumia 650', 8.839868218087133), ('mysaga c2', 8.729335098602807), ('google nexus 5x h791', 8.549787801285893), ('htc 10', 8.338942237897902)] \n",
      "\n",
      "Fred ->  [('wiko highway', 9.057042682210847), ('samsung galaxy a5 2016', 8.975571549903528), ('motorola moto x', 8.900975604048101), ('apple iphone 5s', 8.647492259486118), ('lg google nexus 5', 8.293940126410666)] \n",
      "\n",
      "Maurizio ->  [('samsung galaxy j5', 9.4861744236218), ('samsung galaxy star', 9.285223652124614), ('huawei p9 lite', 9.271708431019412), ('samsung galaxy s6', 9.01402561198384), ('lg l90 d410', 9.013639964962913)] \n",
      "\n",
      "Fabio ->  [('huawei ascend mate 7', 9.739880968418415), ('nokia lumia 930', 9.606294459775793), ('nokia c2 05', 9.549895792881003), ('huawei honor 6', 9.458090226979474), ('huawei honor 6', 9.458090226979474)] \n",
      "\n",
      "ÐÐ°ÑÐ°Ð»ÑÑ ->  [('samsung galaxy j1 2016 4 5 sm j120', 9.276622567630772), ('sony xperia l', 9.2197942364444), ('samsung galaxy j5', 9.178094910740935), ('samsung galaxy a3 819970', 9.14381189716166), ('samsung galaxy j3 duos', 9.047633338643045)] \n",
      "\n",
      "Antonio ->  [('lg e450 optimus l5 ii', 9.680955686597805), ('lg eclipse 4g lte', 9.371413592282432), ('samsung galaxy j5 4g lte 5 2 inches', 9.32712863186946), ('samsung galaxy j5', 9.241757579771996), ('samsung galaxy j5', 9.241757579771996)] \n",
      "\n",
      "Misafir ->  [('alcatel ot 995', 10), ('vodafone 360 samsung h1', 10), ('vodafone 555 blue', 9.948010211177115), ('samsung b7350', 9.787735492485332), ('samsung galaxy grand neo gt i9060', 9.49759386735682)] \n",
      "\n",
      "Greg ->  [('samsung ativ s', 9.616446942297756), ('samsung galaxy note 2', 9.616273792508165), ('apple iphone 6s', 9.21849670495213), ('huawei ascend g7', 9.095403133568068), ('sony xperia xa ultra', 9.003554121301983)] \n",
      "\n",
      "Maria ->  [('samsung galaxy grand neo gt i9060', 9.729623091237045), ('lg optimus g', 9.71271209464694), ('samsung c322', 9.567250453324574), ('apple iphone 6s', 9.450926597358176), ('huawei ascend honor 3c', 9.222009099642774)] \n",
      "\n",
      "Ray ->  [('motorola krave zn4', 8.999883453387412), ('apple iphone se', 8.717369445073292), ('huawei honor 6', 8.675950318929269), ('huawei y6 ii compact', 8.613609487834092), ('samsung galaxy s5 mini', 8.601881955996754)] \n",
      "\n",
      "Paul ->  [('samsung shark3 s3550', 9.69749624652279), ('samsung e1100', 9.236906527336552), ('lg g2 594708', 9.157845556886926), ('nokia 6700 classic', 9.06651663608419), ('samsung galaxy s8', 8.822422578915198)] \n",
      "\n",
      "Alice ->  [('apple iphone 4s', 9.602146395429177), ('samsung galaxy a3 2016', 9.161618185341304), ('nokia asha touch 305', 8.66351746979742), ('nokia lumia 1020', 8.579287112568572), ('nokia n95', 8.210874381572813)] \n",
      "\n",
      "Cliente Amazon ->  [('motorola moto x 1 moto x1 moto x 2nd gen', 9.233077154134063), ('huawei nova', 8.987825036676897), ('sony xperia x compact', 8.606054986928699), ('zte blade s6', 8.538248775967237), ('zte blade s6', 8.538248775967237)] \n",
      "\n",
      "dilekh ->  [('nokia e66', 9.808622171247366), ('motorola rizr z3', 9.43206194217034), ('nokia 5500 sport', 9.11352973432942), ('samsung e2232', 8.996008563095547), ('samsung s5600 preston', 8.847444089440172)] \n",
      "\n",
      "Sunny ->  [('sony xperia xa ultra', 9.266231880072631), ('asus zenfone 3', 8.632151706079949), ('blackberry q10', 8.484184872085647), ('meizu m1 note', 8.44799487771982), ('apple iphone 6s plus', 8.446493299809202)] \n",
      "\n",
      "J ->  [('sony ericsson cedar', 9.124278510208077), ('nokia lumia 930', 8.840091262488574), ('motorola w755', 8.559988382699427), ('samsung galaxy note 2', 8.059237176624428), ('samsung galaxy note 2', 8.059237176624428)] \n",
      "\n",
      "dolunay ->  [('samsung sgh e740', 9.448624168081402), ('samsung p520', 9.305704922613478), ('samsung sgh b300', 9.290760099092122), ('nokia 6288', 9.232788183547465), ('samsung galaxy fit', 9.100115284348481)] \n",
      "\n",
      "Qantas ->  [('samsung galaxy mega 6 3 i9200', 9.530633716634826), ('sony xperia p', 8.873287444872505), ('huawei ascend p1', 8.824103643988735), ('htc one max', 8.737269954384436), ('nokia lumia 620', 8.711549513733418)] \n",
      "\n",
      "Josh ->  [('vodafone 785 smart 4 mini', 9.994918445931004), ('samsung galaxy nexus', 9.885482199164741), ('htc m8', 9.53149291847689), ('lg optimus g pro', 9.491860227423349), ('huawei honor 6x', 9.464757927727089)] \n",
      "\n",
      "William ->  [('motorola moto g 4 plus', 9.681194789183339), ('lg l90 d410', 9.589802533578865), ('samsung galaxy s6', 9.324458286444575), ('apple iphone 6s', 9.323543310489324), ('apple iphone 4s', 9.266091583153896)] \n",
      "\n",
      "Lauren ->  [('sony xperia z 504642', 8.141464635659977), ('alcatel onetouch pixi 4', 8.124340774919975), ('apple iphone 5s', 7.980670272458398), ('cubot x9', 7.515853782409841), ('samsung galaxy j2', 7.4514846107746315)] \n",
      "\n",
      "Stefan ->  [('huawei p8', 9.425172520168099), ('samsung galaxy note 2', 9.106439674308834), ('samsung e1182', 8.95917251660157), ('htc 10', 8.928028195826254), ('doro phoneeasy 612', 8.760993302721488)] \n",
      "\n",
      "umoo ->  [('lg ke990', 9.59251308618827), ('sony ericsson w950i', 9.589941956812575), ('lg kp110', 9.561230557470115), ('siemens cx75', 9.526974516895255), ('samsung g810', 9.523624251872477)] \n",
      "\n",
      "Alessandra ->  [('cubot gt99', 9.79207064849675), ('samsung galaxy s i9000', 9.345356414082877), ('samsung s3850', 9.13699132589428), ('nokia asha 302', 9.125336896314053), ('nokia 105', 8.985944450340016)] \n",
      "\n",
      "Max ->  [('lg optimus hub e510', 9.60165478267284), ('apple iphone se', 9.240369662004278), ('samsung galaxy s iii neo i9300i', 9.061465949582685), ('nokia lumia 635', 8.852785886875326), ('huawei ascend mate 8', 8.852135108374753)] \n",
      "\n",
      "ÐÐ¼Ð¸ÑÑÐ¸Ð¹ ->  [('zte v987', 10), ('lenovo a536', 9.655191785494324), ('lenovo p700i', 9.629993825536905), ('samsung galaxy s8 plus', 9.593105267764098), ('samsung galaxy j7', 9.498616446215411)] \n",
      "\n",
      "Robert ->  [('sagem my600x', 10), ('lg g2 594708', 9.44201200196999), ('samsung e2600', 9.259843567129051), ('htc one m8s', 9.228505358673372), ('samsung galaxy s8', 8.928407604184555)] \n",
      "\n",
      "Carlos ->  [('lenovo moto g4 play', 9.379259161924335), ('huawei ascend mate', 9.300003188645128), ('thl w200', 9.127940044794805), ('samsung galaxy s6', 8.99020067565339), ('lg g5', 8.981982686721393)] \n",
      "\n",
      "Raffaele ->  [('cubot p6', 9.87776115186769), ('huawei honor 7', 9.519884747027714), ('nokia c2 01', 9.390647619819335), ('lg google nexus 5', 9.343485996914229), ('huawei y635', 9.238960247128146)] \n",
      "\n",
      "ÐÐ²Ð°Ð½ ->  [('samsung u800 soul', 9.65237784840803), ('samsung galaxy s7 789999', 9.397290347412156), ('nokia lumia 925', 9.324433852877286), ('apple iphone 6s', 9.316093769462658), ('sony xperia sp', 9.245635105860018)] \n",
      "\n",
      "Gaetano ->  [('microsoft lumia 950 xl', 9.121824408200032), ('blackberry z10', 8.885188757825565), ('samsung galaxy s iii neo i9300i', 8.637983643013929), ('alcatel one touch 997d ot 997d', 8.554023736334843), ('nokia lumia 630', 8.470644695559468)] \n",
      "\n",
      "Marie ->  [('samsung galaxy y s5360', 9.489984216455309), ('samsung galaxy s4 mini gt i9190 gt i9192 dual sim', 9.167065516857901), ('asus zenfone selfie zd551kl', 9.02019494287889), ('samsung wave 723 gt s7230e', 8.83221653022576), ('apple iphone 7', 8.753560588598162)] \n",
      "\n",
      "Amazon Kunde ->  [('huawei ascend y550', 9.446297096009712), ('htc desire 530', 9.29476385978721), ('htc one m8s', 9.127783249308365), ('htc one m8s', 9.127783249308365), ('nokia 7230', 9.024848069370137)] \n",
      "\n",
      "huliye ->  [('nokia 6760 slide', 9.63585771529515), ('lg kp110', 9.55465596319731), ('nokia n81', 9.510869161321216), ('nokia 7360', 9.503921795832351), ('nokia 6288', 9.406108839991637)] \n",
      "\n",
      "Philipp ->  [('htc legend', 9.66384396120139), ('apple iphone 6', 9.431970067975596), ('apple iphone 5s', 9.141465615914196), ('motorola moto g', 8.870011044875644), ('alcatel one touch 997d ot 997d', 8.784392733487245)] \n",
      "\n",
      "Ben ->  [('motorola v620', 9.546667005735701), ('samsung galaxy note 5 sm n920f', 9.290566416252384), ('motorola xt1225', 9.089868725676427), ('samsung galaxy note 2', 8.945948344162066), ('nokia 5140i', 8.849051756830846)] \n",
      "\n",
      "Samantha ->  [('htc one max', 8.899227669142551), ('nokia lumia 900', 8.810774630296285), ('apple iphone 6s plus', 8.468063256591375), ('asus zenfone selfie zd551kl', 8.274267104555705), ('htc desire 310', 8.176196656850282)] \n",
      "\n",
      "ÐÐ½Ð½Ð° ->  [('samsung galaxy j7 2016', 9.727734608311128), ('apple iphone se', 9.580738241063631), ('samsung galaxy a7 2017', 9.537677802958948), ('motorola rokr z6', 9.329392264122653), ('huawei ascend p7', 9.254357658273163)] \n",
      "\n",
      "mary ->  [('wiko cink slim', 8.422629339137977), ('nokia 3510', 8.101626825878894), ('huawei ascend y330', 7.850986561356552), ('nokia asha 200', 7.245329338988092), ('samsung galaxy s4 mini gt i9190 gt i9192 dual sim', 7.135649731613131)] \n",
      "\n",
      "giorgio ->  [('thl w200', 9.72456448033244), ('motorola moto g', 9.630325403613792), ('motorola moto g', 9.630325403613792), ('elephone p7000', 9.627330094839568), ('huawei ascend g7', 9.466421370575533)] \n",
      "\n",
      "Alias ->  [('meizu pro 5', 9.845644950482527), ('huawei p8', 9.757566459854555), ('lenovo zuk z1', 9.034338467427093), ('samsung galaxy note 2', 8.83624263031915), ('blackberry classic', 8.809436667077097)] \n",
      "\n",
      "Diego ->  [('huawei ascend honor 3c', 9.666893208793566), ('nokia 1600', 9.611820645779726), ('cubot x9', 9.534053605609074), ('sagem my x3 2', 9.439875788106606), ('samsung galaxy note 2', 9.384724931222985)] \n",
      "\n",
      "Jan ->  [('apple iphone 6s', 9.657588864129506), ('samsung galaxy note 2', 9.420767731727858), ('samsung wave m', 9.339028691750434), ('samsung galaxy s7 789999', 9.204452162286477), ('samsung galaxy s7 789999', 9.204452162286477)] \n",
      "\n",
      "victor ->  [('samsung galaxy s ii', 9.667023372395361), ('htc nexus one', 9.628278904011454), ('motorola moto g', 9.305994941308784), ('samsung monte s5620', 9.211604012068372), ('cubot p9', 9.204707425777972)] \n",
      "\n",
      "Christian ->  [('nokia lumia 735', 9.322235151609457), ('samsung galaxy s iii neo i9300i', 9.31467993517621), ('google nexus 5x h791', 9.150067824060027), ('google nexus 5x h791', 9.150067824060027), ('samsung galaxy j3 duos', 9.065988208887646)] \n",
      "\n",
      "Davide ->  [('huawei g610', 9.710401481730278), ('samsung gt i8160', 9.496830816826566), ('wiko lenny 3', 9.48787728544477), ('huawei honor 7', 9.479945968175352), ('samsung galaxy s4 zoom', 9.473412985034445)] \n",
      "\n",
      "Nico ->  [('samsung wave s8500', 9.672631732332523), ('samsung i9500 galaxy s iv', 9.076794962520292), ('cubot p7', 9.029559263357715), ('huawei p8', 8.97718271170552), ('huawei p8 lite', 8.951433233202202)] \n",
      "\n",
      "riccardo ->  [('apple iphone 6s plus', 9.495475166725305), ('alcatel onetouch pop c3 4033d', 9.423956762828425), ('palm treo 600', 9.368998392807079), ('apple iphone 5s', 9.070545530034543), ('apple iphone 6 plus', 8.703790682876365)] \n",
      "\n",
      "Roman ->  [('acer liquid e2', 9.781274857350136), ('huawei honor 7', 9.592562359584788), ('nokia n82', 9.217831498268076), ('apple iphone 5s', 9.153606852248034), ('lg secret kf750', 9.143201367219895)] \n",
      "\n",
      "Tom ->  [('lg motion 4g ms770', 9.515004433372683), ('samsung f400', 9.486248441619356), ('sony xperia z5', 9.35171945043736), ('huawei p8', 9.215348936794456), ('samsung galaxy s7 789999', 9.111835121987799)] \n",
      "\n",
      "Ð¡ÐµÑÐ³ÐµÐ¹ ->  [('nokia 2710', 9.936766914847095), ('zte blade v7 lite', 9.883338751874893), ('inew v3', 9.755300598324995), ('samsung galaxy s8', 9.699615797329336), ('samsung s5610', 9.668079898196636)] \n",
      "\n",
      "Linda ->  [('samsung galaxy s7 edge', 8.868667706937964), ('blackberry passport', 8.859433799010882), ('nokia 7373', 8.82364002222722), ('lg optimus g pro', 8.758228007747656), ('samsung galaxy a5 2016', 8.67517254087464)] \n",
      "\n",
      "ozlemce108 ->  [('samsung sgh e840', 9.643944615098482), ('lg s5200', 9.598201914227856), ('samsung e1075', 9.586488202509946), ('lg ke990', 9.572956387167245), ('siemens cx75', 9.523289963493367)] \n",
      "\n",
      "Carlo ->  [('lg g2 594708', 9.479528518916764), ('samsung d880 duos', 9.15642021679894), ('thl w100', 9.109792152500255), ('apple iphone se', 9.070668569964262), ('apple iphone se', 9.070668569964262)] \n",
      "\n",
      "Bernd ->  [('huawei honor 6', 9.232685630735748), ('sony xperia s', 8.58647432951618), ('nokia 1100', 8.520771038091391), ('acer liquid z630', 8.013336663047975), ('cubot x9', 7.983086459408794)] \n",
      "\n",
      "ozerbjk ->  [('htc touch diamond 2', 9.71316721261716), ('samsung f400', 9.594831832982628), ('samsung u800 soul', 9.522251719147791), ('nokia n81', 9.519123244303085), ('siemens cx75', 9.499127484917944)] \n",
      "\n",
      "Amber ->  [('samsung galaxy mega 6 3 i9200', 9.497713068665197), ('nokia e63', 8.660521430184117), ('huawei p8 lite', 8.644245555832683), ('samsung galaxy j5', 8.560731592512312), ('nokia e52', 8.457096782164111)] \n",
      "\n",
      "jessica ->  [('panasonic x60', 10), ('samsung galaxy y s5360', 9.442463517918013), ('samsung galaxy note 2', 8.856366666665265), ('sony xperia xa ultra', 8.37387503834656), ('htc desire 626', 7.54647203488218)] \n",
      "\n",
      "Daniel ->  [('sony ericsson w550i', 9.67884457635949), ('nokia 3510i', 9.638332384294253), ('sony ericsson k510i', 9.543503926957468), ('huawei honor 7', 9.211385926187022), ('huawei honor 7', 9.211385926187022)] \n",
      "\n",
      "ÐÐ¾ÑÑÑ ->  [('motorola rizr z6', 9.850136907254559), ('nokia c7 277394', 9.548007242172199), ('apple iphone 3gs', 9.34928340610591), ('nokia 8800', 9.322262614292702), ('samsung galaxy a3', 9.300189070324)] \n",
      "\n",
      "Bruno ->  [('samsung ativ s', 9.978222429852236), ('nokia lumia 930', 9.835280662585507), ('mobistel cynus t2', 9.244465910054044), ('samsung galaxy note 2', 9.232268272886426), ('apple iphone 6', 9.107455073555036)] \n",
      "\n",
      "ÐÐ¾Ð»ÑÐ·Ð¾Ð²Ð°ÑÐµÐ»Ñ ÑÐºÑÑÐ» ÑÐ²Ð¾Ð¸ Ð´Ð°Ð½Ð½ÑÐµ ->  [('lenovo ideaphone a316', 9.969214150840228), ('huawei shotx', 9.523415647612582), ('xiaomi mi 4c', 9.479528971858814), ('samsung galaxy a8 a800fd', 9.367954944603511), ('caterpillar b25', 9.26238063245)] \n",
      "\n",
      "rmm ->  [('siemens s75', 9.546591602914388), ('samsung s7550', 9.501481468848546), ('samsung e1075', 9.485413233489743), ('samsung sgh i560', 9.338912424709699), ('samsung sgh b130', 9.267213930069225)] \n",
      "\n",
      "Customer ->  [('apple iphone 6s', 9.107209642153292), ('lg g4', 8.340218635051126), ('lg g2 594708', 8.317953203696257), ('apple iphone 5s', 7.906315331535982), ('samsung galaxy note edge', 7.723531307704183)] \n",
      "\n",
      "eduardo ->  [('samsung galaxy note iii', 9.064183713018581), ('sony xperia sp', 8.692458544239773), ('nokia c2 03', 8.535680706394029), ('bq aquaris e5', 8.328069747026236), ('nokia 6110 navigator', 8.275771500378653)] \n",
      "\n",
      "Filippo ->  [('huawei honor 4x', 9.561102811072358), ('asus zenfone 3', 9.553052301027375), ('motorola moto x', 9.26931296733831), ('motorola moto g 753361', 8.913574700081636), ('htc m8', 8.90157183916024)] \n",
      "\n",
      "Lisa ->  [('nokia lumia 820', 9.237568756749674), ('zte axon 7', 9.209644967153197), ('lg volt ls740', 9.208213912738408), ('blackberry curve 8520', 9.174723224935185), ('huawei p8 lite', 9.088068927283029)] \n",
      "\n",
      "Andrew ->  [('samsung c3322', 9.5727487832632), ('apple iphone 6s', 9.147950195468388), ('lg google nexus 5', 9.14511191988689), ('htc titan', 8.997129714839733), ('palm pixi plus', 8.900710136102898)] \n",
      "\n",
      "alex ->  [('alcatel ot 536', 10), ('lg optimus g e970', 9.957464953273636), ('nokia asha 309', 9.917566418598572), ('sony ericsson w995', 9.720124190219634), ('huawei ascend g620s', 9.643277990463591)] \n",
      "\n",
      "Mario ->  [('panasonic x60', 10), ('samsung c3780', 9.853992069200261), ('huawei honor 4x', 9.338396271655698), ('huawei ascend g510', 9.300672668136249), ('alcatel onetouch 20 04', 9.298748396850094)] \n",
      "\n",
      "Michael ->  [('htc sensation xl', 9.516452725960862), ('samsung ativ s', 9.25247085174761), ('samsung galaxy a3 819970', 9.06863997952675), ('huawei ascend mate 8', 9.02832079647386), ('samsung galaxy s iii', 8.964617382346958)] \n",
      "\n",
      "zeynep34 ->  [('nokia e63', 9.707772987006855), ('lg ku380', 9.557526590949841), ('sony ericsson z550i', 9.554858627051356), ('motorola rizr z3', 9.554105394237547), ('nokia n81', 9.538125442102325)] \n",
      "\n",
      "Mirko ->  [('sony ericsson c510', 9.417631173327347), ('microsoft lumia 640 xl', 9.384505715653018), ('nokia 7230', 9.18932067673878), ('thl 5000', 9.053644678946883), ('nokia lumia 635', 8.946828064901764)] \n",
      "\n",
      "Barbara ->  [('nokia lumia 520', 9.445760582739377), ('lg dare vx9700', 9.340953093139055), ('huawei ascend y550', 9.162627976551427), ('samsung galaxy s3 mini', 9.137765608794526), ('samsung c3520', 9.077502491136636)] \n",
      "\n",
      "bumudur ->  [('htc p4350', 9.853595597820693), ('lg gd900 232471', 9.78918981710442), ('nokia 5250', 9.717301833348191), ('black berry 8700g', 9.611248467891501), ('blackberry 7290', 9.527054353210103)] \n",
      "\n",
      "ÐÐ²Ð³ÐµÐ½Ð¸Ð¹ ->  [('htc gratia', 10), ('samsung galaxy s8 plus', 10), ('samsung galaxy sl i9003', 10), ('lg optimus one p500', 9.844344303053475), ('sony xperia tx', 9.464778897777103)] \n",
      "\n",
      "B ->  [('microsoft lumia 532', 9.405100265000833), ('lg g3 d855 657484', 9.348492063329665), ('samsung galaxy note 2', 8.72123549395942), ('nokia lumia 630', 8.588028114116602), ('nokia asha 230', 8.385415781998148)] \n",
      "\n",
      "AndrÃ© ->  [('huawei p8 lite', 9.0368115490287), ('nokia lumia 625', 8.766460967972636), ('motorola moto g', 8.495235342112336), ('samsung galaxy core', 8.374463939467216), ('samsung galaxy j5 4g lte 5 2 inches', 8.334491718416496)] \n",
      "\n",
      "T ->  [('sony xperia x compact', 8.05969552742838), ('lg g5 titan', 7.927145222567837), ('htc 7 trophy', 7.622631370285524), ('nokia lumia 920', 7.591376860128986), ('samsung galaxy avant', 7.581514112029536)] \n",
      "\n",
      "ZÃ¡kaznÃ­k ->  [('huawei ascend y550', 10), ('lg l40g', 9.9458705670095), ('samsung s5611', 9.922277135444446), ('huawei p8', 9.820860535416417), ('sony xperia z3plus', 9.705468965932214)] \n",
      "\n",
      "Andreas ->  [('nokia 6150', 10), ('samsung e1182', 9.562292571501295), ('nokia lumia 630', 9.278119919029187), ('samsung galaxy s3 mini', 9.233953330540695), ('motorola w156', 9.125641898827766)] \n",
      "\n",
      "Alvaro ->  [('huawei p8 lite', 8.911015383728968), ('wiko lenny 3', 8.342824676913317), ('samsung galaxy s6', 8.201128124006525), ('nokia lumia 820', 8.144355301993219), ('lg spirit c70 h440n', 8.100930913423408)] \n",
      "\n",
      "Sandra ->  [('samsung f400', 9.93575573143049), ('sony ericsson t650i', 9.5958487585061), ('samsung galaxy y s5360', 9.479820484560474), ('samsung galaxy core', 9.128857766352924), ('htc sensation xl', 9.102958138112026)] \n",
      "\n",
      "Angel ->  [('samsung c322', 9.959505474155813), ('samsung gt i8160', 9.349136782269019), ('lg g2 594708', 9.346413581933433), ('motorola moto g', 9.193076586168655), ('lg k10', 9.166509585010772)] \n",
      "\n",
      "jesus ->  [('lg g2 594708', 9.729479415861936), ('huawei ascend honor 3c', 9.29657916970455), ('motorola moto g4', 8.80697850814161), ('apple iphone 5s', 8.517676966109146), ('doogee valencia 2 y100 pro', 8.480379798009617)] \n",
      "\n",
      "Chris ->  [('samsung galaxy stellar sch i200', 9.854329740017329), ('samsung galaxy s7 789999', 9.697048301630884), ('apple iphone 6s', 9.667893340074768), ('motorola moto x', 9.589391268467471), ('motorola moto x', 9.589391268467471)] \n",
      "\n",
      "mike ->  [('motorola i870', 10), ('motorola qa30', 9.841591372996293), ('htc 8x', 9.34279440684644), ('lg g flex d958', 9.231154298965357), ('nokia c2 01', 9.123273707251066)] \n",
      "\n",
      "Matt ->  [('sony ericsson k530i', 9.53571778178321), ('lg optimus f5', 9.46742089945096), ('samsung galaxy s7 edge', 9.031036530789056), ('htc desire 816', 8.874405866989136), ('htc one x', 8.78925623979118)] \n",
      "\n",
      "Alfonso ->  [('huawei p8', 10), ('sony ericsson xperia pro', 9.76383315385028), ('huawei g610', 9.618511648682048), ('huawei honor 6', 9.600771005471332), ('bq aquaris x5', 9.381758272437132)] \n",
      "\n",
      "Massimiliano ->  [('asus zenfone 3', 9.492385432146953), ('samsung galaxy note 2', 9.280796620005798), ('lg g2 594708', 9.278415974794076), ('microsoft lumia 640 dual sim', 9.073403287569066), ('wiko rainbow', 9.031287072941062)] \n",
      "\n",
      "Ali ->  [('samsung galaxy s4 mini gt i9190 gt i9192 dual sim', 9.137123240068618), ('samsung galaxy s7 edge', 8.40193847216177), ('nokia 6300', 8.184507425639836), ('motorola razr hd', 7.957790331338971), ('sony ericsson k850i', 7.585488023962509)] \n",
      "\n",
      "Emma ->  [('acer liquid z5 duo', 10), ('samsung galaxy s6 edge sm g925f', 8.885273969471477), ('huawei y635', 8.864894496914168), ('samsung sgh s500', 8.843421331864425), ('huawei y6 ii compact', 8.601230409497777)] \n",
      "\n",
      "Capyto ->  [('siemens s75', 9.672239083897871), ('samsung g810', 9.544387400147887), ('samsung sgh b130', 9.43432023043119), ('nokia e50', 9.359344690944393), ('nokia 6288', 9.335349873973247)] \n",
      "\n",
      "S ->  [('apple iphone 6s plus', 9.249456900427806), ('htc one xplus', 9.097780270661927), ('lg google nexus 5', 9.081029468482663), ('nokia lumia 520', 8.446916843430952), ('motorola moto g4', 8.428602864848372)] \n",
      "\n",
      "Javi ->  [('doogee x5 max pro', 9.041081144943131), ('lg k10', 8.390891709174793), ('asus zenfone 3', 8.380329644453461), ('bq aquaris 5', 8.208946569200663), ('motorola moto g4', 8.149961924803199)] \n",
      "\n",
      "Mike ->  [('samsung galaxy note 2', 9.43186736563932), ('tp link archer t6e', 9.355802592316799), ('samsung gt b2100', 9.178830704842154), ('samsung galaxy a5 2016', 9.072858043512204), ('sony xperia z5', 8.939532821757862)] \n",
      "\n",
      "Nina ->  [('apple iphone 5s', 9.652920448752738), ('huawei p9 lite', 9.276768705095613), ('huawei p9 lite', 9.276768705095613), ('apple iphone 5c', 9.255784183129945), ('nokia lumia 820', 9.246701459173282)] \n",
      "\n",
      "marco ->  [('nokia lumia 620', 9.48839196302678), ('huawei ascend g620s', 9.306429186488902), ('motorola moto e', 9.290818789118417), ('lg g2 594708', 9.170655823928588), ('samsung c3590', 9.100713979367704)] \n",
      "\n",
      "Gianluca ->  [('asus zenfone 2 ze551ml', 9.547198100945156), ('samsung galaxy j5 4g lte 5 2 inches', 9.517369084200073), ('samsung galaxy s7 edge', 9.512201932732399), ('nokia lumia 720', 9.484289038847738), ('huawei p9 lite', 9.462355223318214)] \n",
      "\n",
      "Sue ->  [('motorola moto g', 9.751753438232068), ('microsoft lumia 535', 9.228182203677063), ('samsung galaxy j7', 9.036299403490105), ('samsung galaxy a3 819970', 8.307599345389292), ('huawei p9 lite', 8.186259782445019)] \n",
      "\n",
      "ÐÐ¸ÐºÑÐ¾ÑÐ¸Ñ ->  [('zte blade v7 lite', 10), ('samsung galaxy j7 2016', 9.87235591694109), ('nokia 107', 9.704851048611353), ('samsung galaxy a3', 9.569633239519947), ('samsung galaxy a3 2016', 9.392759814411235)] \n",
      "\n",
      "Lucas ->  [('huawei honor 6', 9.320841624837401), ('nokia lumia 930', 8.875245492335546), ('huawei ascend d1', 8.859024520527623), ('samsung galaxy s iii neo i9300i', 8.825395022886282), ('htc desire 500', 8.751654326633606)] \n",
      "\n",
      "Bob ->  [('pantech hotshot', 9.467463463670857), ('samsung m8800 pixon', 9.113191012970116), ('motorola v710', 9.00629852702855), ('lg vx 8300', 8.984845515677424), ('lg g5', 8.64777802735946)] \n",
      "\n",
      "Thierry ->  [('nokia lumia 830', 9.71578010500692), ('nokia lumia 635', 9.02148202165928), ('samsung e2550', 8.976261340942449), ('samsung galaxy trend lite gt s7390', 8.838239982381392), ('microsoft lumia 435', 8.77272323052231)] \n",
      "\n",
      "Steve ->  [('vodafone 785 smart 4 mini', 9.48435575945656), ('lg g2 594708', 9.346894259964532), ('lg g flex d958', 9.152852266101936), ('huawei ascend mate 7', 9.15216394675211), ('huawei ascend g6', 9.124202303426085)] \n",
      "\n",
      "luigi ->  [('microsoft lumia 640 xl', 9.535186925222446), ('blackberry curve 9370', 9.126078100292087), ('acer liquid e2', 9.058471882247678), ('lg g2 594708', 8.778425417830656), ('nokia lumia 520', 8.526426077231237)] \n",
      "\n",
      "Justin ->  [('lg rumor', 9.441203671296407), ('lg vx 8300', 9.2803919550293), ('oneplus one 64gb', 9.053710080650234), ('lg shine cu720', 8.843239600484198), ('huawei p9 lite', 8.352293050259625)] \n",
      "\n",
      "Brian ->  [('microsoft lumia 650', 9.383774830437904), ('microsoft lumia 650', 9.383774830437904), ('samsung galaxy s7 789999', 9.304508713212288), ('lg dare vx9700', 8.911139481931428), ('lg flare', 8.565479854911699)] \n",
      "\n",
      "Simone ->  [('huawei honor 4x', 9.656426941370183), ('samsung galaxy a5', 9.652809171494688), ('lg k10', 9.363276986539665), ('samsung galaxy s advance gt i9070', 9.358145134145794), ('samsung exhibit ii 4g', 9.344597889971444)] \n",
      "\n",
      "Kyle ->  [('google nexus 6p', 9.698322440051893), ('blackberry z10', 8.576188049404589), ('apple iphone 4s', 8.274854441681729), ('asus zenfone 2', 8.253079582178534), ('htc desire 626', 8.235267680747969)] \n",
      "\n",
      "Jo ->  [('motorola moto x', 9.869401849070544), ('lg l35', 9.664074755711798), ('huawei ascend p6', 9.141448778608929), ('nokia 6600 fold', 9.098361419601494), ('apple iphone se', 8.879682098592543)] \n",
      "\n",
      "David ->  [('apple iphone 6s plus', 9.388593616001216), ('motorola moto g 753361', 9.31490643845646), ('google nexus 6', 9.096933601163949), ('yota yotaphone 2', 9.092459274531919), ('blackberry dtek60', 9.003675200807566)] \n",
      "\n",
      "Victoria ->  [('samsung genoa c3510', 9.789455059074884), ('apple iphone 5', 9.393780954868188), ('samsung i9500 galaxy s iv', 9.235200022017555), ('samsung gt i8160', 8.844165796988058), ('samsung galaxy a3 2016', 8.814439348396803)] \n",
      "\n",
      "Ricardo ->  [('motorola i1', 9.219540100881757), ('microsoft lumia 640 dual sim', 9.150928982174186), ('sony xperia z5', 9.144838202800882), ('alcatel idol 3 5 5 6045y', 9.071916515138241), ('alcatel idol 3 5 5 6045y', 9.071916515138241)] \n",
      "\n",
      "Federico ->  [('nokia 1600', 9.53932310249352), ('lg g2 mini', 9.5169342450345), ('huawei p8', 9.291924303202489), ('motorola moto g', 9.04167342827699), ('asus zenfone 5', 9.038921785377653)] \n",
      "\n",
      "ÐÐ°Ð´ÐµÐ¶Ð´Ð° ->  [('samsung galaxy s8 plus', 10), ('microsoft lumia 640 dual sim', 9.606685209226669), ('sony xperia z1 compact d5503', 9.51917651243414), ('samsung s3600', 9.346549089485123), ('samsung galaxy a5 2017', 9.217587811152518)] \n",
      "\n",
      "tony ->  [('samsung galaxy j7 2016', 9.147716418755723), ('nokia 107', 9.041578792810133), ('palm pixi plus', 8.766111266469045), ('motorola moto g 753361', 8.73919607139795), ('blu dash jr 4 0', 8.621868026089656)] \n",
      "\n",
      "Dario ->  [('motorola moto g', 9.42370801890378), ('huawei ascend honor 3c', 9.36344876683048), ('nokia lumia 720', 9.195789904415523), ('huawei ascend mate 7', 8.90990295931105), ('huawei ascend mate 7', 8.90990295931105)] \n",
      "\n",
      "Lucia ->  [('samsung galaxy s iii neo i9300i', 9.99685298546524), ('samsung galaxy j5 4g lte 5 2 inches', 9.897917176903526), ('sony xperia x compact', 9.750302077098688), ('huawei p8 lite', 9.628226467154374), ('nokia c2 01', 9.562812904037763)] \n",
      "\n",
      "Scott ->  [('motorola moto g', 9.326874942469104), ('samsung sgh t401g', 8.937813527896246), ('motorola w385', 8.884737769352707), ('htc one m7', 8.635826491117353), ('samsung c3520', 8.51875263882642)] \n",
      "\n",
      "Kevin ->  [('samsung galaxy s relay 4g', 9.136709522784585), ('sony xperia x compact', 8.819481104685313), ('samsung galaxy s7 789999', 8.759697746178874), ('huawei honor 5x', 8.758309372865003), ('samsung galaxy j7 2016', 8.606536192298947)] \n",
      "\n",
      "Daniela ->  [('huawei ascend mate 8', 9.923261006854197), ('apple iphone 6s', 9.904383353167908), ('huawei ascend honor 3c', 9.769423203176103), ('samsung galaxy j5', 9.741859458527266), ('asus zenfone selfie zd551kl', 9.572674998633854)] \n",
      "\n",
      "Christine ->  [('samsung galaxy a3 819970', 9.995021264889562), ('samsung b3210', 9.981373549322562), ('samsung galaxy y s5360', 9.819686798615498), ('sony ericsson k810i', 9.680473351954799), ('huawei honor holly', 9.216255024720821)] \n",
      "\n",
      "Sebastian ->  [('huawei ascend p7', 9.359903796871826), ('doro phoneeasy 612', 9.025868403811549), ('htc desire 500', 8.98006792570295), ('apple iphone 6s plus', 8.960383694916441), ('lg gm750', 8.597292607903254)] \n",
      "\n",
      "ÐÐ½Ð´ÑÐµÐ¹ ->  [('samsung galaxy s8 plus', 9.998024326179499), ('samsung e1081', 9.56919130530604), ('zte v880', 9.531434922583351), ('samsung galaxy a3 819970', 9.393653158494134), ('apple iphone se', 9.381537783229167)] \n",
      "\n",
      "Richard ->  [('samsung s7550', 9.65443021138941), ('oppo r7 plus', 9.639459890401271), ('motorola moto e', 9.228392968265577), ('motorola moto e', 9.228392968265577), ('pantech hotshot', 9.129657716474473)] \n",
      "\n",
      "Mark ->  [('blackberry curve 8330', 9.637318175435185), ('apple iphone 5s', 9.295205723055957), ('samsung galaxy a3 819970', 9.226243765257065), ('huawei mate 9', 9.04175963325757), ('nokia 3510i', 9.02153554724921)] \n",
      "\n",
      "fernando ->  [('nokia lumia 620', 9.123433644165695), ('thl t200', 8.844653091453516), ('asus zenfone 5', 8.6125210439813), ('huawei honor 6x', 8.527638694899986), ('huawei honor 7', 8.429436489905283)] \n",
      "\n",
      "Daniele ->  [('motorola moto x', 9.858446290073319), ('sony ericsson xperia pro', 9.849553295194369), ('siemens cf75', 9.622872656505752), ('asus zenfone 3', 9.523828137992606), ('samsung galaxy s5', 9.336448304308869)] \n",
      "\n",
      "Jorge ->  [('sony xperia p', 9.549197708119248), ('bq aquaris e4 5', 9.313843511993884), ('huawei ascend y320', 9.306043229830772), ('nokia 108', 9.281702196963533), ('htc incredible s', 9.018813278207954)] \n",
      "\n",
      "Patrick ->  [('samsung gt b2100', 9.612216168141261), ('nokia 6230', 9.603372801983836), ('nokia e51', 9.451531000009965), ('samsung galaxy a3 2016', 9.359815994499643), ('apple iphone se', 9.103894620225947)] \n",
      "\n",
      "Petra ->  [('samsung u900 soul', 9.34004545954937), ('samsung galaxy s plus', 9.136465997354884), ('nokia 2220 slide', 8.804918655091267), ('samsung galaxy s ii', 8.38464047783345), ('asus zenfone 2 ze551ml', 8.237021018100686)] \n",
      "\n",
      "??????????? ->  [('nokia asha 311', 9.594641143567209), ('nokia asha 302', 9.471178223290389), ('sony ericsson xperia neo v', 9.135140526583477), ('htc sensation xe', 9.061031476514433), ('samsung c3322', 8.407654469537983)] \n",
      "\n",
      "jean ->  [('motorola moto x play', 9.548786737149694), ('nokia x2', 9.221741526054586), ('microsoft lumia 640 dual sim', 9.21158923685491), ('samsung gt e1200', 9.003798512754306), ('lg g2 594708', 8.636593050935591)] \n",
      "\n",
      "james ->  [('samsung galaxy victory 4g lte sph l300', 9.905813277937774), ('htc one m9', 9.4710885441851), ('apple iphone 4', 8.642299444705984), ('apple iphone 4', 8.642299444705984), ('samsung gt e1200', 8.511857976943457)] \n",
      "\n",
      "chris ->  [('huawei honor 7', 9.377998657711013), ('nokia lumia 630', 9.316958938950588), ('huawei honor 5x', 9.09430379835897), ('samsung galaxy s6', 8.943409399453873), ('lg g5', 8.871881169550868)] \n",
      "\n",
      "ozer1299 ->  [('samsung d880 duos', 9.478669254737296), ('samsung s5233', 9.478100329045548), ('samsung p520', 9.464699526894957), ('samsung sgh b130', 9.451754142461908), ('nokia e50', 9.37021362725703)] \n",
      "\n",
      "???????????? ->  [('samsung c3782', 9.698426001721472), ('sony xperia v', 9.410986299561491), ('sony xperia v', 9.410986299561491), ('htc one x', 9.382701068780795), ('lg optimus l5', 9.364792707530299)] \n",
      "\n",
      "Kate ->  [('htc rhyme', 9.558756156001927), ('apple iphone 6s', 9.449457221573732), ('huawei inspira h867g', 9.260582883191406), ('huawei p9 lite', 9.018319772336719), ('nokia n70', 8.916096458615067)] \n",
      "\n",
      "Sophie ->  [('samsung alias 2 sch u750', 9.179929566820546), ('motorola razr i', 9.04333235620783), ('nokia lumia 625', 8.827479384577588), ('htc one mini', 8.809787544108982), ('motorola moto g', 8.594381970530808)] \n",
      "\n",
      "?????????? ->  [('acer cloudmobile', 9.933810725019756), ('htc sensation xe', 9.652379298743831), ('htc sensation xe', 9.652379298743831), ('htc one x', 9.485458802812046), ('htc one x', 9.485458802812046)] \n",
      "\n",
      "Alexander ->  [('cubot gt99', 8.606451945037529), ('huawei p8 lite 2017', 8.544393052136178), ('samsung galaxy note 4', 8.526065797584199), ('huawei ascend g600', 8.350686151464481), ('lg g2 594708', 8.266847201790865)] \n",
      "\n",
      "Michele ->  [('samsung galaxy s relay 4g', 10), ('archos 40 titanium', 9.61366490313448), ('archos 40 titanium', 9.61366490313448), ('huawei ascend mate 7', 9.523896674968363), ('huawei ascend p6', 9.467519438429456)] \n",
      "\n",
      "antonio ->  [('huawei honor 3', 9.933728669317619), ('lg g2 mini', 9.650152095787355), ('samsung galaxy s7 edge', 9.488977615446744), ('lg optimus g pro', 9.417691169397084), ('samsung galaxy j5', 9.317894661841857)] \n",
      "\n",
      "Vijay ->  [('samsung sgh i560', 10), ('sony xperia xz', 8.649370751746813), ('samsung galaxy s7 edge', 8.337015117864777), ('motorola moto g 4 plus', 8.334769383329748), ('nokia 108', 8.318018678525362)] \n",
      "\n",
      "luca ->  [('alcatel idol mini 6012', 9.903398011783354), ('lg e450 optimus l5 ii', 9.704399227321542), ('samsung galaxy a5', 9.600188940571305), ('samsung galaxy a5', 9.600188940571305), ('samsung galaxy s ii plus', 9.5924533267349)] \n",
      "\n",
      "Micha ->  [('sony ericsson xperia play', 9.491605289192222), ('sony xperia z5 compact', 8.918127725017783), ('google nexus 5x h791', 8.472969776800687), ('samsung s5230', 7.785058717512331), ('sony ericsson xperia x10', 7.7640767591403455)] \n",
      "\n",
      "jose ->  [('lg p930', 9.460074328546987), ('huawei ascend g600', 9.306187756926544), ('lg g2 mini', 9.259156765021046), ('doogee valencia 2 y100 pro', 9.21373588786616), ('motorola moto g', 9.008768536702316)] \n",
      "\n",
      "anonieme bezoeker ->  [('apple iphone 4s', 8.747844872429384), ('nokia lumia 520', 8.388125271645684), ('samsung galaxy s4 zoom', 8.367757330152347), ('htc one m7', 8.344978927891448), ('lg nexus 4', 8.206591071863464)] \n",
      "\n",
      "Jose ->  [('meizu pro 5', 9.591902676292941), ('sony xperia l', 9.141823010788492), ('sony xperia l', 9.141823010788492), ('sony xperia m', 9.065361551847168), ('samsung galaxy fame s6810', 9.047222199528894)] \n",
      "\n",
      "Anthony ->  [('lg eclipse 4g lte', 9.230335045110628), ('lg g flex d958', 9.082382018998455), ('apple iphone 6s plus', 8.976506289111901), ('apple iphone 6s plus', 8.976506289111901), ('samsung galaxy j7', 8.727931423733663)] \n",
      "\n",
      "bedduamiz ->  [('lg gd900 232471', 9.801965972519877), ('siemens s75', 9.734612169817094), ('lg gc900', 9.68055744138408), ('samsung sgh e840', 9.58482729636416), ('samsung g810', 9.532198468299535)] \n",
      "\n",
      "Manuel ->  [('lg k10', 9.609627246443909), ('sony xperia p', 9.454202526678383), ('huawei ascend mate 8', 9.390390951422251), ('lg kp500', 9.371264717294167), ('motorola moto x 2', 9.370865672837013)] \n",
      "\n",
      "ÐÐ»Ð°Ð´ ->  [('nokia lumia 720', 9.841396063864357), ('samsung g7102 galaxy grand 2', 8.85224516504558), ('samsung galaxy s7 789999', 8.805371936714494), ('nokia 101', 8.758972162811041), ('samsung galaxy s5', 8.653661896551387)] \n",
      "\n",
      "Dave ->  [('blu win jr', 9.22910960048096), ('samsung gravity 2', 9.172538163412492), ('lg g5', 9.088023779108315), ('apple iphone 6s', 9.057636149150692), ('samsung e1182', 9.046787684872506)] \n",
      "\n",
      "ÐÐµÐ½Ð¸Ñ ->  [('sony ericsson hazel', 9.527963155565857), ('huawei honor 3', 9.503594626294795), ('samsung wave 723 gt s7230e', 9.399834983443451), ('samsung galaxy note 5 sm n920f', 9.396588181013595), ('samsung galaxy a3 819970', 9.342514035776738)] \n",
      "\n",
      "Stephanie ->  [('apple iphone 7', 9.46758312971118), ('htc evo 4g', 9.422510148097711), ('pantech hotshot', 8.249559623950057), ('samsung rugby ii', 7.99483554911225), ('samsung galaxy j5', 7.824790065962526)] \n",
      "\n",
      "Thomas ->  [('cubot bobby', 9.807372805918233), ('huawei ascend honor 3c', 9.805518138161318), ('samsung galaxy s8 plus', 9.51756059875251), ('samsung b2700', 9.087915042088351), ('samsung galaxy s7 edge', 8.959846540048648)] \n",
      "\n",
      "Flipkart Customer ->  [('nokia 107', 9.847027927693405), ('samsung galaxy j7', 8.115989342321422), ('samsung galaxy j5 4g lte 5 2 inches', 7.7818117055729905), ('samsung galaxy j7 2016', 7.711042405012012), ('oppo f1', 7.628622898091676)] \n",
      "\n",
      "Alessandro ->  [('motorola c975', 9.489497805065538), ('motorola moto x 2', 9.479902617595277), ('huawei nova plus', 9.461832057737793), ('lg h410', 9.455200708216402), ('motorola moto g 753361', 9.395637155433207)] \n",
      "\n",
      "Pietro ->  [('samsung galaxy grand neo plus gt i9060i', 9.664604181706931), ('motorola moto g', 9.561102789456731), ('samsung ativ s', 9.45443625702468), ('huawei p9 lite', 9.450375880968592), ('motorola moto x', 9.375771573798957)] \n",
      "\n",
      "fred ->  [('samsung e1050', 9.304113873440679), ('samsung galaxy y s5360', 8.792913679891448), ('samsung galaxy j5', 8.280228023908796), ('samsung galaxy j7 2016', 8.222106798169447), ('huawei p8', 8.140823875230456)] \n",
      "\n",
      "Nick ->  [('nokia asha 310', 9.54802697027632), ('apple iphone 7', 9.042717036964218), ('motorola slvr l7c', 8.952039238781918), ('apple iphone 5', 8.59858572258716), ('apple iphone 5', 8.59858572258716)] \n",
      "\n",
      "Karthik ->  [('xiaomi mi 4i', 9.040297434200527), ('samsung s7262 duos galaxy ace', 8.227008840356726), ('lg g2 594708', 8.020658780664952), ('nokia 7230', 7.746299330878017), ('htc m8', 7.463969852829087)] \n",
      "\n",
      "Jonathan ->  [('huawei p9 lite', 9.381364632255815), ('hp ipaq 514', 9.29496402877698), ('huawei honor 8', 9.254149521954032), ('doro phoneeasy 409 s gsm', 9.233787770287048), ('samsung galaxy note 4', 9.088999473747613)] \n",
      "\n",
      "Ron ->  [('huawei p8 lite', 9.314702903497334), ('google nexus 6', 9.29492752031556), ('samsung sgh f480', 8.918367235491932), ('apple iphone 5s', 8.738320578536412), ('samsung galaxy j3 duos', 8.658798650588547)] \n",
      "\n",
      "Client Amazon ->  [('samsung galaxy note', 9.34569817102815), ('samsung galaxy s6 edge sm g925f', 8.892018534633152), ('samsung galaxy note 2', 8.871101016573643), ('samsung galaxy s8', 8.349484189252898), ('asus zenfone 3 max', 8.076179669028932)] \n",
      "\n",
      "Deepak ->  [('samsung galaxy j2', 9.372779699460839), ('apple iphone se', 8.396724284649865), ('samsung galaxy s7 edge', 8.18712623578718), ('lenovo vibe k4 note', 8.005386884633417), ('lenovo vibe x3', 7.769999178027416)] \n",
      "\n",
      "ÐÐºÐ°ÑÐµÑÐ¸Ð½Ð° ->  [('samsung galaxy s8 plus', 9.920227547088894), ('sony xperia tx', 9.555214298489293), ('samsung galaxy a3 819970', 9.246044697865745), ('sony xperia j', 9.041492973137975), ('lg p713 optimus l7 ii', 9.035561505828055)] \n",
      "\n",
      "silvia ->  [('samsung galaxy s3 mini', 9.24408264338754), ('huawei honor 6 plus', 8.752750678982396), ('samsung galaxy note 2', 8.67510241208453), ('nokia lumia 630', 8.651253207197687), ('samsung s5230', 8.376026125819612)] \n",
      "\n",
      "Amazon-Kunde ->  [('lenovo moto g4 plus', 9.265772061455841), ('sony xperia z 504642', 9.109941752003586), ('nokia asha 501', 9.03358297675108), ('samsung galaxy a3', 8.988520268074359), ('samsung sgh f480', 8.65578052183016)] \n",
      "\n",
      "ÐÐ°Ð²ÐµÐ» ->  [('htc gratia', 10), ('samsung e1182', 10), ('lg optimus g', 9.846853363049528), ('sony xperia zl', 9.605637032364124), ('huawei honor 8', 9.543282067385913)] \n",
      "\n",
      "Ryan ->  [('thl w200s', 9.567657922689008), ('blackberry priv', 9.00513362953353), ('samsung galaxy s5', 8.89860589646457), ('htc m8', 8.747424081228313), ('huawei w1', 8.430813589697706)] \n",
      "\n",
      "Luca ->  [('alcatel idol mini 6012', 10), ('acer liquid e2', 9.745163779245864), ('blackberry q10', 9.306907590122869), ('motorola moto x 1 moto x1 moto x 2nd gen', 9.124775752907507), ('nokia lumia 720', 9.052393635411512)] \n",
      "\n",
      "Julie ->  [('apple iphone 4s', 9.359479935254043), ('samsung e950', 8.915292984152902), ('samsung sgh t369', 8.803733682394297), ('apple iphone 6s', 8.566969165283544), ('samsung galaxy a3 819970', 8.519690465800041)] \n",
      "\n",
      "Vicky ->  [('lg viewty smile gt400', 10), ('lenovo vibe k5', 9.742643781924887), ('huawei p9 lite', 9.040246620192562), ('apple iphone 6 plus', 8.9661522884146), ('sony xperia x f5121', 8.839466550164044)] \n",
      "\n",
      "Dennis ->  [('lg google nexus 5', 9.439964646998316), ('tp link archer t6e', 9.2987164653137), ('asus ze550kl', 9.281839396921939), ('apple iphone 6s plus', 9.214324583783396), ('huawei p8 lite', 9.012502728757186)] \n",
      "\n",
      "francesca ->  [('samsung galaxy grand neo gt i9060', 8.684603345399728), ('sony xperia z 504642', 8.425976735666358), ('sony xperia z2', 8.194002485094796), ('samsung galaxy s4 mini gt i9190 gt i9192 dual sim', 8.046633596565245), ('meizu mx5', 7.840523913128846)] \n",
      "\n",
      "Jenny ->  [('sony ericsson yari u100i', 10), ('huawei p8', 9.006311689552973), ('wiko lenny 3', 8.974418006077679), ('apple iphone 6s', 8.677768430541354), ('motorola v525', 8.66817809679538)] \n",
      "\n",
      "ÐÐ¸Ñ",
      "Ð°Ð¸Ð» ->  [('apple iphone se', 9.624186671839027), ('samsung galaxy a5', 9.619012528129282), ('lg l fino', 9.518925300356234), ('samsung galaxy j7 2016', 9.4829596845158), ('samsung galaxy note 2', 9.464083132267078)] \n",
      "\n",
      "JosÃ© ->  [('huawei honor 6', 9.593694771892823), ('huawei p9 lite', 8.991147175520636), ('thl 5000', 8.97594539336775), ('htc desire eye m910x', 8.930258311992391), ('huawei p8', 8.785592350542966)] \n",
      "\n",
      "Adrian ->  [('nokia n71', 10), ('samsung galaxy s5 mini', 9.474598579098437), ('htc touch 3g', 9.200651860013224), ('apple iphone 7', 9.172535446405059), ('apple iphone 7', 9.172535446405059)] \n",
      "\n",
      "sara ->  [('samsung sgh e740', 9.79699169297169), ('nokia c2 05', 9.646849958125394), ('nokia asha 309', 9.15046101402245), ('alcatel onetouch pop c3 4033d', 9.142489918675274), ('nokia asha 203', 8.866521189207486)] \n",
      "\n",
      "ÐÐ³Ð¾Ñ ->  [('huawei g6600', 9.737703665810391), ('sony xperia l', 9.640842236758054), ('lg optimus l5 ii dual e455 optimus duet', 9.437295094806426), ('sony xperia c', 9.155261575535144), ('nokia lumia 920', 8.92862287502924)] \n",
      "\n",
      "sarah ->  [('cubot p6', 10), ('htc desire 310', 8.723845251375664), ('blackberry curve 3g 9300', 8.487362667066465), ('samsung galaxy a5 2016', 8.347347603831606), ('apple iphone 5s', 8.326838001691108)] \n",
      "\n",
      "kyef ->  [('lg gd900 232471', 9.670723377644082), ('samsung sgh e840', 9.546202631678531), ('nokia 6760 slide', 9.515115879466297), ('samsung i450', 9.462230105604363), ('samsung sgh i560', 9.458844655153039)] \n",
      "\n",
      "Salvatore ->  [('microsoft lumia 640 dual sim', 9.613627156461387), ('htc one max', 9.292746796886906), ('nokia 206', 9.28653089774768), ('samsung galaxy j5', 9.031602209004895), ('huawei ascend g6', 9.027519533589484)] \n",
      "\n",
      "Juan ->  [('lg google nexus 5', 9.55092251110992), ('samsung galaxy s3 mini', 9.010897364438666), ('nokia lumia 925', 8.908384611638693), ('doogee dg2014', 8.564744441780999), ('acer liquid e2', 8.39668477584442)] \n",
      "\n",
      "narn3049 ->  [('htc incredible s', 10), ('lg rumor2', 10), ('nokia 1600', 10), ('motorola mpx200', 10), ('nokia 8800', 10)] \n",
      "\n",
      "Mauro ->  [('motorola c975', 9.291153660680028), ('lg leon 4g lte h340n', 9.243745367993704), ('apple iphone 6s', 9.086985201259388), ('blackberry z30', 8.92152365666223), ('huawei honor 6', 8.738104786787385)] \n",
      "\n",
      "Oks ->  [('sony ericsson k330', 10), ('samsung sgh s500', 10), ('huawei ideos x5', 9.309758645764353), ('nokia 5130 xpressmusic', 8.89730786502867), ('htc touch hd', 8.492336836034367)] \n",
      "\n",
      "UK Guest ->  [('nokia 3200', 9.698467111872052), ('sony ericsson t610', 8.913729734509097), ('sharp gx25 gz200', 8.75), ('nokia 2650', 8.135535818588592), ('nokia 2650', 8.135535818588592)] \n",
      "\n",
      "xceday ->  [('siemens s75', 9.53789837799441), ('lg ke990', 9.497295586079971), ('samsung jet sgh s8003', 9.463307108186287), ('nokia n81', 9.426583601238544), ('samsung sgh i560', 9.398716110111957)] \n",
      "\n",
      "JD ->  [('vodafone smart ultra 6', 9.328476464024357), ('samsung galaxy ace s5830', 8.571028020026073), ('nokia lumia 925', 8.49977480423652), ('lg google nexus 5', 8.298522187252733), ('lg cu500', 8.258511933015688)] \n",
      "\n",
      "nicola ->  [('apple iphone se', 9.276753719396885), ('lg g flex 2', 9.194518717739246), ('huawei ascend g620s', 9.146807260903625), ('huawei p8 lite', 8.902007073599119), ('huawei y6', 8.867020929424179)] \n",
      "\n",
      "sam ->  [('motorola a1200 294063', 10), ('motorola v620', 10), ('samsung galaxy j7 2016', 9.51744808119555), ('vodafone 785 smart 4 mini', 9.452386931262245), ('lg google nexus 5', 9.260555418974926)] \n",
      "\n",
      "Abhishek ->  [('oneplus 3', 9.728617186617212), ('sony xperia z1', 9.1315385558344), ('nokia lumia 730', 8.8304511613264), ('huawei honor 6x', 8.775238618020058), ('huawei mate 9', 8.260409635687326)] \n",
      "\n",
      "Simon ->  [('sony ericsson k700i', 9.451618399088666), ('motorola xt1225', 8.958919546651975), ('sony xperia l', 8.79558642254224), ('motorola moto x', 8.723139757553573), ('sony ericsson w200i', 8.551865764278157)] \n",
      "\n",
      "ÐÐ½ÑÐ¾Ð½ ->  [('xiaomi redmi note 4', 10), ('huawei ascend honor 3c', 10), ('sony xperia l', 9.374440703487089), ('samsung galaxy j5 4g lte 5 2 inches', 9.277799906839432), ('sony xperia tx', 9.217236084539294)] \n",
      "\n",
      "Amazon customer ->  [('huawei ascend mate 8', 9.929822111897561), ('blackberry q10', 8.995798841569396), ('lg v20 h990', 8.974458264211506), ('apple iphone 6', 8.735652285036688), ('blackberry z10', 8.406513636906285)] \n",
      "\n",
      "Oliver ->  [('nokia e63', 9.96362179751921), ('nokia lumia 900', 9.719063641522066), ('motorola moto x style', 9.054222603011997), ('wiko cink slim', 8.900961439239323), ('samsung galaxy s3 mini', 8.852469069925965)] \n",
      "\n",
      "bruno ->  [('huawei ascend honor 3c', 10), ('huawei p8 lite', 9.811786120298764), ('huawei p8 lite', 9.811786120298764), ('samsung galaxy mini', 9.183479226165872), ('motorola moto e', 8.965315718495399)] \n",
      "\n",
      "Stefano ->  [('samsung galaxy s6', 9.47137408279239), ('blackberry z10', 9.445306640984068), ('microsoft lumia 540', 9.425003572586014), ('motorola moto e', 9.277616729355971), ('samsung galaxy s7 789999', 9.180917865106569)] \n",
      "\n",
      "Giovanni ->  [('acer liquid e2', 9.240538878979264), ('blackberry passport', 9.191669037405621), ('google nexus 6p', 9.173589920908896), ('apple iphone 6s plus', 9.07136557380184), ('lg g2 594708', 8.95385137179012)] \n",
      "\n",
      "Anonyme ->  [('sony ericsson yari u100i', 10), ('lg gb250', 10), ('samsung c5130', 9.705019962224698), ('samsung galaxy s2 mini', 9.656028040022067), ('nokia n95', 9.46576304351409)] \n",
      "\n",
      "Erik ->  [('huawei honor 8', 9.321064770493356), ('huawei ascend g620s', 9.082876734642312), ('huawei p8 lite', 8.986116704385893), ('huawei p8 lite', 8.986116704385893), ('huawei p8 lite', 8.986116704385893)] \n",
      "\n",
      "ÐÐºÑÐ°Ð½Ð° ->  [('lenovo ideaphone s820', 10), ('samsung s5610', 10), ('samsung galaxy a5', 9.668026371483577), ('nokia 5233', 9.524895614450564), ('lenovo ideaphone a706', 9.488272460085978)] \n",
      "\n",
      "Adam ->  [('lg g2 594708', 9.370291564124571), ('sharp sidekick 2 t mobile sidekick ii danger hiptop ii', 9.194855347687039), ('apple iphone 6s plus', 9.111777378124716), ('cubot p9', 9.077965984963882), ('apple iphone 7', 8.902870943282897)] \n",
      "\n",
      "osmntyr ->  [('samsung f400', 9.99047124608733), ('samsung s5610', 9.899510375867052), ('samsung e2330', 9.598518671411277), ('nokia 700', 9.515143906630966), ('samsung genoa c3510', 9.452334710177519)] \n",
      "\n",
      "ÐÐ»ÑÐ³Ð° ->  [('sony xperia z5', 9.566871197630748), ('sony xperia c', 9.51128539827925), ('nokia 5230', 9.46810362690368), ('lg optimus l9 p760', 9.466089210551228), ('sony xperia m', 9.26413679080838)] \n",
      "\n",
      "Kim ->  [('tp link archer t6e', 10), ('samsung galaxy j7', 9.15643901872997), ('blackberry 9700', 8.739866908017154), ('blackberry 9700', 8.739866908017154), ('nokia lumia 900', 8.59956168247797)] \n",
      "\n",
      "Pedro ->  [('huawei ascend honor 3c', 9.238887331867131), ('samsung ativ s', 9.20079159022106), ('motorola xt1225', 9.114319616865693), ('samsung galaxy note 2', 9.05280782685611), ('elephone p7000', 8.943188662893036)] \n",
      "\n",
      "R ->  [('samsung ativ s neo', 8.144606554866344), ('microsoft lumia 640 xl', 7.825789493618519), ('samsung galaxy s iii neo i9300i', 7.770797102504973), ('nokia n900', 7.092337817335332), ('blackberry z30', 7.0512095878916705)] \n",
      "\n",
      "Jonas ->  [('htc 10', 10), ('google nexus 6p', 9.0334953606876), ('samsung monte s5620', 8.85986077841627), ('samsung galaxy s7 edge', 8.806159209428213), ('motorola moto x', 8.750233324455186)] \n",
      "\n",
      "gabberino93 ->  [('samsung galaxy mega 6 3 i9200', 10), ('nokia 3250', 10), ('nokia 113', 10), ('nokia 112', 10), ('samsung galaxy y s5360', 10)] \n",
      "\n",
      "????????????????? ->  [('apple iphone 5', 9.292868459527064), ('acer cloudmobile', 9.091309488843956), ('nokia 515', 9.037936668327857), ('sony ericsson xperia neo v', 8.647716973994008), ('sony xperia s', 8.287205909814851)] \n",
      "\n",
      "Lorenzo ->  [('elephone p6000', 9.005072529235337), ('apple iphone 5s', 8.940257594818489), ('htc desire z', 8.938801018386966), ('huawei honor 6x', 8.814517402792195), ('nokia lumia 720', 8.81428608185982)] \n",
      "\n",
      "streghe_1965 ->  [('samsung e2210', 8.721515464933034), ('nokia c7 00i', 7.381340733609799), ('samsung i8910 hd', 7.347213850687825), ('nokia 6021', 7.106831342203753), ('samsung e1190', 6.826153188514429)] \n",
      "\n",
      "Ian ->  [('samsung galaxy s7 789999', 9.591203379216951), ('apple iphone 7 plus', 8.92065222220564), ('apple iphone 7', 8.871685190719939), ('blu studio energy', 8.6931495082815), ('samsung galaxy s6', 8.536835684666105)] \n",
      "\n",
      "Roy ->  [('samsung galaxy a5 2016', 9.58817116968767), ('siemens cx65', 9.303727282563674), ('apple iphone 6s', 9.099693133593364), ('lg gt400', 8.944923244056236), ('samsung galaxy note iii', 8.932480619855575)] \n",
      "\n",
      "Igor ->  [('huawei ascend d1', 10), ('lg viewty smile gt400', 9.636159935698183), ('samsung galaxy j7 2016', 9.560695749194226), ('asus zenfone 2 ze551ml', 8.963383422221922), ('huawei ascend p7', 8.8920327178283)] \n",
      "\n",
      "Marcus ->  [('sony xperia v', 9.666200375299354), ('samsung galaxy s3 mini', 9.64493621143598), ('htc desire z', 9.249955989283126), ('apple iphone 5s', 8.946449294911579), ('microsoft lumia 950 xl', 8.820187288565013)] \n",
      "\n",
      "massimo ->  [('samsung galaxy s7 789999', 9.400286386148286), ('wiko fever', 9.389578196734872), ('huawei p9 plus', 9.235407288509045), ('huawei p9 plus', 9.235407288509045), ('sony xperia z5', 9.09140739414245)] \n",
      "\n",
      "MJ ->  [('sony xperia z1', 8.76422289572004), ('sony xperia z2', 8.74401216639779), ('lg optimus l3 ii e430 e425', 8.444725504386975), ('lenovo a1000 dual sim 4 mobile phone', 7.993862291805414), ('oneplus two', 7.874417471724025)] \n",
      "\n",
      "Jose Luis ->  [('lg g2 mini', 9.002421980459358), ('samsung galaxy a3 2016', 8.922637453879702), ('asus zenfone 2 laser ze601kl', 8.8331375449753), ('motorola v500', 8.69060773480663), ('microsoft lumia 640 dual sim', 8.677872597232016)] \n",
      "\n",
      "gulsen28 ->  [('samsung jet sgh s8003', 9.615396554276955), ('lg ke990', 9.534109814483747), ('blackberry 8100 269227', 9.529535520338921), ('samsung sgh i560', 9.509788835512214), ('sony ericsson z550i', 9.435710861106266)] \n",
      "\n",
      "Wendy ->  [('samsung galaxy y s5360', 8.916377648657233), ('huawei p9 797082', 8.839226130382078), ('huawei p8', 8.730610888427847), ('lg g4', 8.300614248319143), ('nokia lumia 530', 8.278838231939908)] \n",
      "\n",
      "Gianni ->  [('huawei y6', 9.486442725465395), ('huawei ascend mate 8', 9.26415829808215), ('htc m8', 9.124844582654571), ('huawei p8 lite', 8.948717674102419), ('alcatel idol 3 5 5 6045y', 8.466821596385586)] \n",
      "\n",
      "Jamie ->  [('nokia 9300', 9.732933426844328), ('apple iphone 6s', 9.732489379487303), ('apple iphone 6s plus', 9.416208583238236), ('google nexus 6', 9.342225888212475), ('samsung galaxy j3 duos', 9.076486275530858)] \n",
      "\n",
      "Alex ->  [('sharp gx15 gz100', 9.66774488020126), ('nokia 5140i', 9.580659160191823), ('samsung galaxy a3', 9.357818778132387), ('lg l90 d410', 9.351044835445055), ('nokia 107', 9.271557155164132)] \n",
      "\n",
      "ÐÑÐµÐ½Ð¸Ñ ->  [('lenovo ideaphone a706', 10), ('apple iphone 5s', 9.65279617176623), ('samsung galaxy fit', 9.622731632348785), ('samsung galaxy fit', 9.622731632348785), ('samsung galaxy s3 mini', 9.43342156508263)] \n",
      "\n",
      "Amanda ->  [('pantech caper', 10), ('motorola qa30', 9.418967320953383), ('samsung galaxy note 2', 9.29683150260578), ('microsoft lumia 650', 9.181095506690415), ('motorola moto g3', 9.03204666895531)] \n",
      "\n",
      "Johannes ->  [('apple iphone 6', 9.306220281018604), ('huawei honor 7', 8.963170428017278), ('sony ericsson w760i', 8.686037365381912), ('asus zenfone 5', 8.46370229694281), ('sony xperia tipo', 8.43100177974945)] \n",
      "\n",
      "Marcel ->  [('nokia lumia 930', 9.249605853010094), ('lg optimus l9 p760', 9.048655937508268), ('microsoft lumia 532', 8.72383081058638), ('doro phoneeasy 610gsm', 8.613946291555306), ('huawei ascend g620s', 8.6016467653846)] \n",
      "\n",
      "mustafa ->  [('vodafone 945', 10), ('samsung s5610', 10), ('huawei honor 6', 9.538034963658264), ('nokia 808', 9.464546248091652), ('vodafone 858', 9.408355738566636)] \n",
      "\n",
      "Kindle Customer ->  [('samsung sgh s425', 10), ('nokia 1616', 9.479727593742556), ('htc one v', 9.089040230809292), ('samsung sgh a997', 9.07110021023889), ('google nexus 6', 8.959203447059645)] \n",
      "\n",
      "patrick ->  [('nokia lumia 930', 9.697846785757145), ('htc windows phone 8', 9.5858251400203), ('asus zenfone 5', 9.410489937656518), ('lg k10', 9.271983684250035), ('samsung galaxy s7 789999', 9.054263938273364)] \n",
      "\n",
      "ÐÐ»ÐµÐ³ ->  [('htc p3300', 10), ('lenovo ideaphone s720', 9.647881897425227), ('samsung galaxy mega 6 3 i9200', 9.628961952806668), ('samsung galaxy j7 2016', 9.60753855200801), ('sony xperia z1', 9.549851377680127)] \n",
      "\n",
      "Jake ->  [('nokia 6303', 9.296046087378077), ('samsung sgh f480', 9.269754783801561), ('samsung sgh s390', 9.051860373596192), ('samsung gt i8160', 8.940692121150807), ('apple iphone 6s', 8.902371469700459)] \n",
      "\n",
      "Teresa ->  [('apple iphone 5c', 9.669243822616895), ('huawei p9 lite', 9.606917755943343), ('samsung i9500 galaxy s iv', 9.478832222367663), ('sony xperia t', 9.302758396171585), ('blackberry passport', 9.179645549995435)] \n",
      "\n",
      "Sergio ->  [('huawei ascend mate 7', 9.557063875333505), ('lg google nexus 5', 9.51478274922647), ('lg google nexus 5', 9.51478274922647), ('htc 10', 9.102882063030744), ('motorola moto e', 9.004466178557168)] \n",
      "\n",
      "Giuseppe ->  [('alcatel idol mini 6012', 9.707509891092226), ('samsung galaxy a5', 9.560544924961608), ('lg g2 594708', 9.401498466377312), ('nokia lumia 720', 9.323432692006046), ('alcatel onetouch pop c3 4033d', 9.263533530746134)] \n",
      "\n",
      "ÐÐ»ÐµÐºÑÐµÐ¹ ->  [('asus zenfone 3', 9.559104108583178), ('samsung galaxy a5', 9.485149987418772), ('sony xperia z1 compact d5503', 9.377786146007283), ('asus zenfone 3 max', 9.327688524011984), ('samsung galaxy note 5 sm n920f', 9.325691651264847)] \n",
      "\n",
      "andrea ->  [('samsung galaxy s8 plus', 9.817254064785464), ('lg google nexus 5', 9.791444479263134), ('samsung galaxy mega 6 3 i9200', 9.730250509534574), ('huawei ascend g330', 9.13788998765745), ('xiaomi mi 3', 9.009542268684893)] \n",
      "\n",
      "ÐÐ¸ÑÐ°Ð»Ð¸Ð¹ ->  [('sony xperia tx', 9.876425701947541), ('lenovo vibe z2 pro', 9.855516040635397), ('nokia lumia 925', 9.569321851181403), ('huawei ascend mate 7', 9.501576398347765), ('samsung galaxy s7 789999', 9.492116135274625)] \n",
      "\n",
      "miguel ->  [('huawei ascend p7', 9.428746734145541), ('samsung galaxy s7 789999', 9.316282647713273), ('xiaomi redmi note', 8.822156548692142), ('samsung gt i8160', 8.805231110765028), ('apple iphone', 8.360621491134864)] \n",
      "\n",
      "Sarah ->  [('sony ericsson k810i', 9.47053635672828), ('motorola xt1225', 9.047208482939768), ('apple iphone 5c', 8.922662367735738), ('samsung e1190', 8.873588164979722), ('cubot note s', 8.595016391586551)] \n",
      "\n",
      "francesco ->  [('acer liquid s1', 10), ('huawei honor 4x', 9.782711282116464), ('huawei ascend g620s', 9.547069297130857), ('nokia 1600', 9.429473079901308), ('cubot note s', 9.41892116860632)] \n",
      "\n",
      "Rachel ->  [('blu a310a', 9.299480487523034), ('motorola moto g4', 8.43040101038109), ('blackberry priv', 8.426048727328343), ('lg lg840', 8.372920760468054), ('sony xperia z1 compact d5503', 8.329493458161954)] \n",
      "\n",
      "me ->  [('samsung galaxy note 4', 9.372665319586783), ('samsung galaxy nexus', 8.357933949623675), ('nokia e71', 7.9848827625557925), ('samsung galaxy j5 4g lte 5 2 inches', 7.940973080121171), ('samsung sgh a107', 7.604112737272672)] \n",
      "\n",
      "Matthias ->  [('blackberry z30', 9.218788634254091), ('huawei y6', 9.068495414672693), ('huawei honor 7', 9.052365233747386), ('nokia asha 300', 8.992657485892853), ('huawei ascend g330', 8.945267138766583)] \n",
      "\n",
      "????????????? ->  [('samsung c3782', 9.034644340479323), ('samsung gt e1200', 8.833369660134885), ('acer cloudmobile', 8.48435143684793), ('nokia asha 210', 7.788575374305934), ('sony xperia e', 7.270070145794655)] \n",
      "\n",
      "ÐÑÐ¸Ð½Ð° ->  [('nokia 5250', 9.924733764558763), ('nokia 5230', 9.722904706423169), ('lenovo ideaphone a316', 9.603122582272313), ('samsung shark3 s3550', 9.524777860397263), ('sony xperia z1 compact d5503', 9.295041170656063)] \n",
      "\n",
      "Karen ->  [('samsung galaxy s7 789999', 9.59284678895482), ('samsung galaxy s7 edge', 9.291421770196433), ('apple iphone 7 plus', 8.866304575363817), ('samsung galaxy s4 zoom', 8.783397183479298), ('motorola moto e', 8.509925282221124)] \n",
      "\n",
      "ÐÐ»Ð°Ð´Ð¸Ð¼Ð¸Ñ ->  [('sony xperia zr', 9.511926763507866), ('sony xperia x compact', 9.498824299847549), ('nokia x2 02', 9.480425138315061), ('samsung galaxy ace 3', 9.411455931955885), ('lg k7', 9.335794137400942)] \n",
      "\n",
      "Susan ->  [('google nexus 6p', 9.653452095477029), ('samsung galaxy ace 3', 9.25827647268828), ('motorola moto g', 8.924679229763964), ('nokia c2 01', 8.850032355575026), ('samsung galaxy s ii', 8.579632734501313)] \n",
      "\n",
      "Victor ->  [('sony xperia z 504642', 9.547619887787341), ('asus zenfone selfie zd551kl', 9.294274391198632), ('huawei ascend y300', 9.134964723971741), ('motorola moto g4', 9.044681680203707), ('motorola moto g4', 9.044681680203707)] \n",
      "\n",
      "Tony ->  [('samsung ativ s', 9.842358311686267), ('samsung galaxy s7 789999', 9.456756372676718), ('blackberry z30', 9.073318617405148), ('apple iphone 6s plus', 9.037684028815455), ('blackberry 9630', 9.02097971989945)] \n",
      "\n",
      "Andy ->  [('samsung galaxy s4 zoom', 9.543449856898167), ('motorola moto x', 9.480578203472053), ('samsung galaxy core', 9.239944623780241), ('samsung galaxy s4 mini gt i9190 gt i9192 dual sim', 9.215246801234208), ('apple iphone 6s', 9.198729451578497)] \n",
      "\n",
      "Albert ->  [('motorola moto x 1 moto x1 moto x 2nd gen', 10), ('htc tattoo', 10), ('htc incredible s', 9.677295046894557), ('huawei ascend p6', 9.51557983205386), ('motorola moto g', 9.432836215944516)] \n",
      "\n",
      "maurizio ->  [('samsung galaxy s5 mini', 9.839409888941278), ('asus zenfone 2', 9.622576651185359), ('asus zenfone 2', 9.622576651185359), ('elephone p8000', 9.172950818214076), ('nokia c2 05', 8.900678391549496)] \n",
      "\n",
      "Dan ->  [('nokia 7250', 9.943453352633151), ('lg g2 594708', 9.723242208513172), ('sony xperia z5', 9.495415338949577), ('sony xperia z5', 9.495415338949577), ('blu win jr', 9.317970582695157)] \n",
      "\n",
      "Cristina ->  [('lg e450 optimus l5 ii', 9.384925314666136), ('samsung galaxy s7 edge', 9.104807963678805), ('samsung gt e1200', 8.72764391714767), ('huawei p9 lite', 8.577891400772721), ('huawei ascend p7', 8.568309459722894)] \n",
      "\n",
      "miatamania ->  [('siemens s75', 9.593394843959265), ('samsung sgh e370', 9.447496854472995), ('nokia 2310', 9.386490923713666), ('samsung d880 duos', 9.262621254222472), ('nokia e61', 9.2079922759965)] \n",
      "\n",
      "ÐÐ»ÐµÐ½Ð° ->  [('sony xperia tx', 10), ('samsung c5212', 9.643729236614485), ('sony xperia c', 9.612952358113322), ('sony xperia c', 9.612952358113322), ('samsung galaxy j5', 9.43095404833978)] \n",
      "\n",
      "Pascal ->  [('lg l fino', 9.361325575300501), ('huawei honor 7', 9.175673750884448), ('apple iphone 6s', 9.06247679704719), ('nokia 6086', 9.0), ('htc nexus one', 8.965728048454395)] \n",
      "\n",
      "Rita ->  [('samsung galaxy a3 819970', 9.182119638571312), ('sony xperia m', 8.695100892996507), ('nokia 6085', 8.597710458479828), ('doogee x5', 8.553228146862239), ('cubot s208', 8.247446809775276)] \n",
      "\n",
      "MK ->  [('samsung galaxy s3 mini', 8.896825743726584), ('lg google nexus 5', 8.671552547028094), ('blackberry curve 8520', 8.189743545354036), ('nokia x6', 7.719931741405558), ('samsung galaxy s advance gt i9070', 7.664764951957855)] \n",
      "\n",
      "James ->  [('samsung galaxy a3 819970', 9.632438297585978), ('samsung galaxy s7 edge', 9.30449190369738), ('apple iphone 6s', 9.214323790506853), ('casio c741', 9.016839403694718), ('samsung galaxy s8', 9.013851347903017)] \n",
      "\n",
      "Roberto ->  [('nokia 112', 9.491134206956835), ('huawei ascend mate 7', 9.387285988158652), ('alcatel one touch 997d ot 997d', 9.357007440600391), ('samsung galaxy s7 789999', 9.214300208003298), ('samsung galaxy s5 neo sm g903f', 9.207925053545086)] \n",
      "\n",
      "Al ->  [('samsung galaxy s6', 9.83446322877978), ('motorola moto g', 9.618289076739623), ('lg g2 594708', 9.017373151497399), ('samsung galaxy s7 789999', 8.704642767058337), ('samsung galaxy s7 789999', 8.704642767058337)] \n",
      "\n",
      "Francisco ->  [('xiaomi redmi note', 9.589315492140564), ('asus zenfone selfie zd551kl', 9.457008327806513), ('samsung galaxy note 2', 9.24886597655102), ('lg eclipse 4g lte', 9.207467276571103), ('samsung galaxy note', 9.205284768023208)] \n",
      "\n",
      "ÐÐ»ÑÑ ->  [('samsung galaxy s iii neo i9300i', 9.425687420851707), ('apple iphone 5s', 9.34216731386817), ('htc desire 620g', 9.116488973557956), ('huawei ascend mate 8', 9.109373136660494), ('sony xperia z 504642', 8.989352445702524)] \n",
      "\n",
      "Valerio ->  [('asus zenfone 2', 9.612128715615787), ('samsung galaxy s ii plus', 9.53968275392146), ('samsung ativ s', 8.751711589055892), ('microsoft lumia 640 dual sim', 8.549641190326945), ('nokia lumia 635', 8.413106402669785)] \n",
      "\n",
      "Klaus ->  [('amplicom m5010', 9.98502642587531), ('samsung i8910 hd', 9.611298972976192), ('microsoft lumia 640 xl', 9.547831201468433), ('sony xperia z3 compact', 9.413598698204694), ('samsung gt b2710', 9.275984748390588)] \n",
      "\n",
      "Bryan ->  [('asus zenfone 2', 9.593007249403584), ('motorola moto g', 9.223734889319608), ('samsung s5230', 8.908915823540877), ('samsung ch t 335', 8.81949846212361), ('samsung galaxy s6 edge sm g925f', 8.783594008923314)] \n",
      "\n",
      "Gast ->  [('samsung galaxy j5 4g lte 5 2 inches', 6.368294257800596), ('samsung i8910 hd', 5.953398515784107), ('htc one xplus', 4.414096759882112), ('htc hd2', 4.399269480600598), ('qtek 9100', 4.377504203562447)] \n",
      "\n",
      "Charles ->  [('motorola moto g', 9.560780198413774), ('huawei honor 8', 9.032524090275576), ('sony xperia xa ultra', 8.785646401587252), ('samsung sgh c414', 8.575409730284031), ('samsung galaxy s7 edge', 8.565806617934658)] \n",
      "\n",
      "Jon ->  [('motorola moto g', 9.478538839824498), ('nokia lumia 635', 8.715237928794407), ('apple iphone 6', 8.644545627832967), ('samsung galaxy mini 2 s6500', 8.621336029931575), ('lg k8', 8.53876032861292)] \n",
      "\n",
      "jorge ->  [('motorola moto g 753361', 8.498483579377245), ('xiaomi redmi note', 8.243691525607678), ('samsung galaxy j7', 7.8459901268793075), ('samsung galaxy j7', 7.8459901268793075), ('samsung galaxy s ii plus', 7.82337278475503)] \n",
      "\n",
      "Jane ->  [('samsung galaxy s3 mini', 9.604407923727123), ('samsung galaxy mini', 9.582286091753065), ('apple iphone 5s', 9.354049686557163), ('apple iphone se', 8.4706667807021), ('nokia 7610 supernova', 8.378150214049969)] \n",
      "\n",
      "Jeff ->  [('motorola moto x 1 moto x1 moto x 2nd gen', 9.535691305079299), ('samsung galaxy s5', 9.28110380882523), ('doogee x5 max pro', 9.219728111202018), ('tp link archer t6e', 9.090803319822275), ('huawei ascend g7', 8.969470520559105)] \n",
      "\n",
      "Stefania ->  [('samsung galaxy grand neo plus gt i9060i', 9.548126640317383), ('microsoft lumia 640 dual sim', 9.215697223050642), ('samsung galaxy a5 2016', 9.093253964441784), ('samsung galaxy j5', 8.905266281953685), ('samsung galaxy s iii neo i9300i', 8.78249253612906)] \n",
      "\n",
      "Riccardo ->  [('wiko fever', 9.533342038306522), ('htc one m8s', 9.359506770202872), ('huawei ascend y550', 9.317105875753574), ('huawei y635', 9.284335942097476), ('wiko highway', 9.28222527185362)] \n",
      "\n",
      "Giacomo ->  [('samsung galaxy s3 mini', 9.16502267851196), ('lg p710 optimus l7 ii', 8.637865518996898), ('samsung galaxy grand neo plus gt i9060i', 8.548689424031602), ('lg g4', 8.530828078512442), ('google nexus 5x h791', 8.521538683988434)] \n",
      "\n",
      "Gaurav ->  [('nokia lumia 720', 8.54877260792743), ('motorola moto z play', 8.433942587928652), ('sony xperia c', 7.6621578052291195), ('samsung galaxy note 3 neo 4g n7505', 7.440899220831697), ('oneplus x', 7.214376803290256)] \n",
      "\n",
      "Nicole ->  [('apple iphone 5c', 9.178152682338572), ('huawei ascend mate 8', 8.842574286053594), ('nokia x3', 8.749594859241745), ('lg dare vx9700', 8.614491181931628), ('lg l90 d410', 8.528014424418396)] \n",
      "\n",
      "Anton ->  [('acer liquid e2', 10), ('meizu mx4 pro', 9.752500963467273), ('sony xperia z5', 9.110443009045989), ('lg google nexus 5', 8.814728404787692), ('nokia 112', 8.770357020483688)] \n",
      "\n",
      "Jeremy ->  [('htc one m9 plus', 9.218411228000733), ('samsung galaxy s7 edge', 9.141340167846582), ('motorola moto g 4 plus', 8.745379943004282), ('samsung galaxy note 4', 8.675418408768163), ('motorola v860', 8.65333133691073)] \n",
      "\n",
      "ÐÐ¸ÐºÐ¸ÑÐ° ->  [('nokia 5250', 10), ('lg l90 d410', 9.987238114297101), ('lenovo ideaphone a316', 9.906933230822283), ('nokia 3110 classic', 9.802014208527531), ('lg k10', 9.648893088152683)] \n",
      "\n",
      "rick2809 ->  [('samsung galaxy j7', 10), ('blackberry z30', 10), ('samsung galaxy j7 2016', 10), ('lg x power', 10), ('samsung galaxy s7 edge', 10)] \n",
      "\n",
      "Joe ->  [('htc desire 816', 9.12141305568088), ('samsung sgh t401g', 8.657507966430272), ('nokia lumia 920', 8.5446815892391), ('blackberry z30', 8.442868785945059), ('sharp sidekick 2 t mobile sidekick ii danger hiptop ii', 8.437494201969068)] \n",
      "\n",
      "DJ ->  [('samsung galaxy s7 789999', 9.345587919949324), ('samsung sgh t401g', 8.677627210916757), ('samsung galaxy mini', 8.62737343072884), ('samsung galaxy mega 2 sm g750', 8.318394967427224), ('hp pre 3', 8.220412041653171)] \n",
      "\n",
      "Gary ->  [('lg optimus l9 p760', 10), ('samsung galaxy note 2', 9.827203482857852), ('nokia e71', 9.757162727234205), ('google nexus 6p', 9.47511962491511), ('google nexus 6p', 9.47511962491511)] \n",
      "\n",
      "Karl ->  [('blackberry z30', 7.939801858109993), ('sony xperia z5 compact', 7.657554755732171), ('sony xperia z ultra', 7.639573068175675), ('sony xperia e5', 7.431169255441734), ('huawei honor 6x', 7.260058226829968)] \n",
      "\n",
      "Diana ->  [('samsung sph m540', 8.833427962867134), ('samsung galaxy s5', 8.783308843262546), ('samsung c3520', 8.780199712760425), ('samsung galaxy note 4', 8.671321365597116), ('samsung galaxy a5 2016', 8.483439443475723)] \n",
      "\n",
      "Federica ->  [('siemens cl75 poppy', 8.912408759124087), ('sony ericsson xperia play', 8.426292826097106), ('lg optimus l5 e610', 8.396886703184872), ('apple iphone 6s', 8.240648784096528), ('lg p710 optimus l7 ii', 8.08756894098947)] \n",
      "\n",
      "ÐÐ°ÑÐ¸Ñ ->  [('samsung galaxy a7 2017', 10), ('sony xperia tx', 9.986360530906904), ('samsung galaxy note 2', 9.774966415936904), ('samsung galaxy a5', 9.750560083517021), ('huawei honor 8', 9.738750538507926)] \n",
      "\n",
      "Nicola ->  [('alcatel idol mini 6012', 9.767075969554472), ('lg g5', 9.240491800942603), ('samsung gt e1200', 9.159077656871178), ('apple iphone 6s plus', 9.149707315664319), ('lg leon 4g lte h340n', 9.090656010651147)] \n",
      "\n",
      "Dirk ->  [('apple iphone 6s', 9.509987602790359), ('samsung galaxy s advance gt i9070', 8.600101069267758), ('samsung galaxy gio s5660', 8.450035907031204), ('htc desire s', 8.44497123804814), ('samsung galaxy s7 edge', 8.426755678150723)] \n",
      "\n",
      "Jesus ->  [('htc first', 9.62214831814489), ('google nexus 6p', 9.383238073767759), ('sony ericsson xperia play', 9.271051744443989), ('motorola moto g', 9.097004635095669), ('microsoft lumia 640 dual sim', 8.895290374247324)] \n",
      "\n",
      "Johnny ->  [('archos 50 helium', 9.732900369658516), ('samsung galaxy s3 mini', 9.674085559379737), ('t mobile comet', 9.659660229610704), ('lg l90 d410', 9.600496535021465), ('asus zenfone 2 ze551ml', 9.08013192962941)] \n",
      "\n",
      "Me ->  [('sony xperia xa ultra', 9.216389106609746), ('htc desire z', 8.209389053044637), ('huawei p9 lite', 8.06914127755329), ('samsung galaxy s4 mini gt i9190 gt i9192 dual sim', 7.819697098811508), ('htc sensation', 7.548111641307887)] \n",
      "\n",
      "zehrabalta ->  [('blackberry 8100 269227', 9.433580688371915), ('samsung sgh g400', 9.346296151064049), ('nokia e50', 9.277499618644896), ('sony ericsson m600i', 9.269789192161731), ('nokia 6288', 9.24927070766245)] \n",
      "\n",
      "Sam ->  [('samsung rugby ii', 9.71034450107333), ('samsung galaxy s i9000', 9.213648262219841), ('htc one m7', 9.019633272353428), ('nokia 107', 8.953193668690961), ('samsung galaxy s8 plus', 8.910338711055738)] \n",
      "\n",
      "Joan ->  [('samsung transform', 10), ('microsoft lumia 640 dual sim', 8.31348702768168), ('microsoft lumia 640 dual sim', 8.31348702768168), ('apple iphone 5s', 8.12688602441624), ('asus zenfone 2 laser ze601kl', 8.098612236019914)] \n",
      "\n",
      "Jean ->  [('apple iphone 6 plus', 8.638644467972867), ('lg optimus g pro', 8.40244681959025), ('samsung galaxy core prime', 8.375433968843108), ('samsung champ gt c3300k', 8.261303498417723), ('samsung galaxy grand duos i9080 i9082', 8.193837140807464)] \n",
      "\n",
      "Angela ->  [('samsung galaxy s7 789999', 9.52232398617499), ('nokia lumia 630', 9.104177451567866), ('huawei p8', 8.92676263827709), ('apple iphone 7', 8.80108894026918), ('thl 4000', 8.798947669682457)] \n",
      "\n",
      "Kai ->  [('lg cu500', 10), ('nokia lumia 920', 9.99607033611747), ('huawei mate s', 9.872786068102672), ('htc wildfire', 9.017212132355182), ('nokia e65', 8.694104823438517)] \n",
      "\n",
      "Enrico ->  [('samsung galaxy mini 2 s6500', 9.34815945777681), ('motorola moto g', 9.188915729006009), ('motorola moto g', 9.188915729006009), ('apple iphone 6s', 9.031792031465686), ('huawei shotx', 9.008837156042969)] \n",
      "\n",
      "Tommaso ->  [('nokia asha 300', 9.159919454611101), ('motorola moto g', 9.14518309220729), ('nokia lumia 620', 8.561558596504925), ('motorola motoming a1200 ming', 8.552350760372843), ('motorola moto g 753361', 8.449621850440144)] \n",
      "\n",
      "Erika ->  [('motorola moto g', 8.91942346030565), ('samsung galaxy j5', 8.194500993643114), ('samsung galaxy s5', 8.026867194919046), ('samsung galaxy s5', 8.026867194919046), ('htc one s', 8.020751993834438)] \n",
      "\n",
      "Philippe ->  [('archos 50 helium', 9.965095895690514), ('samsung galaxy a3 2016', 9.627649887272346), ('nokia lumia 625', 9.493093140929503), ('lenovo moto g4', 9.46315103231537), ('samsung galaxy a3', 9.425897637590113)] \n",
      "\n",
      "Roger ->  [('samsung galaxy s iii neo i9300i', 9.688929041019733), ('samsung galaxy note 4', 9.385862924305558), ('apple iphone 6s', 8.972966791105543), ('zte blade v7 lite', 8.824994691936364), ('samsung gt e1200', 8.750660165930313)] \n",
      "\n",
      "Brandon ->  [('nokia lumia 820', 8.941658852215141), ('samsung galaxy s7 789999', 8.59565731981297), ('nokia lumia 900', 8.354397174076048), ('samsung galaxy mega 6 3 i9200', 8.331224728369909), ('alcatel ot 282', 8.132562171996641)] \n",
      "\n",
      "maria ->  [('samsung sgh b300', 10), ('samsung galaxy core plus', 9.459024923506778), ('huawei p9 lite', 9.370715757646517), ('huawei honor 4x', 9.179265216174473), ('huawei ascend p1', 9.037334063672223)] \n",
      "\n",
      "Ana ->  [('samsung e1050', 9.790200218202328), ('samsung galaxy j5', 9.751040388983844), ('samsung galaxy j1 mini', 9.550055333541849), ('sony xperia t', 9.248570748923056), ('samsung galaxy s4 mini gt i9190 gt i9192 dual sim', 9.095559762527989)] \n",
      "\n",
      "Javier ->  [('motorola moto g 753361', 9.241896901021564), ('motorola moto g5', 9.181904004816406), ('oukitel k6000', 9.009106854427259), ('sony xperia p', 8.847598306260391), ('sony xperia p', 8.847598306260391)] \n",
      "\n",
      "rafael ->  [('samsung ativ s', 10), ('samsung galaxy young', 9.840965887281271), ('lg l70', 9.479170766211809), ('sony xperia z3', 9.424393256605393), ('huawei honor 6', 9.227716467455776)] \n",
      "\n",
      "Donna ->  [('samsung transform', 10), ('samsung sgh s425', 10), ('samsung gravity 3 sgh t479', 9.117402026107374), ('apple iphone se', 8.62686381527434), ('samsung m819 galaxy mega', 7.9703503632690635)] \n",
      "\n",
      "alberto ->  [('lenovo moto g4', 9.614496294576048), ('sony xperia z 504642', 9.365730092204505), ('samsung gt e1200', 8.86742262768001), ('motorola moto g4', 8.694574514511434), ('lg g flex 2', 8.619954841482262)] \n",
      "\n",
      "Matteo ->  [('meizu pro 5', 9.756844143883992), ('siemens a65', 9.670917860064321), ('huawei ascend mate 7', 9.488699252688734), ('lg google nexus 5', 9.392979926074322), ('samsung galaxy a3', 9.304553780275038)] \n",
      "\n",
      "Silvia ->  [('sony xperia p', 9.211187731490384), ('samsung ativ s', 9.049602659195644), ('microsoft lumia 950', 8.940088118895229), ('microsoft lumia 640 xl', 8.391537877048822), ('huawei ascend g7', 8.365761820673631)] \n",
      "\n",
      "M ->  [('samsung galaxy note 2', 8.865814128422873), ('lg l40g', 8.769515137530208), ('nokia lumia 930', 8.720092556006772), ('nokia 6102i', 8.717206371592729), ('huawei p8', 8.55440679425109)] \n",
      "\n",
      "Sabine ->  [('xiaomi mi 3', 10), ('samsung galaxy s3 mini', 10), ('samsung galaxy ace s5830', 9.835143284129309), ('samsung galaxy j7 2016', 9.821394977169655), ('lg gs101', 9.62653239238989)] \n",
      "\n",
      "Pen Name ->  [('huawei p8 lite', 9.384116838328836), ('htc one m7', 9.303667007930883), ('vodafone 785 smart 4 mini', 9.125289386545633), ('vodafone 785 smart 4 mini', 9.125289386545633), ('oneplus one 64gb', 9.053416698654932)] \n",
      "\n",
      "patricia ->  [('huawei p9 797082', 9.229504531408548), ('samsung sph a800 mm a800', 9.082801038441573), ('alcatel ot 808', 9.0), ('sony ericsson xperia pro', 8.847743873445026), ('nokia 2220 slide', 8.83090673403752)] \n",
      "\n",
      "Santiago ->  [('nokia 1600', 10), ('nokia lumia 630', 9.830018067772556), ('motorola razr i', 9.820556729110548), ('nokia lumia 635', 9.528502079934677), ('microsoft lumia 535', 9.51467933871315)] \n",
      "\n",
      "Matthew ->  [('motorola moto x', 9.814444131112047), ('apple iphone 6s plus', 9.57404619922251), ('apple iphone', 8.949218699259472), ('motorola xt1225', 8.875117527603738), ('yota yotaphone 2', 8.730602521501453)] \n",
      "\n",
      "Anita ->  [('lg g2 594708', 9.683573829698858), ('asus zenfone 6', 9.185740677698659), ('lg l bello', 9.050692940698678), ('microsoft lumia 640 dual sim', 9.017729403179843), ('samsung galaxy j5 4g lte 5 2 inches', 8.862857829680802)] \n",
      "\n",
      "Angie ->  [('samsung e950', 10), ('samsung galaxy j5', 9.512953957122347), ('google nexus 6', 9.125989459271882), ('blackberry z10', 8.984061401312903), ('motorola krzr k1', 8.98082692298543)] \n",
      "\n",
      "geveze ->  [('sony ericsson hazel', 10), ('samsung s5233', 9.944462004692522), ('nokia 5250', 9.913424485366896), ('samsung i8510 innov8', 9.898273549691579), ('nokia n9', 9.66428748672789)] \n",
      "\n",
      "ÐÐ°ÑÐ¸Ð½Ð° ->  [('nokia lumia 720', 9.679063567852115), ('samsung s7070', 9.653453162842561), ('sony xperia l', 9.536845492077545), ('samsung galaxy a3', 9.536635574015547), ('samsung galaxy note 2', 9.528829614870936)] \n",
      "\n",
      "dilemma21 ->  [('lg s5200', 9.48534095678102), ('samsung g810', 9.43650236322957), ('nokia 2310', 9.365358488460146), ('nokia 6267', 9.310061962140711), ('blackberry 8820', 9.112446192466516)] \n",
      "\n",
      "Elisa ->  [('lg optimus g', 9.98024716760694), ('samsung galaxy s3 mini', 9.552409206288376), ('samsung galaxy s3 mini', 9.552409206288376), ('huawei ascend g525', 9.42848569600226), ('motorola moto x', 9.1172320113883)] \n",
      "\n",
      "Omar ->  [('nokia 8800', 8.868857143041808), ('apple iphone 5s', 8.81059668968828), ('xiaomi mi 3', 8.767433022102653), ('sony xperia x f5121', 8.557563420501827), ('samsung galaxy grand prime', 8.22884006728817)] \n",
      "\n",
      "?????????????? ?????????????? ->  [('sony xperia v', 9.552538482445836), ('samsung galaxy nexus', 8.961138246858157), ('samsung c3322', 8.920454536786101), ('alcatel ot 918d', 8.889628531055726), ('nokia asha 501', 8.736781708994023)] \n",
      "\n",
      "christian ->  [('huawei ascend g620s', 9.353620280912985), ('huawei ascend mate 7', 9.325383546347606), ('samsung galaxy note 2', 9.140044402267005), ('samsung galaxy fame s6810', 8.93359695533873), ('lg optimus sol', 8.86040503926783)] \n",
      "\n",
      "Alexis ->  [('lg g flex d958', 9.609858216422266), ('htc m8', 9.292601182352431), ('lg nexus 4', 8.69081172910588), ('apple iphone 6s', 8.628203764622038), ('samsung galaxy young', 8.495796147941956)] \n",
      "\n",
      "Steven ->  [('pantech crossover', 10), ('huawei p8 lite', 9.583736797087978), ('nokia lumia 930', 9.502496526816483), ('lg optimus l9 p760', 9.450117948800754), ('lg optimus one p500', 9.427094017980993)] \n",
      "\n",
      "DAVID ->  [('apple iphone 6s', 8.972157192168787), ('samsung galaxy s7710 xcover 2', 8.555593557246242), ('samsung galaxy grand neo plus gt i9060i', 8.365128674905417), ('elephone p8000', 8.06291984800104), ('sony xperia z2', 8.029922140826454)] \n",
      "\n",
      "sandra ->  [('huawei honor 6x', 8.341594302530845), ('wiko lenny 3', 8.3085485986782), ('sony xperia sp', 8.281697166150451), ('nokia n9', 8.251162346234308), ('alcatel one touch pop c5 5036d', 8.099487073978946)] \n",
      "\n",
      "sezenm ->  [('nokia 5250', 9.746460473114368), ('nokia c5 06', 9.712197223427854), ('siemens cx75', 9.575174823331428), ('samsung p520', 9.455889269129054), ('samsung galaxy fit', 9.307569532304072)] \n",
      "\n",
      "joe ->  [('motorola xt1225', 9.603130246828549), ('motorola moto x', 9.562049217908559), ('nokia lumia 1520', 9.232719331550559), ('huawei honor 8', 8.628621828774955), ('samsung galaxy core prime', 8.459109914905827)] \n",
      "\n",
      "Alan ->  [('samsung galaxy a3 819970', 9.367687481800584), ('samsung galaxy s7 789999', 9.25900365937563), ('apple iphone se', 9.038188719742273), ('nokia lumia 620', 9.017561235884529), ('huawei ascend p7', 8.927917037923594)] \n",
      "\n",
      "Jay ->  [('samsung galaxy nexus', 9.380181226217005), ('samsung galaxy s5', 9.222961165541088), ('lg g4', 8.963772361676451), ('oppo r7 plus', 8.829169402255694), ('nokia lumia 900', 8.704474882882433)] \n",
      "\n",
      "Joel ->  [('lg google nexus 5', 9.426505152641695), ('huawei mate 9', 8.81339030238414), ('apple iphone 4s', 8.520972724619076), ('meizu m1 note', 8.30460778653411), ('doogee voyager2 dg310', 7.9997303751669575)] \n",
      "\n",
      "sumeyyehavvaay ->  [('nokia 2220 slide', 9.486026940836739), ('nokia e61', 9.218763140488068), ('nokia 5500 sport', 9.194300430895204), ('samsung exhibit ii 4g', 8.914020494451503), ('nokia 5800 xpressmusic tube', 8.69998256676378)] \n",
      "\n",
      "Lars ->  [('sony xperia z3', 8.54303307687631), ('samsung gt b2710', 8.21322206329067), ('huawei p8', 8.059877702135113), ('huawei p8', 8.059877702135113), ('nokia 5230', 7.78627253080753)] \n",
      "\n",
      "Ankit ->  [('samsung galaxy grand neo plus gt i9060i', 8.700930892279986), ('huawei honor 8', 8.552983569331115), ('huawei honor 6x', 8.244176695950427), ('nokia lumia 635', 8.180559459224943), ('asus zenfone max zc550kl', 8.03087216080412)] \n",
      "\n",
      "Bill ->  [('htc sensation xl', 9.41330699831553), ('blu zoey ii', 9.412077011469279), ('vodafone 785 smart 4 mini', 9.390240711075888), ('huawei honor 8', 9.372955184918666), ('google nexus 6', 9.188491743355598)] \n",
      "\n",
      "Julia ->  [('samsung galaxy a5', 9.571622418994314), ('huawei y6', 8.978234986797231), ('cubot p6', 8.685766819400957), ('huawei ascend p7', 8.615006023854178), ('lg g4', 8.561117061518736)] \n",
      "\n",
      "Monika ->  [('lg google nexus 5', 9.66492961084144), ('apple iphone 6 plus', 9.439946917312735), ('motorola moto e 2 lte', 9.345851962902834), ('nokia lumia 900', 9.296654706599917), ('sony xperia xa ultra', 9.203191031176276)] \n",
      "\n",
      "Markus ->  [('nokia 5250', 9.726826260081427), ('samsung e1100', 9.687709929083638), ('htc desire s', 9.370571171980416), ('huawei honor 6', 8.982671216573504), ('sony xperia z5', 8.939354243631414)] \n",
      "\n",
      "pedro ->  [('sony ericsson w850i', 9.577151820916255), ('lg nexus 4', 8.88244585348965), ('thl t100s', 8.686372923616966), ('motorola moto g4', 8.30026310939454), ('nokia asha 201', 8.068220013870121)] \n",
      "\n",
      "cemdiler ->  [('samsung sgh e370', 9.483222412919769), ('samsung g810', 9.431158542964486), ('samsung p520', 9.37122526627384), ('nokia n81', 9.331318404823532), ('samsung sgh b130', 9.330102887875055)] \n",
      "\n",
      "Bezlikiy_Djo ->  [('sony ericsson w610i', 8.771244184209571), ('nokia c1 02', 8.60650966242777), ('nokia 7610 supernova', 8.486651322442494), ('nokia 3720', 8.456828509738205), ('nokia x2 01 357765', 8.11848533823342)] \n",
      "\n",
      "Emmanuel ->  [('blu life pure xl', 8.726926573426091), ('google nexus 5x h791', 8.438114305451501), ('asus zenfone max zc550kl', 8.290910495654941), ('nokia lumia 1520', 8.251648499702878), ('nokia lumia 1520', 8.251648499702878)] \n",
      "\n",
      "kevin ->  [('apple iphone 6s', 8.652232009036222), ('sony xperia z1 compact d5503', 8.564379192023482), ('lenovo s660', 8.550092127114546), ('htc hd2', 8.499682736911488), ('archos platinum 53', 8.403846153846155)] \n",
      "\n",
      "giovanni ->  [('samsung galaxy s4 mini gt i9190 gt i9192 dual sim', 9.25138080567319), ('huawei ascend honor 3c', 9.14044889821062), ('htc one xplus', 8.834235853498361), ('asus ze550kl', 8.833722785789655), ('apple iphone 6s', 8.811431943184244)] \n",
      "\n",
      "Joseph ->  [('oneplus two', 8.848006391602674), ('motorola moto x', 8.434152004146258), ('acer liquid e2', 8.355039956613268), ('samsung galaxy j3 duos', 8.339159007141088), ('htc 10', 8.333846330174232)] \n",
      "\n",
      "Kiran ->  [('huawei honor 5x', 9.339897677025842), ('samsung galaxy j5', 9.275143642329798), ('motorola moto e 2 lte', 9.096370699737726), ('sony xperia z3plus', 8.704666021119387), ('apple iphone 6s plus', 8.635854025807104)] \n",
      "\n",
      "Guido ->  [('huawei ascend y5 y560', 9.47941638537459), ('samsung galaxy s6', 8.956897329946852), ('samsung galaxy s3 mini', 8.727724103416266), ('google nexus 6p', 8.59122501989591), ('sony xperia tipo', 8.49979361713477)] \n",
      "\n",
      "Melissa ->  [('apple iphone 4s', 9.323377597286484), ('huawei ascend p6', 9.263375975787596), ('samsung galaxy s i9000', 9.130585414581768), ('lg g5', 9.001818161926787), ('samsung wave 525 s5250', 8.97862563561725)] \n",
      "\n",
      "kuzeykizi ->  [('nokia 5800 navigation edition', 9.310208781977789), ('samsung d880 duos', 9.30260883377994), ('motorola rokr z6', 9.252839446298736), ('samsung genoa c3510', 9.115178181941404), ('samsung c5212', 9.101956807727692)] \n",
      "\n",
      "Emily ->  [('lg g flex d958', 9.37199007544081), ('doogee dg300', 8.863059661688325), ('blackberry 8830 world edition', 8.836809810310942), ('apple iphone 6', 8.360948398943197), ('samsung galaxy gio s5660', 8.138214924259511)] \n",
      "\n",
      "emanetcan ->  [('lg gd900 232471', 9.63538786713017), ('samsung jet sgh s8003', 9.594470132874603), ('nokia 6760 slide', 9.55446487735945), ('samsung g810', 9.482049810467911), ('nokia 2310', 9.468603503077794)] \n",
      "\n",
      "Manu ->  [('motorola moto x 1 moto x1 moto x 2nd gen', 9.271092526599793), ('huawei honor 6', 8.620417394298869), ('samsung galaxy j5', 8.443785191945715), ('nokia 7360', 8.00464722098469), ('sony xperia p', 7.987314136323573)] \n",
      "\n",
      "ÐÐ³Ð¾ÑÑ ->  [('sony xperia tx', 10), ('huawei honor 8', 9.462904535003615), ('apple iphone 6s plus', 9.364820012319633), ('sony xperia z1 compact d5503', 9.327918296855549), ('nokia lumia 720', 9.32566847452565)] \n",
      "\n",
      "K ->  [('pantech caper', 9.763411518464281), ('samsung i9500 galaxy s iv', 9.470522156245414), ('huawei p8', 9.189585962509538), ('motorola moto e', 8.702159002421384), ('alcatel idol 3 5 5 6045y', 8.634671744343008)] \n",
      "\n",
      "cristian ->  [('huawei nova plus', 9.99831222901878), ('cubot s208', 9.641463508931768), ('samsung galaxy s3 mini', 9.004754832973848), ('asus zenfone 3 max', 8.849086914073453), ('apple iphone se', 8.829321614846359)] \n",
      "\n",
      "hawwa ->  [('siemens s75', 9.623613022533274), ('lg ke990', 9.516602520257498), ('nokia 2310', 9.465181598224353), ('sony ericsson z550i', 9.370529533808572), ('samsung u800 soul', 9.33956572993)] \n",
      "\n",
      "Rahul ->  [('apple iphone 6', 9.250812528472554), ('samsung galaxy j7', 8.646924318867871), ('apple iphone 6s', 8.594674368159295), ('apple iphone 6s', 8.594674368159295), ('lenovo rocstar a319', 8.187564868482015)] \n",
      "\n",
      "Marcello ->  [('microsoft lumia 540', 10), ('samsung galaxy s4 mini gt i9190 gt i9192 dual sim', 9.113686594062777), ('archos 40 titanium', 8.87588240077072), ('lenovo a820', 8.832926719057681), ('blackberry curve 9380', 8.7817435736362)] \n",
      "\n",
      "... ->  [('huawei u8850 vision', 10), ('samsung galaxy a5', 9.541871131630694), ('samsung galaxy s4 mini gt i9190 gt i9192 dual sim', 9.415853171881484), ('nokia 3110 classic', 8.918718619571758), ('samsung galaxy pocket', 8.340023803170196)] \n",
      "\n",
      "anonymous ->  [('lg g2 594708', 9.334798171576882), ('blackberry z10', 8.720874289813404), ('htc droid incredible 2', 8.568979222348247), ('samsung galaxy note', 8.558754718244147), ('samsung galaxy s6', 8.326676392011894)] \n",
      "\n",
      "Gonzalo ->  [('lg e440 optimus l4 ii', 9.985808588818395), ('huawei ascend g620s', 9.177532166611721), ('samsung galaxy s6', 9.161963275832582), ('samsung galaxy note 4', 8.575993644915576), ('lg gt540', 8.547201934886765)] \n",
      "\n",
      "Pepe ->  [('doogee valencia 2 y100 pro', 8.571755257179353), ('nokia lumia 830', 8.380316724722102), ('meizu m2 note', 8.173798780816657), ('microsoft lumia 650', 7.891170753934222), ('lenovo moto g4 play', 7.64862726470219)] \n",
      "\n",
      "john ->  [('nokia n81', 9.892114530160026), ('nokia lumia 520', 9.29820269056153), ('htc one m7', 9.155156324342308), ('motorola moto q global', 8.999622388232975), ('blackberry curve 9370', 8.933096104113206)] \n",
      "\n",
      "Cristian ->  [('huawei p8 lite 2017', 9.313231046553447), ('huawei honor 7', 9.273562097138571), ('motorola moto g', 9.236013214824215), ('motorola moto g', 9.236013214824215), ('blackberry z30', 9.171513430113443)] \n",
      "\n",
      "Martin ->  [('samsung sgh z400', 10), ('pantech pg c300 c3', 9.94612654676745), ('asus zc551kl', 9.725432209348321), ('nokia 1100', 9.358675530932533), ('nokia lumia 520', 9.199216227661298)] \n",
      "\n",
      "Sabrina ->  [('samsung galaxy s iii neo i9300i', 9.712145830074034), ('samsung c3050', 9.707532605833467), ('lg l fino', 9.345778852103647), ('asus zenfone 3 max', 9.24963180009597), ('sony xperia z1', 9.215245508296352)] \n",
      "\n",
      "Ð Ð¾Ð¼Ð°Ð½ ->  [('samsung galaxy s8 plus', 9.928365105042458), ('sony ericsson cedar', 9.662953415478672), ('samsung galaxy j5', 9.43610756012557), ('samsung galaxy note iii', 9.339696398156452), ('samsung galaxy note 2', 9.238678830848194)] \n",
      "\n",
      "anneme ->  [('motorola droid 425280', 9.652346207875457), ('samsung g810', 9.54155229701293), ('nokia 7360', 9.385967422896295), ('nokia 5800 navigation edition', 9.384439931675894), ('samsung sgh m150', 9.36161566841166)] \n",
      "\n",
      "Marta ->  [('samsung galaxy s3 mini', 9.460686047562026), ('nokia lumia 620', 9.410505789388106), ('samsung galaxy fame s6810', 8.970026027094523), ('xiaomi mi 3', 8.76616407239638), ('nokia lumia 1020', 8.682698235287278)] \n",
      "\n",
      "Dani ->  [('alcatel one touch 997d ot 997d', 9.695615686814087), ('samsung galaxy s7 edge', 9.615740325343369), ('motorola moto e', 9.293284294434583), ('bq aquaris e5', 9.124202162359722), ('sony xperia z 504642', 9.05775428415537)] \n",
      "\n",
      "simone ->  [('samsung galaxy j5', 9.326714608871239), ('asus ze550kl', 8.853905811050181), ('huawei p9 lite', 8.291403994019493), ('huawei p9 lite', 8.291403994019493), ('htc m8', 8.254723835274287)] \n",
      "\n",
      "Laurent ->  [('huawei honor 7', 9.515754175774628), ('wiko highway', 9.400534341531214), ('nokia lumia 635', 9.0804985230049), ('sony xperia z5', 8.929119187001215), ('samsung galaxy j7 2016', 8.770408318502078)] \n",
      "\n",
      "ÐÐ¾Ð½ÑÑÐ°Ð½ÑÐ¸Ð½ ->  [('sony xperia tx', 9.889229039628775), ('nokia lumia 930', 9.695345805450383), ('samsung focus flash', 9.491542515746701), ('huawei ascend p6', 9.214662144304741), ('samsung galaxy note 2', 9.146129857493086)] \n",
      "\n",
      "Ð¡Ð²ÐµÑÐ»Ð°Ð½Ð° ->  [('samsung galaxy core', 9.610751744569855), ('apple iphone 6s plus', 9.586490685896079), ('samsung galaxy note 2', 9.31101972708029), ('apple iphone 6s', 9.289643180375542), ('samsung galaxy j7', 9.275560950001317)] \n",
      "\n",
      "Kelly ->  [('samsung galaxy s7 789999', 9.387467637503745), ('apple iphone 7', 9.362925190051977), ('motorola moto g', 9.179003564643892), ('apple iphone 6s plus', 9.124088114717793), ('sony xperia e5', 8.807445052113053)] \n",
      "\n",
      "ÐÐ°Ð´Ð¸Ð¼ ->  [('nokia 1100', 9.906985466365546), ('samsung galaxy ace 3', 9.657011319442752), ('lg x power', 9.493599329569063), ('samsung galaxy note 5 sm n920f', 9.485243512049625), ('lenovo p780', 9.424344278088677)] \n",
      "\n",
      "Natalia ->  [('apple iphone 5s', 9.441489681138759), ('samsung galaxy y s5360', 9.340753968441504), ('lg optimus l7', 8.997240093649154), ('samsung galaxy young', 8.242960863676872), ('elephone p6000 pro', 8.0925688227404)] \n",
      "\n",
      "Gabriele ->  [('microsoft lumia 640 dual sim', 9.771336325790749), ('samsung galaxy grand duos i9080 i9082', 9.527385886588682), ('sony xperia z3', 8.957491721118554), ('asus zenfone 3', 8.901969619536086), ('samsung galaxy s3 mini', 8.852893186892127)] \n",
      "\n",
      "ceren2006 ->  [('samsung b3210', 9.825180138390472), ('sony ericsson w950i', 9.607856283086978), ('lg ku380', 9.505110160429206), ('samsung c6112', 9.489842913331369), ('samsung i450', 9.446588798357867)] \n",
      "\n",
      "Amit ->  [('htc desire 820', 9.344769405031037), ('samsung g7102 galaxy grand 2', 8.511790689710546), ('samsung galaxy s7 789999', 8.506086959139408), ('samsung galaxy note iii', 8.181292388523076), ('samsung galaxy note 5 sm n920f', 8.127953744589052)] \n",
      "\n",
      "vincenzo ->  [('samsung c3590', 10), ('asus zenfone 2 ze551ml', 9.185058390150745), ('alcatel ot 918d', 9.00751037306776), ('samsung galaxy s7 edge', 8.8867128188576), ('cubot s222', 8.468671679071406)] \n",
      "\n",
      "paul ->  [('huawei honor 4x', 9.111728844255753), ('samsung galaxy a5', 9.000620976753051), ('samsung galaxy j3 duos', 8.874272598521044), ('sony ericsson xperia x10 mini pro', 8.568684638745182), ('nokia 105', 8.499375840159145)] \n",
      "\n",
      "Julien ->  [('samsung galaxy note iii', 9.626233398415424), ('huawei p8', 9.492352377916786), ('lenovo moto g4 plus', 9.439865345246398), ('htc desire', 9.30550537948627), ('acer liquid z3 duo', 9.292836215737136)] \n",
      "\n",
      "Irene ->  [('samsung i9500 galaxy s iv', 9.553114844091848), ('nokia 6303i', 9.337682858740163), ('samsung s7580 galaxy trend plus', 9.258374712824526), ('samsung gt i8160', 9.234463764593189), ('alcatel onetouch 20 04', 8.913496338176824)] \n",
      "\n",
      "Fabrizio ->  [('huawei nova plus', 9.562354151403753), ('wiko rainbow', 9.14935088169444), ('asus zenfone 3', 9.053567723462837), ('samsung galaxy a7', 9.050702205607882), ('huawei ascend g620s', 8.97872339987153)] \n",
      "\n",
      "Don ->  [('blackberry z10', 8.598737976761173), ('asus ze500kl', 8.546059454826187), ('microsoft lumia 532', 8.046737620542418), ('motorola moto g', 7.989874334207764), ('blu studio 5 0', 7.894326952855794)] \n",
      "\n",
      "Tim ->  [('samsung galaxy s4 mini gt i9190 gt i9192 dual sim', 9.333623396647477), ('nokia 1209', 9.294408578082843), ('htc one s', 9.1774348145771), ('samsung galaxy note 2', 8.882795407338453), ('samsung galaxy j5 4g lte 5 2 inches', 8.76514396851966)] \n",
      "\n",
      "Jim ->  [('samsung galaxy s5', 9.302954759620205), ('lg g2 594708', 9.055947079667918), ('lg optimus l3 ii e430 e425', 8.772564459806944), ('samsung c3520', 8.660072555033002), ('sony xperia e5', 8.40675110591267)] \n",
      "\n",
      "barbara ->  [('huawei p8 lite', 9.781042853511595), ('samsung c3590', 9.59694621718118), ('samsung galaxy s6', 9.253755115347566), ('nokia lumia 635', 9.216457159642298), ('samsung gt e2350', 8.958697382534659)] \n",
      "\n",
      "pikacu ->  [('nokia e66', 10), ('lg p503', 9.994174244177533), ('nokia x1 01', 9.53330557734564), ('samsung champ duos e2652w', 9.528723268801848), ('samsung s5233', 9.469717839627272)] \n",
      "\n",
      "JC ->  [('asus zenfone 3 max', 9.38873979119267), ('nokia 6500 slide', 9.224914417926302), ('samsung galaxy s iii neo i9300i', 9.051781140537729), ('huawei ascend g700', 8.742837770248606), ('doogee valencia 2 y100 pro', 8.664988185877885)] \n",
      "\n",
      "Caro ->  [('apple iphone', 8.609787000721084), ('palm pixi plus', 8.573620578472775), ('samsung galaxy j3 duos', 8.468251629671487), ('samsung gt e1200', 7.904498451140477), ('wiko getaway', 7.621391336294327)] \n",
      "\n",
      "Isabel ->  [('nokia lumia 720', 10), ('huawei ascend p7', 9.804620152581016), ('huawei honor 6', 9.624665611529423), ('lg l fino', 9.595819417463899), ('huawei honor holly', 9.43071660827805)] \n",
      "\n",
      "Mar ->  [('htc evo 4g', 9.664435018251627), ('sony xperia zr', 8.36424054382447), ('huawei g6600', 8.327512297302533), ('samsung galaxy a5 2017', 8.136376663366722), ('samsung galaxy s iii', 7.92459929230075)] \n",
      "\n",
      "Paolo ->  [('apple iphone 6s', 9.239395136146648), ('huawei p9 797082', 9.125120154106726), ('nokia lumia 620', 9.09688830129169), ('samsung galaxy s7 edge', 8.934178074288251), ('samsung galaxy s7 edge', 8.934178074288251)] \n",
      "\n",
      "Ð®ÑÐ¸Ð¹ ->  [('samsung galaxy sl i9003', 10), ('lg optimus g', 9.879852143203667), ('acer liquid e2', 9.772724120317557), ('lg optimus l5 ii dual e455 optimus duet', 9.68313813772757), ('samsung galaxy note 2', 9.56673244292643)] \n",
      "\n",
      "Rafael ->  [('xiaomi redmi note', 10), ('huawei p8 lite', 9.59579752594433), ('alcatel onetouch 20 04', 9.432200030030176), ('doogee voyager2 dg310', 9.38970989595176), ('htc m8', 9.275063026146752)] \n",
      "\n",
      "Pat ->  [('microsoft lumia 435', 9.591512597546735), ('samsung galaxy s7 edge', 9.399340012664526), ('samsung galaxy j7 2016', 9.374876902620743), ('nokia e71', 8.66424492165363), ('zte axon 7', 8.559682662956224)] \n",
      "\n",
      "ozer ->  [('sony ericsson k810i', 9.602105546461662), ('samsung sgh e740', 9.498215562408207), ('motorola rizr z3', 9.426523730813486), ('nokia e51', 9.374600279922655), ('nokia 6120 classic', 9.366747795714302)] \n",
      "\n",
      "Martina ->  [('samsung s3100', 10), ('samsung galaxy j5', 9.286901006708536), ('lg x power', 8.820392070223877), ('huawei p8 lite', 8.554964731956057), ('samsung gt i8160', 8.498503277489544)] \n",
      "\n",
      "Fernando ->  [('blackberry pearl 9105', 10), ('motorola moto g4', 9.100471175430483), ('motorola moto g4', 9.100471175430483), ('motorola moto g4', 9.100471175430483), ('huawei ascend mate 7', 8.983960518238403)] \n",
      "\n",
      "ÐÐ»Ð¸Ð½Ð° ->  [('samsung galaxy ace 3', 9.781113180264652), ('samsung galaxy ace s5830', 9.50057512765018), ('samsung galaxy young', 9.339428945564702), ('huawei g6600', 9.28562569843579), ('samsung galaxy a7', 9.272022700160893)] \n",
      "\n",
      "Mary ->  [('sharp gx30', 9.323748642745059), ('sony xperia x performance f8131', 9.283797099937194), ('samsung sgh e840', 9.083091875421381), ('nokia lumia 730', 8.694549616564034), ('microsoft lumia 640 xl', 8.430192590202276)] \n",
      "\n",
      "Alberto ->  [('htc p3300', 10), ('lg optimus l3 ii e430 e425', 9.261903543027854), ('samsung galaxy ch t b5330', 9.210009687410288), ('htc one m7', 9.150513931737002), ('alcatel onetouch pop 3 5015d', 9.14417176023393)] \n",
      "\n",
      "angel ->  [('lg optimus l5 e610', 8.88992620782882), ('alcatel onetouch 20 04', 8.75219666657629), ('microsoft lumia 640 xl', 8.467461045175288), ('nokia 108', 7.654379095868164), ('samsung galaxy note iii', 7.646949392991367)] \n",
      "\n",
      "ÐÑÑÐµÐ¼ ->  [('samsung galaxy a5 2016', 9.689979375763018), ('samsung galaxy a5 2016', 9.689979375763018), ('lg g2 mini', 9.608212297016506), ('samsung i9500 galaxy s iv', 9.377888860547127), ('nokia 5250', 9.239030539304416)] \n",
      "\n",
      "claudio ->  [('siemens cx65', 10), ('black berry 7100g', 9.956321950987117), ('asus zenfone 3', 9.888191207695458), ('philips 355', 9.863284929215217), ('samsung galaxy young', 9.594783567972364)] \n",
      "\n",
      "oscar ->  [('lg google nexus 5', 8.576636230571777), ('sony ericsson xperia arc', 8.412660709316846), ('samsung sgh d600 d600e', 8.076898108574824), ('asus ze500kl', 7.880299815974634), ('samsung galaxy ace style', 7.845367750941373)] \n",
      "\n",
      "Michelle ->  [('samsung galaxy note 3 neo 4g n7505', 9.400548511052753), ('huawei honor 6x', 9.010579969074943), ('sony ericsson t715', 8.801481702540856), ('lg volt ls740', 8.453499369144524), ('htc m8', 8.386366180285648)] \n",
      "\n",
      "kardelen ->  [('blackberry 7290', 9.487808320184365), ('samsung p520', 9.485561103423482), ('samsung s5233', 9.40919316410456), ('nokia n93', 9.182579805769933), ('samsung s3100', 9.16962586067551)] \n",
      "\n",
      "???????????? ???????????? ->  [('sony xperia e', 9.518865718918814), ('nokia 112', 9.209032136789984), ('nokia n9', 9.142268289369644), ('apple iphone 5', 8.816455124393066), ('htc one x', 8.423457502662146)] \n",
      "\n",
      "vesponethebest ->  [('lg kf700', 10), ('nokia 7310 supernova', 9.225895204727216), ('nokia 6111', 9.108298041189906), ('samsung x450', 7.855004599046743), ('samsung e2530', 7.821972735427728)] \n",
      "\n",
      "Ruben ->  [('apple iphone 5s', 9.176679935352151), ('samsung c3322', 8.849736730032449), ('samsung gt e1270', 8.590574865631908), ('sony xperia l', 8.558175143138033), ('lg g2 mini', 8.53829137982457)] \n",
      "\n",
      "david ->  [('alcatel onetouch pixi 4', 9.615653557032239), ('google nexus 5x h791', 9.120596418295206), ('cubot p7', 9.098548900659058), ('huawei ascend mate 7', 9.046970037287974), ('lg l90 d410', 8.995013418845101)] \n",
      "\n",
      "Sara ->  [('motorola moto g 753361', 9.462654084722896), ('huawei honor 6', 9.313074062269555), ('huawei p8 lite', 8.90957895754615), ('huawei y6', 8.890751243832263), ('lg dare vx9700', 8.86500965064962)] \n",
      "\n",
      "Raj ->  [('lenovo zuk z1', 7.828827587801811), ('lenovo vibe k5', 7.703461562601094), ('samsung galaxy j3 duos', 7.418690967036548), ('samsung galaxy j3 duos', 7.418690967036548), ('nokia lumia 820', 6.969139044551188)] \n",
      "\n",
      "Sharon ->  [('samsung galaxy y s5360', 9.514228181555723), ('apple iphone 6s plus', 9.490991511112252), ('apple iphone 6', 9.39832137025907), ('huawei p8', 8.990774471106246), ('blackberry q10', 8.447537609402715)] \n",
      "\n",
      "Christoph ->  [('lg google nexus 5', 9.247393473457725), ('htc desire eye m910x', 8.885555538714407), ('samsung u800 soul', 8.86345481350329), ('huawei g610', 8.495415090742256), ('samsung galaxy s iii neo i9300i', 7.9976163236722195)] \n",
      "\n",
      "giuseppe ->  [('samsung wave 3', 9.479997967729572), ('lg leon 4g lte h340n', 9.372516343089432), ('apple iphone se', 9.327844934714683), ('huawei honor 4x', 9.310733324344948), ('huawei honor 4x', 9.310733324344948)] \n",
      "\n",
      "ali ->  [('samsung s7580 galaxy trend plus', 9.659146879009871), ('samsung galaxy y pro b5510', 9.545140519833074), ('zte axon 7', 9.363724651871971), ('samsung i550', 9.26054223447524), ('samsung galaxy note iii', 9.21630850216044)] \n",
      "\n",
      "Arun ->  [('motorola moto g4', 9.302139424953264), ('motorola moto x', 9.18607344165079), ('samsung galaxy j5 4g lte 5 2 inches', 9.072411208340728), ('sony xperia z5', 8.278759303808874), ('samsung galaxy j5', 8.165504113304975)] \n",
      "\n",
      "sedat01 ->  [('nokia x1 01', 9.67913717268862), ('nokia e63', 9.660143571867044), ('samsung s5233', 9.470711484217537), ('nokia n76', 9.438216183598115), ('samsung galaxy nexus', 9.412239167619223)] \n",
      "\n",
      "Henry ->  [('huawei p8', 9.053820139673142), ('nokia 1101', 8.851667034477675), ('samsung galaxy note 2', 8.826865014524722), ('huawei ascend p7', 8.395481876118927), ('blackberry z10', 8.089828263128267)] \n",
      "\n",
      "Melanie ->  [('motorola moto x', 8.960343457275089), ('lg leon 4g lte h340n', 8.802922541925845), ('samsung s5610', 8.3035487177531), ('samsung galaxy core plus', 8.01664641151546), ('apple iphone 7 plus', 8.002893296851864)] \n",
      "\n",
      "Vanessa ->  [('xiaomi redmi note 4', 9.37142465981643), ('apple iphone se', 8.847322148780515), ('motorola moto g', 8.545291185381217), ('samsung gt i8552', 8.367431956842978), ('nokia 8800', 8.34167927952845)] \n",
      "\n",
      "Danny ->  [('samsung galaxy a5 2016', 9.730909475168177), ('samsung sgh t401g', 9.72674587227461), ('huawei p9 lite', 9.33877391704875), ('samsung galaxy j5 4g lte 5 2 inches', 9.296237543144525), ('nokia n96', 9.271816589272165)] \n",
      "\n",
      "Ashley ->  [('samsung galaxy s6', 9.014798822853235), ('apple iphone 5c', 8.767671164349743), ('nokia n81', 8.422869765349956), ('samsung galaxy s i9000', 8.293334571912668), ('motorola droid 2 global', 8.234268389551001)] \n",
      "\n",
      "Lee ->  [('samsung galaxy j7', 9.327661216986447), ('samsung galaxy j3 duos', 9.233502925567699), ('samsung galaxy s6', 8.322410011172368), ('samsung galaxy s6', 8.322410011172368), ('microsoft lumia 640 xl', 8.30251084372237)] \n",
      "\n",
      "black ->  [('samsung sgh e370', 9.561700545490199), ('lg ke990', 9.554222250628733), ('samsung s7550', 9.552268476065134), ('samsung sgh e740', 9.43223278119824), ('nokia n81', 9.41476714372715)] \n",
      "\n",
      "Christina ->  [('samsung galaxy s3 mini', 8.969336693679184), ('nokia 6300', 8.916341744085564), ('lg optimus l9 p760', 8.61891085445903), ('samsung galaxy j5', 8.115117506351025), ('htc m8', 8.055898591867056)] \n",
      "\n",
      "bob ->  [('samsung sgh a997', 9.629119133598936), ('huawei p8 lite', 9.529846365786216), ('huawei p8 lite', 9.529846365786216), ('apple iphone 4s', 9.448331717096014), ('archos 50 helium', 9.421622992419342)] \n",
      "\n",
      "Fran ->  [('samsung galaxy s3 mini', 9.271617828182459), ('xiaomi mi 3', 8.88994349431733), ('alcatel ot 282', 8.478614879588772), ('samsung ativ s', 8.466474143463497), ('lg google nexus 5', 8.441031392446302)] \n",
      "\n",
      "JJ ->  [('motorola i870', 9.533164554531771), ('archos 50 helium', 9.244009514422007), ('samsung galaxy note 2', 8.87464743388125), ('google nexus 5x h791', 8.662363686450592), ('blackberry curve 3g 9300', 8.577796807111302)] \n",
      "\n",
      "carlos ->  [('asus zenfone 3', 9.35797032875289), ('htc m8', 9.057048942399188), ('sony xperia z1', 8.611189695729518), ('sony xperia l', 8.471241364862758), ('samsung galaxy note 3 neo 4g n7505', 8.350120198514798)] \n",
      "\n",
      "luis ->  [('lg g2 594708', 8.947721909848443), ('samsung galaxy note iii', 8.509636490378224), ('nokia lumia 635', 8.15708422461146), ('apple iphone 5s', 8.152880735758187), ('lg optimus l9 p760', 8.122094724896652)] \n",
      "\n",
      "Eric ->  [('mysaga c2', 10), ('sony ericsson k850i', 9.677641672617526), ('nokia lumia 735', 9.240640206102587), ('motorola w385', 8.981482791790025), ('huawei ascend y300', 8.83504720542722)] \n",
      "\n",
      "Miguel ->  [('thl w200', 9.277851555907425), ('motorola moto g', 9.13287537049661), ('motorola moto g', 9.13287537049661), ('sony xperia z 504642', 9.112052303073604), ('huawei p8 lite', 9.084316457312779)] \n",
      "\n",
      "George ->  [('lg g pro 2', 9.916895010122825), ('motorola xt1225', 9.450089308453235), ('motorola v620', 9.303753755620361), ('blu studio 5 0', 9.123264638895916), ('blackberry leap', 8.703998082103446)] \n",
      "\n",
      "Carmen ->  [('huawei p10 plus', 9.735726621179841), ('apple iphone 6s', 9.56648504741532), ('huawei g610', 9.395783791011599), ('doro phoneeasy 612', 9.17971606267537), ('sony xperia z3 compact', 9.1744551222966)] \n",
      "\n",
      "Leonardo ->  [('lg leon 4g lte h340n', 9.590716332802359), ('samsung galaxy j7 2016', 9.342667664378398), ('lg l90 d410', 9.230829837603498), ('samsung s7580 galaxy trend plus', 9.190668400126878), ('apple iphone se', 9.044636915673333)] \n",
      "\n",
      "roberto ->  [('samsung ativ s', 9.962882275302121), ('huawei ascend y550', 9.665499749046576), ('sony ericsson w700i', 9.628669426714342), ('asus zenfone 2', 9.367756395128522), ('asus zenfone selfie zd551kl', 9.341626649165097)] \n",
      "\n",
      "JÃ¶rg ->  [('samsung galaxy s5', 9.668385773637096), ('apple iphone 5s', 9.309279597228286), ('nokia 101', 9.218080205954596), ('nokia c5 03', 8.91999250807891), ('samsung galaxy s5 neo sm g903f', 8.76924545246085)] \n",
      "\n",
      "Vincent ->  [('huawei p9 lite', 9.42916185414967), ('oppo r7 plus', 9.012031884791257), ('archos 50 helium', 8.852557599714554), ('blackberry passport', 8.728315625622102), ('samsung galaxy alpha', 8.620320205422837)] \n",
      "\n",
      "Un anonyme ->  [('samsung gt e1270', 9.753328237783153), ('samsung sgh m110', 9.047091038498884), ('nokia 6230i', 8.984142754807534), ('sony ericsson k750i', 8.204206432357761), ('samsung galaxy note 2', 8.191472200260472)] \n",
      "\n",
      "vincent ->  [('sony xperia z3', 9.336481279551442), ('samsung s5611', 8.776652182030023), ('blackberry passport', 8.701772216816076), ('samsung gt e1270', 8.400281834851048), ('lg g4', 8.355830857212554)] \n",
      "\n",
      "Pseudonym ->  [('huawei ascend mate 8', 9.204012365247117), ('htc explorer', 9.01694713838002), ('lg optimus l5 e610', 8.76935645313546), ('samsung galaxy note iii', 8.687257269359108), ('samsung galaxy mega 6 3 i9200', 8.442974110250185)] \n",
      "\n",
      "federico ->  [('oppo r7 plus', 10), ('huawei p9 lite', 9.725644089553903), ('samsung galaxy note 2', 9.67177293292108), ('sony xperia sp', 9.287539711609652), ('samsung galaxy s6 edge sm g925f', 9.0047869228033)] \n",
      "\n",
      "Ganesh ->  [('sony xperia m', 7.801210466688967), ('motorola moto g4', 7.275854058078646), ('sony xperia sp', 6.954263008269521), ('motorola moto g 4 plus', 6.864627908251138), ('samsung galaxy c9 pro', 6.639924099230861)] \n",
      "\n",
      "ÐÑÑÐµÑÐ»Ð°Ð² ->  [('sony xperia zr', 9.689260912246011), ('microsoft lumia 640 dual sim', 9.643226652551137), ('apple iphone 5s', 8.836597405827556), ('nokia 101', 8.819989450067135), ('lenovo a536', 8.571311731119007)] \n",
      "\n",
      "Peter ->  [('oppo r7 plus', 9.525722749229503), ('samsung galaxy a3 819970', 9.392679213185522), ('sony ericsson xperia arc s', 9.358598091248798), ('nokia lumia 630', 9.232598347801428), ('samsung galaxy s7 789999', 9.202978364986047)] \n",
      "\n",
      "ÐÑÑÑÐ¼ ->  [('lg k10', 10), ('nokia 6500 classic', 10), ('samsung galaxy j5', 9.772975561906456), ('sony xperia z 504642', 9.576626177749375), ('samsung galaxy s6', 9.420907290293181)] \n",
      "\n",
      "ÐÐ¸ÐºÑÐ¾Ñ ->  [('lg e440 optimus l4 ii', 9.735527498914553), ('asus zenfone 3 max', 9.202463000062373), ('samsung galaxy s6', 8.957137143338393), ('huawei ascend g700', 8.883906890686186), ('samsung galaxy a3', 8.874611180596311)] \n",
      "\n",
      "ÐÐ½Ð°ÑÐ¾Ð»Ð¸Ð¹ ->  [('huawei honor 8', 9.166528877056658), ('nokia n82', 9.068352323898655), ('samsung galaxy a3 2016', 8.995236770342949), ('nokia 105', 8.566431698809085), ('samsung monte s5620', 8.531157893407757)] \n",
      "\n",
      "adrian ->  [('samsung galaxy s i9000', 8.01674095478898), ('nokia 1600', 7.755755223179468), ('lg g3 d855 657484', 7.6992362494079805), ('samsung galaxy s3 mini', 7.5060393705947535), ('nokia 100', 7.192241671340045)] \n",
      "\n",
      "AnÃ´nimo ->  [('lg optimus l3 e405', 9.65866095070995), ('lg optimus l3 e405', 9.65866095070995), ('samsung ativ s', 9.122555878268622), ('samsung galaxy s ii', 8.564786197017796), ('lg t375', 8.531376023722729)] \n",
      "\n",
      "Cindy ->  [('alcatel one touch 995', 9.747628205128276), ('samsung galaxy j5 4g lte 5 2 inches', 9.359261465783918), ('wiko rainbow', 9.347210763372248), ('lg vx 8300', 9.295283032430481), ('htc desire 816', 9.053243170337975)] \n",
      "\n",
      "nick ->  [('samsung galaxy pro b7510', 10), ('motorola droid razr m', 10), ('huawei p9 lite', 9.988432957592892), ('samsung galaxy j7 2016', 9.918572901059083), ('htc one m7', 9.857604158358011)] \n",
      "\n",
      "okuyan ->  [('samsung sgh i560', 9.415510132492594), ('nokia 6267', 9.345204860035494), ('nokia e50', 9.288356252826834), ('samsung d880 duos', 9.272881302900107), ('samsung i780', 9.271082880760778)] \n",
      "\n",
      "Patricia ->  [('doro phoneeasy 612', 9.63013950457302), ('motorola moto g', 9.478820782843151), ('samsung sch u360 gusto', 9.46926086880126), ('samsung galaxy y s5360', 9.415643353476268), ('samsung galaxy s iii neo i9300i', 9.413627384891429)] \n",
      "\n",
      "Erkek ->  [('lg e450 optimus l5 ii', 9.679712032659978), ('samsung galaxy note 3 neo 4g n7505', 9.671734949862401), ('htc one sv', 9.635017320555466), ('htc one sv', 9.635017320555466), ('lg nexus 4', 9.559631698913078)] \n",
      "\n",
      "Aditya ->  [('huawei honor 4x', 9.206040704278953), ('samsung galaxy j7 prime', 8.408932081356575), ('samsung galaxy s7 789999', 8.260093525961517), ('lg google nexus 5', 8.19111915117542), ('google nexus 5x h791', 7.950070999904994)] \n",
      "\n",
      "JP ->  [('lg s5200', 9.0), ('samsung i9500 galaxy s iv', 8.993383198173124), ('huawei ascend g620s', 8.622365191014724), ('cubot p7', 8.380001191708185), ('nokia 112', 8.330366865315227)] \n",
      "\n",
      "retkit ->  [('nokia e63', 9.878480517649592), ('nokia 5250', 9.876430613805509), ('nokia e51', 9.678695439865743), ('nokia 6760 slide', 9.631548364708202), ('nokia 2310', 9.527163187342502)] \n",
      "\n",
      "Valentina ->  [('ttfone pluto', 10), ('huawei p9 lite', 9.602648569821078), ('motorola moto g', 9.3685407263022), ('apple iphone 7', 9.17644266609007), ('samsung galaxy s ii plus', 9.155767186358897)] \n",
      "\n",
      "Stephan ->  [('samsung wave s8500', 9.978132042264573), ('nokia 2710', 9.832923444797187), ('apple iphone 5s', 9.392153466754555), ('apple iphone 5s', 9.392153466754555), ('nokia lumia 630', 9.179940224461479)] \n",
      "\n",
      "AJ ->  [('lg p710 optimus l7 ii', 9.169836444757172), ('google nexus 6p', 8.848945254009216), ('sony xperia z5 premium', 8.673005406468373), ('google nexus 5x h791', 8.142595520223777), ('samsung galaxy express i437', 8.072969632990496)] \n",
      "\n",
      "Tina ->  [('samsung galaxy s advance gt i9070', 9.269137899226061), ('htc desire 626', 9.214539619182528), ('lg optimus l5 ii dual e455 optimus duet', 9.195863392790525), ('samsung galaxy j3 duos', 9.169771043232249), ('huawei ascend mate 7', 9.093345020181552)] \n",
      "\n",
      "juan ->  [('lenovo ideaphone s960', 9.941322750899703), ('alcatel one touch 997d ot 997d', 9.63145721621317), ('htc sensation xl', 9.394751537531564), ('microsoft lumia 640 xl', 9.143712139520012), ('lg google nexus 5', 8.953211303601652)] \n",
      "\n",
      "iboibo ->  [('samsung g810', 9.468304088550125), ('samsung p520', 9.396736706717256), ('samsung sgh b130', 9.362269537651516), ('samsung u800 soul', 9.345104235546483), ('nokia 5800 navigation edition', 9.328432594246834)] \n",
      "\n",
      "Ð ÑÑÐ»Ð°Ð½ ->  [('samsung galaxy j7', 9.895119232687923), ('sony xperia sp', 9.531299757727574), ('lg optimus l3 ii e430 e425', 9.47357769616952), ('asus zenfone 2', 9.197561823623765), ('samsung galaxy s7 edge', 9.144292030372192)] \n",
      "\n",
      "max ->  [('asus zenfone 2', 9.453522932829879), ('asus zenfone 2', 9.453522932829879), ('samsung galaxy s7 edge', 9.28110215544958), ('samsung galaxy i7500', 9.156593738098563), ('alcatel one touch 1010d', 8.85836661933162)] \n",
      "\n",
      "ravi ->  [('sony ericsson g502', 10), ('zte blade s6', 9.828337631306292), ('samsung galaxy j5', 9.531877155729939), ('samsung galaxy a5', 8.794260025606443), ('motorola moto g5', 8.239216183207672)] \n",
      "\n",
      "Claudia ->  [('samsung galaxy a3', 9.358944277605783), ('samsung galaxy a3', 9.358944277605783), ('nokia asha 501', 9.11379764068054), ('apple iphone 6s plus', 8.851410648058906), ('huawei p8 lite', 8.807402755601645)] \n",
      "\n",
      "Paula ->  [('nokia e5', 8.719772595488799), ('huawei p8 lite', 8.657849866253834), ('lg optimus one p500', 8.57232763700669), ('samsung galaxy s iii neo i9300i', 8.267826717560427), ('apple iphone 7', 8.236903427777358)] \n",
      "\n",
      "Anja ->  [('sony xperia x f5121', 9.685139147026915), ('nokia 2760', 9.660874621917324), ('samsung galaxy a3 2016', 8.682374419428628), ('samsung galaxy a5 2017', 8.439176233734614), ('samsung galaxy s7 edge', 7.796353465363209)] \n",
      "\n",
      "Ann ->  [('nokia n80', 9.833825371739083), ('sony ericsson k850i', 9.459824382983378), ('apple iphone 6s', 9.42912276346334), ('huawei p8 lite', 9.369501985675349), ('samsung galaxy mega 5 8', 9.361942932135367)] \n",
      "\n",
      "Lukas ->  [('lg google nexus 5', 9.24136983568433), ('huawei ascend p1', 8.66999356388263), ('samsung galaxy fit', 8.581186336813195), ('samsung galaxy nexus', 8.324678203181186), ('samsung sgh j700', 8.125765984177969)] \n",
      "\n",
      "Frank ->  [('samsung sgh a997', 9.44769159298255), ('blackberry curve 8300', 9.280144999388643), ('blackberry q10', 9.200869257822864), ('sony xperia xz', 9.081068491533815), ('nokia n8', 9.052412184840836)] \n",
      "\n",
      "Julio ->  [('motorola moto x', 9.99732895588112), ('sony xperia z1', 9.31181995989844), ('huawei mate 9', 9.16246685284865), ('lg google nexus 5', 9.15254330915969), ('huawei ascend y201 pro', 8.448400470038358)] \n",
      "\n",
      "Kindle-Kunde ->  [('sony xperia l', 9.353741845269939), ('microsoft lumia 640 xl', 9.192836071686873), ('palm treo 680', 8.908369336767098), ('huawei p8', 8.857838517058331), ('motorola moto x play', 8.773712412391014)] \n",
      "\n",
      "Pilar ->  [('ttfone pluto', 10), ('nokia 6230', 10), ('nokia 6131', 9.17381356388283), ('xiaomi mi 4c', 9.11377167523666), ('huawei ascend p7', 9.107901931606033)] \n",
      "\n",
      "Oscar ->  [('sony xperia t', 9.592085338656585), ('acer liquid e2', 9.42847166801199), ('acer liquid e2', 9.42847166801199), ('samsung galaxy ch t b5330', 9.242686758415648), ('lg optimus l5 ii dual e455 optimus duet', 9.142866283089123)] \n",
      "\n",
      "paolo ->  [('nokia 1600', 9.654251456820363), ('cubot gt99', 9.454469267208088), ('samsung galaxy j5', 9.358365190910572), ('nokia 107', 9.315586118521834), ('thl w200', 9.299907822288453)] \n",
      "\n",
      "Ram ->  [('apple iphone 5s', 7.280270070058229), ('motorola moto g4', 7.125183215744016), ('microsoft lumia 640 dual sim', 7.051542536495954), ('lenovo vibe x3', 6.682160486274695), ('htc desire 820', 6.561005682221656)] \n",
      "\n",
      "salame ->  [('black berry 8700g', 9.696298584278685), ('blackberry curve 8300', 9.571013589107379), ('nokia 7360', 9.569891415559047), ('nokia 6267', 9.548773197966126), ('nokia 5800 navigation edition', 9.532270729021723)] \n",
      "\n",
      "Emanuele ->  [('samsung galaxy j5', 9.782920225782128), ('asus zenfone 3', 9.778828853339755), ('lg l90 d410', 9.743778807429921), ('google nexus 6p', 9.623712055163805), ('samsung galaxy s iii neo i9300i', 9.402245234837642)] \n",
      "\n",
      "???????? ->  [('huawei ascend w1', 9.240544169251345), ('huawei ascend w1', 9.240544169251345), ('lg optimus l5', 9.1144426066028), ('lg optimus l5 e610', 8.95726223493713), ('samsung gt s5282', 8.81538355485087)] \n",
      "\n",
      "fabio ->  [('alcatel one touch idol 2 mini', 10), ('nokia lumia 925', 9.664046668011071), ('siemens cf110', 9.505503411866957), ('motorola moto e', 9.362879615299786), ('asus zenfone 2', 9.223995370336329)] \n",
      "\n",
      "Valeria ->  [('samsung galaxy j5', 9.399812772299), ('samsung galaxy note 4', 9.342118849718679), ('jolla jolla phone', 9.29059647495042), ('asus zenfone 3', 8.923664574947383), ('huawei honor 6x', 8.455256816423674)] \n",
      "\n",
      "Guillermo ->  [('google nexus 5x h791', 9.322686431002005), ('xiaomi redmi note 2', 9.320223096665313), ('doogee homtom ht6', 9.093931727691055), ('motorola moto g', 8.758890426625872), ('blackberry z10', 8.674589439058643)] \n",
      "\n",
      "???????????????? ?????????????? ->  [('nokia asha 210', 9.129125270894203), ('nokia n9', 8.440886763871966), ('sony xperia s', 7.904258575576608), ('lg p940', 7.597216343467663), ('nokia asha 302', 7.519874988039686)] \n",
      "\n",
      "MM ->  [('nokia e50', 10), ('blackberry passport', 8.735823762748375), ('apple iphone 5s', 8.687028063253786), ('blackberry z10', 8.31069559935538), ('huawei p8 lite', 8.146198758444228)] \n",
      "\n",
      "Denise ->  [('huawei p8', 9.65390208597697), ('apple iphone 5c', 9.29387448685377), ('lg g6', 9.265388072198661), ('wiko rainbow', 9.173391122963782), ('wiko rainbow', 9.173391122963782)] \n",
      "\n",
      "anna ->  [('samsung galaxy s i9000', 10), ('mysaga c2', 9.529054848846176), ('asus zenfone 5', 8.770873305259283), ('apple iphone 5', 8.540779019454163), ('huawei p8 lite', 8.527002773455981)] \n",
      "\n",
      "Mac ->  [('motorola atrix', 9.352424395827128), ('samsung monte s5620', 8.735222411500864), ('blu studio x', 8.126898686339313), ('nokia 1600', 7.911753656312901), ('htc desire 310', 7.796570258638846)] \n",
      "\n",
      "Karin ->  [('huawei ascend g525', 9.458107159071583), ('samsung galaxy j5', 9.326090576777183), ('nokia 6111', 9.224770708915282), ('samsung galaxy s ii', 9.152181779865805), ('samsung corby s3650', 9.059820170396245)] \n",
      "\n",
      "Ale ->  [('motorola moto x', 9.62932137821816), ('blackberry passport', 9.216486237358541), ('lg l90 d410', 8.927266366511741), ('apple iphone 6 plus', 8.544742026283958), ('doogee valencia 2 y100 pro', 8.474699233661584)] \n",
      "\n",
      "Felipe ->  [('huawei honor 6', 9.968895692597865), ('apple iphone 5s', 9.508580847305684), ('asus zenfone 3', 9.16370972385952), ('nokia lumia 620', 8.9327789167949), ('sony xperia p', 8.588966382648183)] \n",
      "\n",
      "Liz ->  [('lg env', 9.525829273875866), ('sony xperia m2', 9.4205669260135), ('nokia lumia 520', 9.304093720991931), ('samsung galaxy j3 duos', 9.20855653961837), ('apple iphone 3g', 8.99734412346678)] \n",
      "\n",
      "Pablo ->  [('samsung galaxy s ii plus', 9.279488249174305), ('samsung galaxy s ii plus', 9.279488249174305), ('nokia lumia 630', 9.191691997961204), ('sony xperia u st25i', 9.02657156604114), ('samsung galaxy s iii', 9.001538270754905)] \n",
      "\n",
      "Amazon Kundenrezensionen ->  [('sony ericsson k530i', 9.994754536659984), ('samsung galaxy a3 819970', 9.470387838390662), ('samsung galaxy s3 mini', 9.060670613128924), ('alcatel one touch 992d', 8.932750823162074), ('nokia lumia 630', 8.88938122568348)] \n",
      "\n",
      "Ashish ->  [('lenovo vibe k5', 9.342124741018942), ('sony ericsson k810i', 8.943744748674158), ('samsung gt e1200', 8.109934902080834), ('samsung galaxy note 4', 7.839474834750177), ('nokia lumia 520', 7.76528899622627)] \n",
      "\n",
      "martin ->  [('nokia 5233', 10), ('thl w200s', 10), ('microsoft lumia 650', 9.631004809012412), ('apple iphone 4', 9.390090056924013), ('samsung e1150', 9.039731585551246)] \n",
      "\n",
      "Jordi ->  [('huawei p10 plus', 10), ('nokia lumia 735', 9.4528922348588), ('apple iphone 5s', 8.980113497587356), ('huawei honor 8', 8.88536207513346), ('huawei p8', 8.801004431988474)] \n",
      "\n",
      "Will ->  [('samsung ativ s', 9.182142174851865), ('nokia 800', 8.524560525484038), ('microsoft lumia 550', 8.126078605303626), ('motorola moto x', 8.011057973120511), ('lg google nexus 5', 7.876251698357611)] \n",
      "\n",
      "Mac Reviews ->  [('huawei ascend y511', 9.745535714285714), ('lenovo a269i', 7.725093852543875), ('lenovo ideaphone a680', 7.557023950050627), ('google nexus 6p', 7.372496216480208), ('lg g2 594708', 7.326036435385298)] \n",
      "\n",
      "Ð®Ð»Ð¸Ñ ->  [('samsung galaxy mega 6 3 i9200', 10), ('nokia 5130 xpressmusic', 9.897972849199407), ('lg k10', 9.61782838026394), ('microsoft lumia 640 xl', 9.543766477343679), ('samsung galaxy grand duos i9080 i9082', 9.310036681983117)] \n",
      "\n",
      "ÐÐ»ÐµÐºÑÐ°Ð½Ð´ÑÐ° ->  [('lg k10', 10), ('samsung galaxy note 2', 9.754967326468533), ('sony xperia c', 9.74229260496731), ('samsung i9500 galaxy s iv', 9.619364142017382), ('apple iphone 6s plus', 9.449948886862733)] \n",
      "\n",
      "laura ->  [('thl w200', 9.11094017243253), ('samsung galaxy j5 4g lte 5 2 inches', 9.064133366671776), ('samsung i9500 galaxy s iv', 9.011554776760368), ('samsung galaxy grand neo plus gt i9060i', 8.849502495933617), ('lg e450 optimus l5 ii', 8.481243525997934)] \n",
      "\n",
      "Cesar ->  [('motorola moto g4', 9.920478844186405), ('nokia lumia 930', 8.8710058509066), ('huawei p8', 8.79656667999133), ('nokia n900', 8.794919015720552), ('htc one m9 plus', 8.739656652018574)] \n",
      "\n",
      "Andre ->  [('motorola moto g', 9.395282287919876), ('nokia 1200', 9.298107134447145), ('samsung galaxy note iii', 9.212057334503251), ('samsung galaxy a5 2016', 9.046830437038318), ('sony ericsson xperia pro', 8.671201428993873)] \n",
      "\n",
      "Sven ->  [('huawei ascend y550', 9.725624553232239), ('huawei p8', 9.619777687073334), ('sony xperia s', 9.583247162674908), ('huawei ascend p6', 9.273978666916262), ('thl w200s', 8.94123633761608)] \n",
      "\n",
      "Ajay ->  [('microsoft lumia 540', 10), ('sony ericsson t715', 10), ('nokia lumia 720', 9.758762951731232), ('motorola moto z play', 9.719876816377397), ('lenovo vibe k5', 9.600810772316674)] \n",
      "\n",
      "?????????????? ?????????? ->  [('samsung s7262 duos galaxy ace', 9.7667860495898), ('huawei honor', 9.293083134181312), ('samsung c3782', 8.701282217735946), ('apple iphone 5', 7.474963442428809), ('htc one x', 7.140511299577515)] \n",
      "\n",
      "Wolfgang ->  [('apple iphone 6s plus', 9.081690409203178), ('samsung galaxy j5', 8.845164729081974), ('samsung galaxy s7 789999', 8.809194868290586), ('microsoft lumia 640 dual sim', 8.606627497857305), ('sony xperia z5', 8.24239493449672)] \n",
      "\n",
      "Angelo ->  [('huawei honor 4x', 9.277850159708134), ('asus zenfone selfie zd551kl', 9.26425641586388), ('samsung galaxy note 2', 9.232871239417602), ('alcatel onetouch pop c9', 9.198711087927727), ('apple iphone 6s', 9.130112220112485)] \n",
      "\n",
      "Renato ->  [('asus zenfone 3', 9.28508771377059), ('huawei ascend g620s', 9.180376505776557), ('huawei honor 7', 8.884252472026079), ('huawei p8', 8.743287304321107), ('apple iphone 4s', 8.538834207953903)] \n",
      "\n",
      "Ivan ->  [('apple iphone 6', 9.207905620058906), ('sony xperia z 504642', 8.99751054565721), ('sony xperia z3', 8.799379826567563), ('lg optimus l3 ii e430 e425', 8.740667570985694), ('huawei y635', 8.619859404865746)] \n",
      "\n",
      "Rodrigo ->  [('tp link archer t6e', 9.367325893988031), ('motorola moto g4', 8.398222936750098), ('bq aquaris e4 5', 8.212864854078152), ('google nexus 6', 8.069260139592823), ('samsung galaxy s5', 8.000903341729346)] \n",
      "\n",
      "stefano ->  [('sharp gx15 gz100', 9.94485595985195), ('siemens cf110', 9.454038490424605), ('meizu m1 note', 9.25542945505708), ('huawei ascend g525', 9.183003656971083), ('asus zenfone 3 max', 8.995206349692529)] \n",
      "\n",
      "Olivier ->  [('apple iphone se', 8.593868645729223), ('samsung galaxy alpha', 8.471998831311646), ('lg spirit 4g', 8.190513022468975), ('wiko rainbow', 8.182244016413899), ('wiko rainbow', 8.182244016413899)] \n",
      "\n",
      "ÐÐ°ÐºÑÐ¸Ð¼ ->  [('oppo find 5', 10), ('sony xperia t', 9.215834625171224), ('nokia lumia 930', 9.202079053322633), ('samsung galaxy note 2', 9.129221775133688), ('samsung galaxy a7', 9.014850372598634)] \n",
      "\n",
      "Sumit ->  [('apple iphone 6s', 9.366077658167091), ('lenovo s660', 9.29141182201927), ('apple iphone 6 plus', 8.936479441006012), ('sony xperia sola', 8.935485359254685), ('sony ericsson w395', 8.909646599003446)] \n",
      "\n",
      "Rene ->  [('huawei mate 9', 9.574395704433995), ('nokia 206', 9.305582044849336), ('lg google nexus 5', 9.172296037648605), ('nokia lumia 735', 8.92410064381676), ('huawei ascend mate 7', 8.890969779122388)] \n",
      "\n",
      "???????????? ???????? ->  [('nokia asha 205', 7.92177144381684), ('nokia asha 302', 7.676343283647972), ('sony xperia v', 7.673458933159345), ('sony xperia v', 7.673458933159345), ('htc sensation xl', 7.529219819812722)] \n",
      "\n",
      "Alicia ->  [('lg google nexus 5', 9.57810115169071), ('huawei ascend g7', 8.462570652203713), ('huawei ascend p7', 8.182434994534322), ('huawei honor 6', 7.703656653355393), ('samsung galaxy s4 mini gt i9190 gt i9192 dual sim', 7.34032859723359)] \n",
      "\n",
      "M. ->  [('sony ericsson k660i', 10), ('samsung galaxy s7 789999', 9.720342862271195), ('samsung galaxy s5 mini', 9.448807143706928), ('lg optimus l9 p760', 9.188711807296665), ('samsung galaxy a5 2016', 9.119617989532664)] \n",
      "\n",
      "???????????????? ->  [('lg optimus l5 e610', 10), ('apple iphone 4s', 9.761411945093064), ('samsung galaxy note', 9.442312933303443), ('sony ericsson xperia neo v', 9.14918297413775), ('nokia asha 302', 8.963969746767198)] \n",
      "\n",
      "Felix ->  [('htc one m8s', 8.829483448418472), ('apple iphone se', 8.801973880037831), ('samsung galaxy j3 duos', 8.583709270846468), ('apple iphone 6 plus', 8.442987883827803), ('huawei honor 6 plus', 8.387970090952416)] \n",
      "\n",
      "Julian ->  [('samsung galaxy note 3 neo 4g n7505', 9.234454919749862), ('samsung galaxy s6', 8.942512420470859), ('htc sensation xe', 8.523130820490994), ('sony xperia xa ultra', 8.336879745662275), ('samsung galaxy a5 2016', 8.187418079285607)] \n",
      "\n",
      "scofield ->  [('samsung c5130', 9.491452657298577), ('samsung sgh e370', 9.467931170569711), ('nokia 1600', 9.340238048498254), ('nokia 3600 slide', 9.255201631767326), ('nokia 5630 xpressmusic', 9.139783900572288)] \n",
      "\n",
      "Florian ->  [('sony ericsson k510i', 10), ('samsung ativ s', 9.052645838698375), ('asus ze550kl', 8.957162546011915), ('blackberry passport', 8.943277214997707), ('nokia lumia 630', 8.499183312512237)] \n",
      "\n",
      "Tiffany ->  [('apple iphone 4', 8.962514377317731), ('samsung intercept', 8.631215409973306), ('samsung galaxy mega 6 3 i9200', 7.991565942854401), ('motorola defy mini', 7.666423186529615), ('samsung galaxy s6', 7.612615456035277)] \n",
      "\n",
      "Dominique ->  [('samsung galaxy s7 789999', 10), ('huawei ascend mate 7', 9.827913224040458), ('apple iphone 4', 9.70216879035361), ('lg g3 d855 657484', 9.158687918978295), ('nokia asha 302', 9.045753814466547)] \n",
      "\n",
      "Miguel Angel ->  [('samsung galaxy s7 edge', 9.361220252044742), ('motorola moto e', 9.190569073370629), ('bq aquaris e5', 9.147272710743799), ('huawei ascend honor 3c', 9.006206564092146), ('motorola moto g', 8.832868695580395)] \n",
      "\n",
      "Ed ->  [('nokia 808', 9.049813536009234), ('samsung galaxy s7 789999', 8.981488131072073), ('samsung galaxy s i9000', 8.876776487618244), ('sony ericsson xperia arc', 8.795398122697298), ('google nexus 6', 8.700357822089842)] \n",
      "\n",
      "Jen ->  [('samsung galaxy note 5 sm n920f', 9.67847056680288), ('samsung galaxy s6', 9.419900301131918), ('htc desire 816', 8.38869327475241), ('apple iphone 5s', 8.072057302737061), ('apple iphone 5s', 8.072057302737061)] \n",
      "\n",
      "Juan Carlos ->  [('elephone p6000 pro', 9.649225267668278), ('meizu m2 note', 9.267511697453006), ('huawei g610', 9.200096373990027), ('apple iphone 6s plus', 9.141290308330905), ('samsung galaxy note', 8.812330576171972)] \n",
      "\n",
      "Nancy ->  [('sony ericsson zylo', 9.286483353414976), ('apple iphone 4s', 8.368532108523999), ('apple iphone 4s', 8.368532108523999), ('blackberry 9310', 7.785335128446487), ('samsung s5230', 7.728571664414108)] \n",
      "\n",
      ". ->  [('samsung wave 723 gt s7230e', 9.519180723596786), ('sony ericsson xperia play', 9.322415202790589), ('samsung gt i8160', 8.890599968509374), ('lg gd510', 8.682866296785985), ('nokia n79', 8.670848187714196)] \n",
      "\n",
      "Hans ->  [('huawei p8', 9.656242714422234), ('sony ericsson aino', 9.572639029813914), ('nokia lumia 520', 9.522779766487924), ('samsung galaxy s7 789999', 9.517089584516157), ('apple iphone se', 9.373220460719377)] \n",
      "\n",
      "barbiella ->  [('lg kp110', 9.502167908143274), ('samsung i450', 9.474836079339982), ('blackberry 8100 269227', 9.462426145653806), ('nokia n81', 9.404768122478417), ('samsung sgh b130', 9.374486112711999)] \n",
      "\n",
      "doomer ->  [('panasonic x60', 9.0), ('motorola v70', 9.0), ('sony ericsson w660i', 8.333333333333334), ('nokia 2310', 8.142700895576136), ('philips savvy db', 7.855004599046743)] \n",
      "\n",
      "Kat ->  [('samsung galaxy note 4', 8.862606028536351), ('nokia lumia 635', 8.772067867007317), ('motorola hint qa30', 8.524475524475523), ('samsung galaxy s4 mini gt i9190 gt i9192 dual sim', 8.195747584026117), ('nokia 105', 8.112456527501275)] \n",
      "\n",
      "Nathan ->  [('zte axon pro', 8.778516399072164), ('samsung galaxy j3 duos', 8.556846961849544), ('samsung galaxy a5 2016', 8.343887060180638), ('samsung galaxy s i9000', 8.226712782739094), ('motorola crush', 8.004829512516455)] \n",
      "\n",
      "matteo ->  [('blackberry q10', 9.767546141279148), ('nokia lumia 925', 9.737177994877195), ('samsung galaxy note 2', 9.488126411541275), ('motorola moto g 753361', 9.245895798223678), ('alcatel onetouch pop 3 5015d', 9.147085323486616)] \n",
      "\n",
      "Alfredo ->  [('huawei ascend g525', 9.3494395331716), ('apple iphone 5', 9.327969123543266), ('samsung galaxy s7 edge', 9.2194725523786), ('samsung galaxy s3 mini', 9.191722619501565), ('samsung galaxy a5 2016', 9.188251378377002)] \n",
      "\n",
      "yusuf60 ->  [('samsung sgh g400', 9.532713439492381), ('samsung galaxy pro b7510', 9.214055114984273), ('nokia c2 01', 9.19548531654612), ('blackberry 9630', 8.891580270510106), ('nokia n8', 8.868941803228347)] \n",
      "\n",
      "enrico ->  [('huawei p9 lite', 9.675894699405017), ('siemens c55', 9.65674119404197), ('blackview bv6000', 9.36782889072727), ('doro phoneeasy 612', 9.132296194170042), ('asus ze550kl', 9.04728593849077)] \n",
      "\n",
      "Jerry ->  [('lg motion 4g ms770', 10), ('apple iphone 6s', 9.234968663522837), ('microsoft lumia 640 dual sim', 9.232607063797952), ('apple iphone 5s', 9.232332716511326), ('sony xperia z5', 8.70410823884767)] \n",
      "\n",
      "Elena ->  [('samsung galaxy a5 2016', 9.118497855928505), ('huawei p8', 9.077412791965992), ('samsung galaxy a3 2016', 8.985113759239455), ('samsung galaxy a5 2017', 8.96205175906116), ('alcatel onetouch 20 04', 8.915465473772151)] \n",
      "\n",
      "Eduardo ->  [('samsung gt i8552', 9.749150305944106), ('samsung galaxy mega 6 3 i9200', 9.326784293356505), ('samsung ativ s', 9.170695143058891), ('microsoft lumia 640 dual sim', 8.766591978818946), ('huawei ascend honor 3c', 8.76604460271709)] \n",
      "\n",
      "Rick ->  [('asus zenfone 3', 9.758238175074691), ('huawei p8', 9.737392047509932), ('nokia lumia 925', 9.698707474343903), ('nokia lumia 925', 9.698707474343903), ('motorola moto x', 9.255170256381021)] \n",
      "\n",
      "Rob ->  [('alcatel onetouch 20 04', 9.16653415490699), ('sony xperia z5', 9.109706111318259), ('huawei p9 797082', 9.036130149240169), ('samsung galaxy s7 789999', 8.76422323999421), ('apple iphone 6s', 8.752852969630249)] \n",
      "\n",
      "Luciano ->  [('sharp gx15 gz100', 10), ('samsung galaxy j5 4g lte 5 2 inches', 8.912247468965182), ('samsung galaxy s6', 8.419848808083703), ('microsoft lumia 640 dual sim', 8.409065016773075), ('asus ze550kl', 8.321945647918087)] \n",
      "\n",
      "Jack ->  [('motorola v620', 9.447493817016452), ('samsung galaxy s4 mini gt i9190 gt i9192 dual sim', 9.210875120259653), ('doro phoneeasy 605', 9.132202141700189), ('samsung galaxy s ii', 8.988658256511249), ('huawei honor 5x', 8.690640115213439)] \n",
      "\n",
      "ivan ->  [('samsung galaxy a5', 9.39297953363829), ('cubot p6', 9.161761608747701), ('lg p710 optimus l7 ii', 9.068794905902488), ('nokia lumia 635', 8.824916445797507), ('huawei honor 6', 8.77624078607284)] \n",
      "\n",
      "Marion ->  [('samsung galaxy s iii', 9.070043420666861), ('lg google nexus 5', 8.48635162229381), ('doro phone easy 615', 8.017375376774648), ('huawei ascend y5 y560', 8.016328386405368), ('cubot note s', 7.984119093081713)] \n",
      "\n",
      "Denis ->  [('sony xperia xz', 9.444119254583349), ('asus zenfone 3', 9.333775262085943), ('nokia lumia 735', 9.165700378718412), ('apple iphone 5s', 9.01061953552378), ('lg google nexus 5', 8.975900843763498)] \n",
      "\n",
      "Eva ->  [('lg viewty smile gt400', 9.944060207914912), ('motorola moto g', 9.04076685843602), ('samsung galaxy s7 789999', 8.75198624171681), ('samsung galaxy j5 4g lte 5 2 inches', 8.62471020879576), ('samsung galaxy note 5 sm n920f', 8.496149133228704)] \n",
      "\n",
      "Alejandro ->  [('lg g2 594708', 9.052054003741445), ('lg g2 594708', 9.052054003741445), ('lg g4', 9.030609337894147), ('huawei honor 6', 9.006444433238595), ('huawei ascend mate 7', 8.964439584633006)] \n",
      "\n",
      "Brad ->  [('motorola moto x', 10), ('apple iphone 6s', 9.998644539880594), ('google nexus 6p', 9.754679929598634), ('google nexus 5x h791', 9.20837543584366), ('nokia e71', 9.062951068679572)] \n",
      "\n",
      "D ->  [('samsung sgh x480', 10), ('samsung galaxy note 4', 8.861367557930366), ('samsung galaxy note 4', 8.861367557930366), ('apple iphone 5s', 8.664397360839361), ('samsung sch u360 gusto', 8.029905990556419)] \n",
      "\n",
      "claudia ->  [('samsung galaxy s6 edge sm g925f', 9.815032573094161), ('samsung galaxy core', 9.572551350713645), ('samsung galaxy s ii', 9.159771494701442), ('lg bl40', 9.0661644656495), ('samsung galaxy s3 mini', 8.83951450546567)] \n",
      "\n",
      "Pete ->  [('apple iphone se', 9.379809117578683), ('nokia 8800', 9.251308678143092), ('samsung galaxy discover', 9.212342740872597), ('motorola moto x play', 9.019231169903208), ('samsung galaxy a3', 8.92350151080904)] \n",
      "\n",
      "carlo ->  [('thl 5000', 9.541816766459755), ('motorola moto g', 9.400513199730522), ('acer liquid e2', 9.337323805046696), ('nokia x1 01', 9.311323160031609), ('doogee x5 max pro', 9.185083268067904)] \n",
      "\n",
      "Carol ->  [('sony xperia m2', 9.211890778272975), ('wiko rainbow', 8.868643222355875), ('samsung e1190', 8.801180775976198), ('nokia lumia 520', 8.44422740595191), ('samsung galaxy a5 2016', 8.417713806945393)] \n",
      "\n",
      "lorenzo ->  [('motorola moto g', 9.841468881638445), ('lg g2 594708', 9.785244224765826), ('microsoft lumia 640 dual sim', 9.772599513723588), ('google nexus 6p', 9.435039427523467), ('samsung galaxy star', 9.361962482688575)] \n",
      "\n",
      "angelo ->  [('doogee x5 max pro', 9.527054558937964), ('huawei honor 7', 8.834686766522141), ('apple iphone 5c', 8.745085595141848), ('wiko fever', 8.594409060464082), ('huawei y635', 8.274353139788415)] \n",
      "\n",
      "Massimo ->  [('asus zenfone 3', 9.507040375592629), ('alcatel onetouch 20 04', 9.433837425453758), ('samsung galaxy note 2', 9.415978670092102), ('lg l90 d410', 9.172657725084356), ('microsoft lumia 640 dual sim', 9.138629526967328)] \n",
      "\n",
      "Paola ->  [('huawei ascend honor 3c', 9.73261549801566), ('huawei shotx', 9.72313741370895), ('asus zenfone 2', 9.546104017101351), ('samsung galaxy s iii', 8.9632950067276), ('motorola moto e', 8.896613886698498)] \n",
      "\n",
      "Alexandre ->  [('asus zenfone 3', 9.340179670813264), ('samsung galaxy s4 mini gt i9190 gt i9192 dual sim', 9.23524239205069), ('samsung galaxy a5 2017', 8.794127529846898), ('sony ericsson xperia arc', 8.784756087726588), ('huawei honor 7', 8.717313724802798)] \n",
      "\n",
      "manositos ->  [('alcatel one touch idol 2 mini', 9.241192975565053), ('samsung galaxy core prime', 8.937110558489431), ('samsung galaxy s iii neo i9300i', 8.924605819214193), ('google nexus 6', 8.882820028926162), ('apple iphone 6s', 8.659961450586316)] \n",
      "\n",
      "??????????? ->  [('htc desire sv', 9.740582758891165), ('htc desire c golf wildfire c', 9.454527772649746), ('lenovo k900', 8.87738341301409), ('apple iphone 4s', 8.620005021843038), ('nokia c2 05', 8.46432930684422)] \n",
      "\n",
      "MarÃ­a ->  [('motorola moto g 753361', 8.838053415734638), ('nokia lumia 925', 8.192825548382924), ('htc desire 310', 7.969836208386198), ('vodafone smart prime 6', 7.915134012344301), ('samsung galaxy s5 mini', 7.617666366383188)] \n",
      "\n",
      "Anonym ->  [('samsung galaxy note 2', 8.82564673316036), ('samsung galaxy s4 zoom', 8.806766072157567), ('sony ericsson k810i', 8.698460365698757), ('lg g5', 8.465371750151617), ('samsung s5301 galaxy pocket plus', 8.339211268797266)] \n",
      "\n",
      "davide ->  [('samsung galaxy j7 2016', 9.559751909502266), ('huawei ascend g620s', 9.281080431775745), ('huawei p9 797082', 9.233681840522827), ('motorola moto g', 9.140549324695261), ('lg g4', 8.88273690147182)] \n",
      "\n",
      "Francesca ->  [('alcatel onetouch 20 04', 9.73645669728334), ('apple iphone 6s', 9.643268239412059), ('lg e450 optimus l5 ii', 9.58958105938504), ('wiko lenny 3', 9.516149256023418), ('samsung galaxy core plus', 9.323621731696324)] \n",
      "\n",
      "sergio ->  [('xiaomi mi 3', 9.363185782126093), ('samsung galaxy s i9000', 9.31787837571031), ('huawei ascend honor 3c', 9.302323577908988), ('nokia 220', 9.109982440117335), ('sony ericsson xperia arc', 9.040582831265661)] \n",
      "\n",
      "fabrizio ->  [('sharp gx30', 10), ('lg leon 4g lte h340n', 9.960476624704818), ('asus zenfone 3 max', 9.829456466235914), ('samsung galaxy k zoom', 9.5439817746187), ('huawei honor 6x', 9.29747877205696)] \n",
      "\n",
      "Marcos ->  [('siemens cf110', 10), ('motorola moto e', 9.766342819634302), ('alcatel one touch pop c5 5036d', 9.570802594566485), ('samsung galaxy s duos s7562', 9.473977037158889), ('lg optimus g', 9.430625113444066)] \n",
      "\n",
      "Franco ->  [('lg optimus f6', 9.52953263645997), ('lg g3 d855 657484', 9.34624988757424), ('nokia lumia 620', 9.258405232524067), ('microsoft lumia 640 dual sim', 9.177790000472148), ('lenovo a806', 9.078171853854275)] \n",
      "\n",
      "Roberta ->  [('samsung galaxy s7 789999', 9.786275541610644), ('nokia 215 dual sim', 9.678990901653627), ('sony xperia z1 compact d5503', 9.614151919946453), ('samsung galaxy s3 mini', 9.562734836508293), ('wiko fever', 9.491720168225456)] \n",
      "\n",
      "Samuel ->  [('motorola moto x 1 moto x1 moto x 2nd gen', 10), ('alcatel onetouch 20 04', 9.617658188290482), ('sony ericsson w810i', 9.10919544087656), ('huawei honor 6', 9.012513137023), ('motorola moto g', 8.965954767184774)] \n",
      "\n",
      "Andres ->  [('lg optimus l9 p760', 9.71337979588549), ('huawei honor 6', 8.993339912971484), ('xiaomi redmi note 2', 8.71654898870221), ('samsung galaxy s5 mini', 8.614307091507467), ('microsoft lumia 640 dual sim', 8.392051023571696)] \n",
      "\n",
      "Enzo ->  [('huawei ascend y550', 10), ('motorola moto g', 8.933739482747875), ('microsoft lumia 640 dual sim', 8.758708358918813), ('lg g3 d855 657484', 8.733833981527878), ('xiaomi redmi 1s', 8.60354608879034)] \n",
      "\n",
      "Jordan ->  [('apple iphone 6s', 8.177365028595732), ('samsung sgh a877', 8.11558417107746), ('motorola moto g', 7.690899919505923), ('asus zenfone 3', 7.577563023012063), ('sony xperia x compact', 7.514852241257247)] \n",
      "\n",
      "ÐÐ°Ð»ÐµÑÐ¸Ð¹ ->  [('nokia 101', 9.641761897595025), ('samsung galaxy s3 mini', 9.569816400531234), ('samsung galaxy a7 2016', 9.352937514270499), ('apple iphone 6s', 9.317078155719134), ('samsung galaxy note 2', 9.19985984654708)] \n",
      "\n",
      "Chiara ->  [('apple iphone se', 9.688739559747823), ('apple iphone 6', 9.07199503902385), ('samsung galaxy grand neo plus gt i9060i', 8.986607170900749), ('lg g2 594708', 8.943355529935513), ('lg k8', 8.75303261790684)] \n",
      "\n",
      "Terry ->  [('nokia e71', 9.181699228393098), ('samsung galaxy 5 i5500', 8.821293777788767), ('ttfone mercury', 8.410619055037762), ('google nexus 5x h791', 8.065730100638909), ('samsung gt b2100', 8.020979125398386)] \n",
      "\n",
      "alessandro ->  [('huawei ascend y550', 9.301616292399041), ('alcatel one touch 997d ot 997d', 9.10539745344122), ('palm treo 680', 9.102264402519202), ('huawei honor 6', 9.044306755340834), ('huawei ascend g615', 8.913580432159986)] \n",
      "\n",
      "ANTONIO ->  [('lg g2 mini', 9.284257418160948), ('apple iphone 5s', 9.153872247530678), ('samsung ativ s', 9.102407073338654), ('samsung galaxy s7 789999', 9.093153434870308), ('alcatel onetouch 20 04', 8.919742489442969)] \n",
      "\n",
      "zercan74 ->  [('lg gd900 232471', 9.767657751594573), ('lg kp110', 9.703202967365103), ('nokia n81', 9.618961457390112), ('samsung s5233', 9.480983117306696), ('nokia n76', 9.447002729060156)] \n",
      "\n",
      "Jacob ->  [('huawei p8', 8.832940321084287), ('sony xperia z5', 8.662501310457905), ('lg volt ls740', 7.841506646668435), ('sony xperia e1', 7.603251216998676), ('apple iphone 5s', 7.216134999262305)] \n",
      "\n",
      "Christopher ->  [('nokia n82', 8.831995352499051), ('pantech hotshot', 8.748895327632722), ('nokia lumia 930', 8.63408222311478), ('nokia lumia 930', 8.63408222311478), ('samsung f400', 8.590709445676922)] \n",
      "\n",
      "Amy ->  [('htc first', 9.838990723901908), ('blu star 4 0', 9.058653581258012), ('htc one m7', 8.436040451398608), ('htc one m7', 8.436040451398608), ('sony ericsson z500', 8.325295687649758)] \n",
      "\n",
      "Walter ->  [('samsung galaxy j5 4g lte 5 2 inches', 9.589316131142164), ('samsung galaxy s ii', 9.000510710155588), ('samsung galaxy a5', 8.751417323602007), ('nokia 6303', 8.674809552733402), ('nokia lumia 820', 8.61229612465282)] \n",
      "\n",
      "Kunde ->  [('lenovo moto g4 plus', 9.26767580262505), ('blackberry z30', 9.125056217673944), ('lg google nexus 5', 9.039345031154044), ('samsung galaxy fame s6810', 8.943781800340448), ('lg gm750', 8.907401289172311)] \n",
      "\n",
      "Heather ->  [('huawei honor 5x', 9.859023442472841), ('apple iphone 6', 9.199903232621466), ('samsung galaxy ace style', 8.988280357853265), ('lg optimus l9 p760', 8.939432385305402), ('htc evo 4g', 8.694750957587745)] \n",
      "\n",
      "eric ->  [('samsung transform', 9.694950137702232), ('samsung galaxy s6', 9.053522510053686), ('doogee valencia 2 y100 pro', 8.720470570494268), ('doogee valencia 2 y100 pro', 8.720470570494268), ('blackberry curve 9370', 8.59593944278951)] \n",
      "\n",
      "Claudio ->  [('motorola moto x 1 moto x1 moto x 2nd gen', 9.986273820441525), ('apple iphone se', 9.767392396572893), ('samsung galaxy s7 edge', 9.587402542949192), ('samsung galaxy s7 edge', 9.587402542949192), ('samsung galaxy s ii plus', 9.578019554679372)] \n",
      "\n",
      "Gabriel ->  [('nokia e71', 8.998228824261512), ('microsoft lumia 535', 8.992553859971816), ('samsung galaxy s6 edgeplus', 8.943813792663072), ('samsung galaxy j7', 8.859734658130986), ('huawei ascend mate', 8.75603973238049)] \n",
      "\n",
      "cikolata ->  [('nokia 6267', 9.260090018277584), ('samsung sph m310 slash virgin', 9.215175895274013), ('samsung i8510 innov8', 9.185109131978011), ('nokia 1600', 9.171973976961256), ('blackberry curve 8300', 9.150326331807179)] \n",
      "\n",
      "pablo ->  [('elephone p8000', 9.668449973225849), ('lg bl20 chocolate', 9.031153508157203), ('huawei ascend p7', 8.530301364082248), ('samsung galaxy grand duos i9080 i9082', 8.206948189453438), ('lg l70', 7.875965936850188)] \n",
      "\n",
      "Emilio ->  [('huawei ascend g525', 9.155654703950852), ('huawei p8 lite', 8.929531664656317), ('huawei p8 lite', 8.929531664656317), ('wiko rainbow', 8.875956661445072), ('huawei p8', 8.684035571066227)] \n",
      "\n",
      "Jessica ->  [('huawei ascend p7', 9.587829908842092), ('elephone p8000', 9.561859238654028), ('asus zenfone 2 ze551ml', 9.185096056314915), ('blu vivo air', 9.132668154068217), ('nokia lumia 520', 8.965620934822265)] \n",
      "\n",
      "???????????? ?????????? ->  [('sony xperia s', 9.401649808261853), ('nokia 113', 9.080573986631798), ('samsung gt i8160', 9.028913330160956), ('samsung galaxy star', 8.544114624442376), ('lg p880 optimus 4x hd', 8.311057169622597)] \n",
      "\n",
      "Domenico ->  [('alcatel idol mini 6012', 10), ('huawei shotx', 9.90784293474402), ('nokia 206', 9.829760083340565), ('lg l90 d410', 9.719268372105361), ('cubot s222', 9.615180824668482)] \n",
      "\n",
      "Charlie ->  [('huawei honor 4x', 9.40306149216877), ('microsoft lumia 435', 9.12438266218978), ('motorola v710', 9.10727424288941), ('samsung galaxy s7 789999', 8.684652250518305), ('apple iphone 4s', 8.587752401549785)] \n",
      "\n",
      "Manfred ->  [('sony xperia s', 8.642022496353775), ('htc hd mini', 8.440274979076971), ('nokia e6', 8.386735172421577), ('lg g3 d855 657484', 8.346997465575768), ('nokia x3', 8.12324749347887)] \n",
      "\n",
      "Giulia ->  [('siemens cx75', 10), ('huawei ascend y550', 9.85397628658019), ('motorola moto e', 9.455080430203466), ('asus zenfone 3', 9.378911518735372), ('nokia lumia 625', 9.122882334164563)] \n",
      "\n",
      "mario ->  [('motorola moto g', 9.2025589261841), ('samsung galaxy s4 mini gt i9190 gt i9192 dual sim', 8.945908837587924), ('huawei p9 lite', 8.932688889029208), ('huawei y6', 8.47964063631917), ('motorola moto g4', 8.400369784783617)] \n",
      "\n",
      "Annie ->  [('microsoft lumia 540', 9.878876555725533), ('samsung galaxy j3 duos', 9.798031726919346), ('apple iphone 5c', 9.652290548979181), ('samsung e2550', 9.438042384313789), ('motorola moto x play', 9.395714790887096)] \n",
      "\n",
      "Rebecca ->  [('motorola moto g', 9.337667330342537), ('sharp gx25 gz200', 9.30034395446462), ('huawei p8 lite 2017', 9.253638460128018), ('vodafone smart mini', 9.0), ('nokia lumia 635', 8.850871245291039)] \n",
      "\n",
      "Luke ->  [('huawei honor 8', 8.715133223842129), ('apple iphone 6 plus', 8.214245384499467), ('motorola moto e', 8.214241926385064), ('microsoft lumia 950 xl', 8.100846136160383), ('htc one m9', 8.01294824506546)] \n",
      "\n",
      "Veronica ->  [('apple iphone 5c', 9.015484000857986), ('nokia 6085', 8.882184899252257), ('samsung galaxy a3', 8.268263425382077), ('nokia 6303', 7.8220317065463485), ('lg g5', 7.813098580696935)] \n",
      "\n",
      "ÐÐ°ÑÐ¸Ð»Ð¸Ð¹ ->  [('samsung galaxy j5 4g lte 5 2 inches', 8.961710402778534), ('samsung galaxy note 2', 8.947087081007188), ('huawei p8 lite', 8.827047992498901), ('samsung galaxy s7 edge', 8.725234772024145), ('asus zenfone 3 max', 8.330660610820708)] \n",
      "\n",
      "JesÃºs ->  [('huawei p8', 9.624605494161983), ('samsung galaxy y s5360', 9.490354489774603), ('samsung galaxy j5 4g lte 5 2 inches', 9.43553504068375), ('sony xperia sp', 9.269773373417657), ('lenovo moto g4 play', 9.226417392136819)] \n",
      "\n",
      "thomas ->  [('samsung galaxy s7 789999', 9.621141239536522), ('lg bl40', 9.3009973840422), ('samsung galaxy s ii', 9.285992987915813), ('motorola razr v3i', 8.8051455103102), ('nokia lumia 630', 8.775991635739086)] \n",
      "\n",
      "G ->  [('huawei p9 plus', 8.185227425613732), ('sony xperia z5', 8.152148574579646), ('nokia 130', 8.138525818212088), ('apple iphone 6', 8.134316249346229), ('samsung galaxy a3 819970', 7.836579895443048)] \n",
      "\n",
      "vijay ->  [('apple iphone 5s', 9.580000387654922), ('lg google nexus 5', 9.538867902602538), ('asus zenfone selfie zd551kl', 9.045326390047602), ('lg g3 d855 657484', 8.688154155507725), ('lenovo vibe k5', 8.314496260001345)] \n",
      "\n",
      "MS ->  [('nokia lumia 630', 8.625534046313328), ('doro phoneeasy 622', 8.497469797093993), ('huawei ascend g7', 8.373138983297117), ('samsung galaxy j3 duos', 8.306859516375665), ('htc hd2', 8.270247800512383)] \n",
      "\n",
      "jay ->  [('asus zenfone 3', 8.382652855177238), ('sony xperia z5', 7.223862159802308), ('samsung galaxy j7', 7.200677010757772), ('sony ericson w580i', 6.902514923523906), ('lg p880 optimus 4x hd', 6.444644757529702)] \n",
      "\n",
      "javier ->  [('nokia lumia 930', 9.228929593263722), ('samsung galaxy j7 2016', 8.616650235066722), ('samsung i9500 galaxy s iv', 8.597596337145383), ('samsung c3520', 8.55754176678483), ('sony xperia m', 8.376538380231782)] \n",
      "\n",
      "JR ->  [('htc incredible s', 9.542066487217053), ('apple iphone 5s', 9.177195724040995), ('sony ericsson w890i', 8.92784475826781), ('samsung galaxy s duos s7562', 8.750889193050265), ('blackberry q10', 8.366898383665353)] \n",
      "\n",
      "Danielle ->  [('apple iphone 4', 9.68312394699705), ('samsung f400', 9.291731553656922), ('apple iphone se', 8.691857578833423), ('samsung galaxy s6', 8.522634931386623), ('htc hd2', 8.187882834472195)] \n",
      "\n",
      "Vincenzo ->  [('huawei ascend mate', 9.6930574451628), ('apple iphone 6s', 9.611689303003182), ('asus zenfone 3', 9.369485251442205), ('asus ze550kl', 9.259588707734196), ('huawei ascend g620s', 9.256495840866522)] \n",
      "\n",
      "ÐÐ»Ð°Ð´Ð¸ÑÐ»Ð°Ð² ->  [('sony ericsson k850i', 9.796621784821111), ('nokia lumia 930', 9.786923819927665), ('samsung galaxy s7 789999', 9.769316292086627), ('lg kp500', 9.568056872042183), ('lg g2 594708', 9.48768718834933)] \n",
      "\n",
      "Marcelo ->  [('lg l90 d410', 9.79285531720604), ('nokia lumia 630', 9.667211275824343), ('samsung galaxy fame s6810', 9.49946078225465), ('google nexus 6', 9.179932007784785), ('samsung galaxy s3 mini', 9.143238104545135)] \n",
      "\n",
      "ÐÐ¸ÑÐ¸Ð»Ð» ->  [('huawei ascend g600', 10), ('lg l90 d410', 9.97471477054188), ('huawei ascend mate', 9.963566379849357), ('nokia n82', 9.721007526081417), ('nokia 6303', 9.700122968635585)] \n",
      "\n",
      "monica ->  [('huawei p8 lite', 9.252966460227894), ('apple iphone 6s', 9.189520763973059), ('huawei nova plus', 9.18302692214121), ('huawei ascend honor 3c', 8.879401674608568), ('microsoft lumia 640 xl', 8.794041876861943)] \n",
      "\n",
      "Monica ->  [('apple iphone 6s plus', 9.293274141237474), ('apple iphone 6 plus', 9.125191370560472), ('huawei nova plus', 8.931802184982418), ('asus zenfone 3', 8.858860729451562), ('samsung ativ s', 8.63983185021026)] \n",
      "\n",
      "Harry ->  [('nokia e66', 10), ('samsung galaxy j5', 9.594465798974984), ('lg dare vx9700', 9.37575701968223), ('lg lg420g', 8.65679743108961), ('huawei p9 lite', 8.50639203875703)] \n",
      "\n",
      "Roland ->  [('lg l90 d410', 10), ('apple iphone 3gs', 9.48909703745524), ('huawei p9 797082', 9.463341097240347), ('asus zenfone 2 ze551ml', 9.278812632755914), ('huawei ascend g7', 9.156849767209884)] \n",
      "\n",
      "Ð¡Ð°ÑÐ° ->  [('sony xperia tx', 9.695947496072046), ('apple iphone 6s', 8.701063667129883), ('samsung galaxy note iii', 8.679244578451582), ('lg k7', 8.530859758971548), ('samsung galaxy s ii', 8.443813841664515)] \n",
      "\n",
      "Paulo ->  [('thl w200s', 10), ('samsung galaxy note 2', 9.536631089321768), ('samsung galaxy note 5 sm n920f', 9.06668753276919), ('sony xperia s', 8.898201072775464), ('samsung galaxy a7', 8.791533930530667)] \n",
      "\n",
      "Rohit ->  [('karbonn titanium x', 10), ('huawei mate 9', 8.709525195607368), ('huawei honor 6x', 7.7892283481140705), ('lg magna y90', 7.685630175675637), ('lenovo vibe x3', 7.662658066680354)] \n",
      "\n",
      "Puneet Sharma ->  [('sony xperia z1', 9.740377287409467), ('sony xperia u st25i', 9.679558216109019), ('nokia lumia 620', 9.647817598834152), ('sony xperia zr', 9.596757488121526), ('htc desire 816', 9.243626841283062)] \n",
      "\n",
      "andy ->  [('samsung galaxy j5', 9.38102781542698), ('samsung g355 galaxy core ii', 8.75073558988515), ('huawei ascend y330', 8.714087508316945), ('samsung galaxy pocket', 8.56623004716786), ('nokia 2220 slide', 8.215624700443188)] \n",
      "\n",
      "Nadine ->  [('lg gt350', 8.249231720856057), ('nokia 7230', 8.19246181835783), ('samsung b3310', 7.906410568127374), ('huawei ascend y300', 7.636039709150268), ('vodafone smart prime 6', 7.5935030102655805)] \n",
      "\n",
      "daniel ->  [('huawei ascend honor 3c', 9.4839883625246), ('lg l90 d410', 9.134325538502585), ('lg l90 d410', 9.134325538502585), ('motorola moto x 2', 9.096066685122643), ('samsung i9500 galaxy s iv', 9.090238091345643)] \n",
      "\n",
      "diego ->  [('huawei ascend p6', 9.796636136925338), ('motorola moto g', 9.74653086847364), ('wiko fever', 9.726814804287127), ('motorola moto e', 9.324481142401869), ('nokia 7230', 9.221676019946775)] \n",
      "\n",
      "gumusoje ->  [('acer betouch e130', 10), ('sony ericsson hazel', 9.978257994662613), ('siemens s75', 9.655392209658157), ('sony ericsson k810i', 9.50887247113598), ('black berry 8700g', 9.495208070552623)] \n",
      "\n",
      "murat ->  [('nokia 8910', 10), ('alcatel ot 995', 10), ('vodafone 555 blue', 10), ('vodafone 945', 10), ('htc desire 500', 9.910764496150263)] \n",
      "\n",
      "mauro ->  [('acer liquid e2', 9.219111110285775), ('cubot s550', 9.037229349097387), ('nokia lumia 820', 9.022159354333276), ('huawei ascend p7', 8.686491726831047), ('sony xperia z 504642', 8.681220791080428)] \n",
      "\n",
      "Kris ->  [('samsung galaxy s4 zoom', 10), ('nokia 1100', 9.236842193899811), ('sony ericsson w380i', 9.187649787153184), ('huawei w1', 8.964908099540517), ('lg g flex d958', 8.867397461743899)] \n",
      "\n",
      "serrayurdakul ->  [('blackberry curve 8300', 10), ('samsung u800 soul', 10), ('htc desire z', 10), ('samsung corbypro b5310', 9.470328419874177), ('samsung omniapro b7320', 8.988211671987857)] \n",
      "\n",
      "michele ->  [('alcatel idol mini 6012', 9.90898516826626), ('nokia lumia 720', 9.138654545457813), ('lenovo k6 dual', 8.969221426088708), ('huawei p9 797082', 8.774623186998145), ('lenovo moto g4 play', 8.618594227399486)] \n",
      "\n",
      "Foxylove ->  [('samsung sgh x480', 10), ('nokia 3100', 9.717097493641687), ('nokia 2626', 9.0), ('samsung s5230', 8.438409269966538), ('lg c1100', 8.25)] \n",
      "\n",
      "rahul ->  [('lenovo vibe s1', 9.518151704018038), ('nokia 5230', 7.379233549287373), ('nokia 108', 7.3385537501392095), ('samsung galaxy grand duos i9080 i9082', 7.208208414538184), ('lenovo vibe k5', 6.929765618569982)] \n",
      "\n",
      "Joshua ->  [('apple iphone 5', 9.706935037774588), ('google nexus 6p', 9.500941003044105), ('sony xperia x f5121', 9.112792062996169), ('sony xperia z5 compact', 9.019152396890798), ('wiko fever', 8.898659608963456)] \n",
      "\n",
      "Jimmy ->  [('zte axon 7', 9.259631562482783), ('apple iphone 6 plus', 8.970639934336639), ('alcatel idol mini 6012', 8.856240918510114), ('motorola moto e', 8.653615994646627), ('apple iphone', 8.604193343131435)] \n",
      "\n",
      "mrgreg ->  [('nokia 5320 xpressmusic', 8.5), ('nokia asha 300', 8.082687593331313), ('lg a290', 7.837676863663671), ('motorola gleam', 7.800000000000001), ('nokia 3410', 7.357184227149073)] \n",
      "\n",
      "cristina ->  [('huawei p8 lite', 9.4735324240049), ('huawei p8 lite', 9.4735324240049), ('samsung galaxy j5 4g lte 5 2 inches', 9.01365302574963), ('samsung galaxy y s5360', 8.377517552594894), ('apple iphone 5s', 7.9291571414680995)] \n",
      "\n",
      "Leo ->  [('sony ericsson c510', 9.684958333266813), ('benq siemens ef81 292632', 9.356642400114268), ('apple iphone 6s plus', 9.154605428989417), ('nokia lumia 520', 8.820772917427306), ('sony xperia z 504642', 8.673898638243822)] \n",
      "\n",
      "samir1917 ->  [('vodafone 945', 10), ('huawei u8150', 9.36081214107966), ('huawei ascend g510', 9.343195017285655), ('siemens a50', 9.28350922582126), ('samsung e1190', 8.830741672316968)] \n",
      "\n",
      "marie ->  [('nokia 800', 9.085095533214574), ('samsung galaxy j3 duos', 8.76434978272059), ('nokia lumia 635', 8.37735394979164), ('sony ericsson xperia ray', 8.204849761011433), ('wiko getaway', 7.797617377634392)] \n",
      "\n",
      "Enrique ->  [('nokia lumia 929', 9.39322611788906), ('asus zenfone 2 ze551ml', 9.338416028500033), ('bq aquaris e4 5', 9.30834729369824), ('huawei ascend honor 3c', 9.055667690287951), ('microsoft lumia 640 dual sim', 9.041214258582597)] \n",
      "\n",
      "Expert Review ->  [('samsung galaxy note 3 neo 4g n7505', 8.928902829625171), ('samsung galaxy note 3 neo 4g n7505', 8.928902829625171), ('lenovo s850', 8.918272833497477), ('samsung galaxy j5', 8.496268252648457), ('nokia lumia 925', 8.48642676004331)] \n",
      "\n",
      "sadik ->  [('nokia e90', 9.187609108736849), ('nokia 1112', 9.115350676543503), ('nokia n900', 9.052626206296482), ('nokia 2700 classic', 8.953991766333775), ('sony ericsson w910i', 8.86898651112568)] \n",
      "\n",
      "Boltun ->  [('samsung galaxy sl i9003', 10), ('nokia 5233', 9.309790598897616), ('htc 7 mozart', 9.060551754661844), ('nokia c7 277394', 8.720481890249687), ('nokia n95', 8.524029507583224)] \n",
      "\n",
      "A ->  [('nokia e63', 9.00260883096346), ('samsung galaxy j7 2016', 8.92044317629114), ('samsung galaxy note 2', 8.787611518509987), ('samsung galaxy j5 4g lte 5 2 inches', 8.662422037052858), ('sony xperia z1', 8.380196648763846)] \n",
      "\n",
      "Elizabeth ->  [('samsung galaxy s duos s7562', 8.655930491383009), ('lg g3 d855 657484', 8.562036396310715), ('zte blade v7 lite', 8.417374327150895), ('samsung transform ultra', 8.135553581381632), ('nokia lumia 635', 7.958439621795992)] \n",
      "\n",
      "Aaron ->  [('apple iphone 7', 8.642611562573007), ('samsung galaxy s6 edge sm g925f', 8.594188393409596), ('apple iphone 5', 8.188322511178868), ('lg g4', 8.115888128632236), ('lg g4', 8.115888128632236)] \n",
      "\n",
      "michael ->  [('samsung galaxy s4 zoom', 9.29338211698524), ('samsung galaxy note 4', 9.239302221319095), ('samsung galaxy s5', 8.680010650897989), ('zte zmax', 8.60967092236909), ('huawei p8 lite', 8.564262940594851)] \n",
      "\n",
      "Dominik ->  [('motorola w220', 10), ('huawei p8 lite', 9.1834804690615), ('microsoft lumia 640 dual sim', 8.76191513525522), ('samsung galaxy a5 2016', 8.7019414287815), ('sony xperia p', 8.520134671314432)] \n",
      "\n",
      "Raul ->  [('lg google nexus 5', 9.257897090816053), ('lg google nexus 5', 9.257897090816053), ('samsung galaxy a5 2016', 8.679298326487995), ('bq aquaris e4 5', 8.67125922399985), ('nokia 6303', 8.445613198231147)] \n",
      "\n",
      "Manuela ->  [('huawei p8', 9.99994236344144), ('huawei p8', 9.99994236344144), ('wiko lenny 3', 9.87904885808449), ('wiko fever', 9.558243885295468), ('nokia lumia 635', 9.00553863710359)] \n",
      "\n",
      "Luigi ->  [('thl w200s', 9.845793538000693), ('acer liquid e2', 9.78882800812973), ('google nexus 6p', 9.678277934095686), ('wiko fever', 9.535286534018248), ('samsung galaxy mini 2 s6500', 9.35065055297534)] \n",
      "\n",
      "mehmet ->  [('vodafone 945', 10), ('samsung gt i8552', 9.93407406194361), ('huawei ascend g7', 9.892244676274961), ('nokia c5 06', 9.676541658019847), ('vodafone 858', 9.565437455097621)] \n",
      "\n",
      "gulayy ->  [('samsung e1081', 10), ('samsung sgh g400', 9.580994898046757), ('samsung sgh b300', 9.517633578106091), ('samsung c6112', 9.44968122488607), ('nokia e50', 9.405847607258355)] \n",
      "\n",
      "Raquel ->  [('bq aquaris e5', 9.759205917402094), ('lg g2 594708', 9.174191684915357), ('xiaomi redmi note', 9.072756352904678), ('samsung galaxy s6', 9.051199669133688), ('lg optimus l5 e610', 8.95711696287319)] \n",
      "\n",
      "Piero ->  [('nokia 1600', 9.233813807249831), ('lg k10', 9.148599924984481), ('xiaomi redmi note 2', 8.944668723342872), ('microsoft lumia 640 dual sim', 8.85373697556597), ('motorola moto x', 8.694023931583226)] \n",
      "\n",
      "Anand ->  [('samsung galaxy k zoom', 8.665542424424546), ('microsoft lumia 640 dual sim', 7.824540124323681), ('samsung galaxy a7', 7.715967600286303), ('lenovo vibe x3', 7.691912683072724), ('asus zenfone max zc550kl', 7.348415092534803)] \n",
      "\n",
      "User ->  [('apple iphone 6s', 8.246496172631225), ('lg nexus 4', 7.5642926503262995), ('nokia 1616', 7.438722643716423), ('sony ericsson xperia pro', 7.173834803032765), ('lg g2 594708', 7.133782454676912)] \n",
      "\n",
      "Tobias ->  [('nokia n97 mini', 7.986169961527051), ('samsung galaxy s iii neo i9300i', 7.6645830815988845), ('huawei p8', 7.593824627316722), ('nokia 515', 7.536831399956069), ('nokia 6500 classic', 7.349864877913442)] \n",
      "\n",
      "ÐÐ¸Ð¼Ð° ->  [('oppo find 5', 10), ('nokia asha 300', 9.919466394774592), ('lenovo ideaphone s820', 9.819771076466704), ('nokia 5230', 9.71466238494004), ('samsung galaxy 3 i5800', 9.299427133211536)] \n",
      "\n",
      "iceblu_78 ->  [('samsung galaxy y pro b5510', 9.061630081669179), ('acer liquid e2', 8.986671350693776), ('htc one max', 8.92067809280126), ('sony ericsson xperia play', 8.913885686026168), ('sony xperia z 504642', 8.841436937817093)] \n",
      "\n",
      "Michel ->  [('samsung gt i8160', 9.32098299460997), ('nokia lumia 635', 8.552963506602195), ('huawei p9 lite', 8.413719889058779), ('sony xperia sp', 8.357833622204177), ('samsung galaxy s plus', 8.278829730119371)] \n",
      "\n",
      "Mattia ->  [('huawei shotx', 9.677415053985989), ('nokia 800', 9.358385806402408), ('nokia lumia 630', 9.189361298467052), ('samsung galaxy a5 2017', 9.06537751814182), ('asus zenfone 3', 9.061925499085387)] \n",
      "\n",
      "Caroline ->  [('motorola w375', 9.349884916005804), ('samsung galaxy s ii plus', 9.072934302130376), ('lg l90 d410', 8.860711908706188), ('apple iphone 6s', 8.74851441929134), ('samsung gravity 3 sgh t479', 8.726306416626665)] \n",
      "\n",
      "JB ->  [('pantech hotshot', 10), ('apple iphone se', 9.427210760331608), ('samsung galaxy note 4', 9.304626930997934), ('google nexus 6p', 9.256960719886246), ('alcatel onetouch 20 04', 9.216751236247786)] \n",
      "\n",
      "Dee ->  [('samsung sgh t401g', 9.964423246538264), ('samsung galaxy s7 789999', 9.739648487690582), ('samsung galaxy s6', 8.697911913613666), ('samsung galaxy mini 2 s6500', 8.568118266174599), ('motorola moto e', 8.162500115623399)] \n",
      "\n",
      "Ignacio ->  [('motorola moto x', 9.490056380036194), ('nokia lumia 630', 9.203099577699923), ('htc 10', 9.167179305211647), ('nokia lumia 920', 7.702752127373422), ('lg k10', 7.619260694885343)] \n",
      "\n",
      "???????????? ?????????????? ->  [('nokia lumia 820', 8.940645015987739), ('nokia n9', 8.252811049743368), ('samsung galaxy s advance gt i9070', 8.241953246552209), ('samsung galaxy s iii', 8.207985759718415), ('nokia asha 302', 7.925208011282141)] \n",
      "\n",
      "Marina ->  [('nokia asha 200', 9.596927605613633), ('nokia lumia 925', 9.300045408515116), ('apple iphone 6 plus', 8.67625296688924), ('nokia lumia 620', 8.49494244671541), ('apple iphone 7', 8.345249238162339)] \n",
      "\n",
      "missing ->  [('samsung p520', 9.40469953985161), ('nokia 7390', 9.222020546074628), ('nokia e50', 9.141556876804746), ('lg kg290', 8.960449261180596), ('sony ericsson z320i', 8.745111670585786)] \n",
      "\n",
      "ahmet ->  [('huawei u8850 vision', 10), ('alcatel ot 995', 10), ('vodafone 945', 10), ('sony xperia l', 9.327536905499736), ('samsung wave m', 9.18388408350217)] \n",
      "\n",
      "daniele ->  [('lg g5', 9.821502363871861), ('alcatel one touch pop c5 5036d', 9.766866711380683), ('cubot x9', 9.673225956574152), ('sony xperia sp', 9.64790765235378), ('sony xperia p', 9.479034025508104)] \n",
      "\n",
      "Alexandra ->  [('sony ericsson w950i', 10), ('samsung galaxy a5 2016', 9.470749494596374), ('samsung galaxy j5', 9.165365141585704), ('alcatel idol mini 6012', 9.138573944439877), ('sony xperia z1 compact d5503', 9.05893318709983)] \n",
      "\n",
      "manuel ->  [('samsung galaxy sl i9003', 9.213495530348085), ('lg g2 594708', 9.15679525173896), ('huawei ascend p7', 8.774890973519353), ('lg optimus l5 e610', 8.582941402197012), ('acer liquid e2', 8.296378557740566)] \n",
      "\n",
      "Pierre ->  [('samsung wave s8500', 9.452841956880645), ('samsung galaxy s4 mini gt i9190 gt i9192 dual sim', 9.39073592804328), ('huawei honor 8', 9.158113848200623), ('zte axon 7', 9.125357137969289), ('htc one m8s', 9.025461915690013)] \n",
      "\n",
      "Rafa ->  [('huawei honor holly', 9.599331809964037), ('samsung galaxy s7 edge', 9.557688730690595), ('nokia n95', 9.483187667347922), ('motorola moto g', 9.46879377574648), ('motorola moto g4', 8.621064638493163)] \n",
      "\n",
      "Benjamin ->  [('archos 50 helium', 9.575369401289237), ('lg voyager', 9.560268825636319), ('alcatel ot 282', 9.1287149241157), ('samsung galaxy s7 edge', 8.846907332819665), ('htc 8x', 8.839872016904074)] \n",
      "\n",
      "xawi ->  [('samsung g810', 9.547178584651602), ('nokia n81', 9.52917891471835), ('nokia e51', 9.425117334485021), ('nokia n76', 9.328944877739406), ('samsung i780', 9.316091890688226)] \n",
      "\n",
      "Ronald ->  [('samsung galaxy note 2', 10), ('sony xperia z5', 9.346432684035513), ('samsung galaxy note iii', 8.820328775435925), ('lg e450 optimus l5 ii', 8.786041834121697), ('huawei p8', 8.718411853766375)] \n",
      "\n",
      "Robin ->  [('xiaomi mi 5', 10), ('t mobile comet', 9.786293958785047), ('apple iphone se', 9.653262154162906), ('lg l40g', 9.323281388671738), ('motorola qa30', 9.191002566454674)] \n",
      "\n",
      "Sunil ->  [('apple iphone 6s plus', 10), ('samsung galaxy j7', 10), ('asus zenfone max zc550kl', 9.612507446046237), ('lenovo a536', 9.530999072199924), ('nokia c3', 9.05422387163005)] \n",
      "\n",
      "Praveen ->  [('motorola moto x 2', 9.44624573289215), ('meizu m1 note', 9.18687591256607), ('nokia lumia 640 lte', 8.316811277979504), ('huawei honor 5x', 8.313923520330507), ('oneplus x', 7.679721653163131)] \n",
      "\n",
      "Danilo ->  [('elephone p8000', 9.439611915632135), ('microsoft lumia 640 dual sim', 9.422056529611137), ('samsung galaxy a5 2016', 9.124172258964961), ('blackberry z10', 8.931183581111679), ('sony ericsson xperia play', 8.90129855459007)] \n",
      "\n",
      "Jose Antonio ->  [('samsung galaxy s5', 9.228144884931192), ('samsung e1050', 9.146653579314517), ('samsung c3590', 9.131008505385836), ('nokia lumia 925', 9.02312869678044), ('samsung galaxy young', 8.691947141430935)] \n",
      "\n",
      "steve ->  [('nokia 808', 8.77530816098464), ('lg vx 8300', 8.677193162040682), ('apple iphone se', 8.544789620650466), ('samsung gt b2100', 7.913745644731489), ('samsung galaxy note iii', 7.900161707818978)] \n",
      "\n",
      "domenico ->  [('alcatel onetouch pop 3 5015d', 9.780263951590221), ('cubot p7', 9.33449432749507), ('asus zenfone 3 max', 9.32064908745027), ('nokia c2 01', 8.746033831032664), ('cubot x12', 8.472004996679479)] \n",
      "\n",
      "Naveen ->  [('lava iris x1', 9.794691593229206), ('oneplus 3', 9.76720866642395), ('samsung galaxy j7 2016', 9.530916744674467), ('oneplus one 64gb', 8.826663006955824), ('asus zenfone 2', 7.924289905844669)] \n",
      "\n",
      "mark ->  [('vodafone smart ultra 6', 10), ('cubot p6', 10), ('motorola moto x', 9.693206314796557), ('lg e450 optimus l5 ii', 9.612934560861369), ('huawei ascend mate 7', 9.411953697196598)] \n",
      "\n",
      "Helen ->  [('apple iphone 4s', 9.435682548464078), ('apple iphone 6s plus', 8.987135655111084), ('samsung galaxy a3 819970', 8.860212720712541), ('nokia 7230', 8.693287164916676), ('htc 8x', 8.66723167950619)] \n",
      "\n",
      "Alain ->  [('samsung galaxy j5', 8.708776158555885), ('doogee voyager2 dg310', 8.571034764291143), ('meizu m3s', 8.474922493186984), ('sony ericsson xperia active', 8.440681191002223), ('thl 5000', 8.243077731483552)] \n",
      "\n",
      "JM ->  [('nokia 6230i', 8.894263850624103), ('sony xperia xz', 7.472555417176133), ('samsung galaxy core plus', 7.43705258635664), ('blu vivo xl', 7.377638214497606), ('htc wildfire s', 7.087676418745176)] \n",
      "\n",
      "robert ->  [('apple iphone 6s', 9.190047315854702), ('samsung galaxy s6', 8.903992773397954), ('huawei p9 lite', 8.520424563882496), ('apple iphone 7', 8.260502332609445), ('apple iphone 4s', 8.088571214712234)] \n",
      "\n",
      "ÐÐ°ÐºÑ ->  [('nokia 8910', 10), ('samsung galaxy note 2', 9.927675129101331), ('samsung galaxy s7 edge', 9.75778646760595), ('sony xperia z 504642', 9.742623040953884), ('samsung galaxy s3 mini', 9.72088264752154)] \n",
      "\n",
      "Yvonne ->  [('samsung galaxy note 2', 9.551148911150182), ('apple iphone 7 plus', 9.448313167662434), ('samsung galaxy s6', 9.350238399279402), ('huawei ascend g7', 9.053981671433544), ('sony ericsson t700', 8.626447110914032)] \n",
      "\n",
      "Mo ->  [('samsung galaxy s3 mini', 9.37787495370862), ('samsung galaxy j5 4g lte 5 2 inches', 9.280581991580956), ('samsung galaxy y pro b5510', 8.883707444109858), ('lg k8', 8.78509616999594), ('cubot s308', 8.50523269349995)] \n",
      "\n",
      "vishal ->  [('sony ericsson t700', 8.768672102069235), ('samsung galaxy j7 prime', 8.322527155835026), ('oneplus 3t', 8.115811572248518), ('samsung gt e1200', 8.062317204491036), ('sony ericsson xperia arc s', 7.797842006559147)] \n",
      "\n",
      "Antoine ->  [('archos 50 helium', 9.804759260246378), ('samsung galaxy s6', 9.386190755774221), ('samsung s5230', 9.271702727146682), ('sony xperia e5', 9.118174311762534), ('samsung galaxy note iii', 9.031462382539)] \n",
      "\n",
      "ÐÐ½Ð°ÑÑÐ°ÑÐ¸Ñ ->  [('sony xperia tx', 10), ('nokia x3', 9.402733274460104), ('samsung galaxy note 2', 9.340475164173066), ('sony xperia z 504642', 9.307718399211417), ('nokia lumia 720', 9.025247794288699)] \n",
      "\n",
      "Fabian ->  [('samsung sgh z400', 9.337748167643102), ('nokia 2323', 8.88959867085406), ('samsung galaxy note 2', 8.697667490344717), ('mysaga c1', 8.691701129592444), ('lg g2 mini', 8.094401400917459)] \n",
      "\n",
      "Toni ->  [('samsung b7350', 10), ('lg h410', 8.94779606767931), ('samsung ativ s', 8.928774860216611), ('samsung galaxy j7 2016', 8.864826326800026), ('google nexus 6p', 8.863670657012573)] \n",
      "\n",
      "Rajesh ->  [('samsung galaxy j5 4g lte 5 2 inches', 8.630361120947724), ('microsoft lumia 640 xl', 8.53598393060984), ('sony xperia xa ultra', 8.365840262148057), ('lg p715 optimus l7 ii', 8.317890767519494), ('motorola moto g3', 7.898795766116268)] \n",
      "\n",
      "Ralf ->  [('samsung sgh s500', 10), ('samsung gt i8160', 7.914713787504105), ('samsung gt i8160', 7.914713787504105), ('apple iphone se', 7.86117114776107), ('huawei ascend g700', 7.8258772937649335)] \n",
      "\n",
      "# ->  [('samsung galaxy sl i9003', 10), ('samsung galaxy z r gt i9103', 10), ('sony ericsson w200i', 9.837338844194171), ('nokia 6120 classic', 9.701162484778077), ('nokia n95', 9.411052356365504)] \n",
      "\n",
      "ÐÐ°ÑÑÑ ->  [('zte blade v7 lite', 9.536580971228295), ('samsung galaxy a5', 9.432870452584071), ('sony xperia z1', 9.395838605508105), ('apple iphone 5s', 9.374691817334424), ('lg x power', 9.240199019250934)] \n",
      "\n",
      "Alessio ->  [('motorola moto x 1 moto x1 moto x 2nd gen', 10), ('sony xperia t', 9.714223773263466), ('blackberry z30', 9.684554681278598), ('lg g4', 9.078086127216975), ('motorola moto x play', 9.064587741689401)] \n",
      "\n",
      "frank ->  [('huawei ascend p1', 8.430548452545631), ('nokia n900', 8.270515898212656), ('microsoft lumia 640 dual sim', 8.270243513848275), ('lg g2 594708', 8.179232120408308), ('htc windows phone 8', 7.994187248535147)] \n",
      "\n",
      "Tommy ->  [('vodafone 785 smart 4 mini', 9.948961442237497), ('huawei honor 8', 9.40198894247142), ('wiko getaway', 9.16530250136024), ('apple iphone 4', 9.083288056973522), ('nokia lumia 830', 8.997249271232462)] \n",
      "\n",
      "Sonia ->  [('lg gw620', 10), ('apple iphone 7', 9.625508473615763), ('huawei p8 lite', 8.974633191983138), ('microsoft lumia 640 xl', 8.967723851816036), ('samsung s7580 galaxy trend plus', 8.793945329732415)] \n",
      "\n",
      "Pasquale ->  [('samsung gt b2100', 9.529334002922038), ('motorola moto g3', 9.326423751939199), ('elephone p8000', 9.16554248796474), ('asus ze550kl', 9.06159934479115), ('nokia 206', 9.048138650925242)] \n",
      "\n",
      "Gustavo ->  [('samsung i9500 galaxy s iv', 9.248741607888963), ('google nexus 5x h791', 9.195276278455394), ('htc one m7', 9.129261421693789), ('samsung s3850', 9.08242300426946), ('huawei honor 7', 8.942559055844495)] \n",
      "\n",
      "JÃ¼rgen ->  [('sony ericsson xperia x10 mini pro', 9.000018677285238), ('samsung galaxy note 2', 8.787576700720166), ('samsung e1310', 8.785431197433137), ('nokia 6300', 8.527289086821233), ('samsung galaxy s4 mini gt i9190 gt i9192 dual sim', 8.46389705721893)] \n",
      "\n",
      "Kay ->  [('huawei ascend p6', 9.11510635634799), ('nokia 800', 8.876402361906976), ('nokia n73', 8.662519711650011), ('motorola moto g', 8.610139062589504), ('nokia 215 dual sim', 8.065731804848246)] \n",
      "\n",
      "elena ->  [('nokia c2 05', 9.854535723463911), ('nokia asha 300', 9.326339412879873), ('huawei p9 lite', 9.298443830487928), ('huawei honor 4x', 9.178715627169511), ('samsung galaxy ace 3', 8.861154686164967)] \n",
      "\n",
      "???????????????? ???????? ->  [('htc desire c golf wildfire c', 9.484735871661357), ('samsung gt i8160', 8.766834288590502), ('huawei ascend p1', 7.482997691617829), ('apple iphone 4s', 7.049405404388212), ('apple iphone 5', 6.419760453616705)] \n",
      "\n",
      "sonia ->  [('huawei p9 lite', 9.45680971725106), ('nokia 6300', 8.696186380123995), ('doogee x5 pro', 8.036384571041987), ('nokia lumia 625', 7.994864703279679), ('microsoft lumia 950 xl', 7.579704601309587)] \n",
      "\n",
      "Rose ->  [('apple iphone 4s', 9.827518976161315), ('htc sensation xe', 9.587287414706282), ('samsung galaxy s6', 9.4046489895176), ('samsung galaxy s6', 9.4046489895176), ('lg vx5400', 9.396617885612393)] \n",
      "\n",
      "Keith ->  [('samsung i9500 galaxy s iv', 9.254337660171124), ('palm centro', 8.804470518165482), ('samsung galaxy note 2', 8.747774046554932), ('nokia lumia 520', 8.644553628699715), ('wileyfox swift', 8.555139316855884)] \n",
      "\n",
      "Jens ->  [('sony xperia tipo', 9.467839185919711), ('nokia 5130 xpressmusic', 9.199443307769979), ('sony ericsson aino', 8.719765445826512), ('motorola rizr z3', 8.339978201855613), ('nokia c1 02', 8.15323864951761)] \n",
      "\n",
      "peter ->  [('nokia e61', 10), ('apple iphone 6 plus', 8.97709350152692), ('sony xperia l', 8.786665399952579), ('sony ericsson w910i', 8.693913056330102), ('samsung galaxy s6', 8.411059224883234)] \n",
      "\n",
      "francisco ->  [('huawei honor 4x', 10), ('lenovo moto g4 play', 8.960244007060826), ('apple iphone 7', 8.690588222773409), ('sony xperia l', 8.566566812180607), ('sony xperia go', 8.331857199894113)] \n",
      "\n",
      "Ken ->  [('doro phoneeasy 610gsm', 9.360785300890205), ('huawei honor 8', 9.11015320664216), ('asus zenfone 2', 8.828616667870142), ('samsung focus flash', 8.691736549080506), ('sony xperia z1 compact d5503', 8.4645951357823)] \n",
      "\n",
      "jonathan ->  [('asus ze550kl', 9.173447086482549), ('microsoft lumia 650', 8.86038641646881), ('motorola moto g', 8.783550382493951), ('samsung galaxy s6 edge sm g925f', 8.76806404172079), ('sony xperia e5', 8.597767977264441)] \n",
      "\n",
      "karabocuk ->  [('samsung sgh i560', 9.5010989621965), ('samsung p520', 9.465493613995296), ('nokia e51', 9.382341304645909), ('samsung c6112', 9.362837154732093), ('nokia 6120 classic', 9.34134707749818)] \n",
      "\n",
      "Jaime ->  [('apple iphone 4s', 9.073052646182056), ('lg g2 mini', 8.86679032435032), ('huawei honor 7', 8.852486859855407), ('samsung galaxy s ii plus', 8.581155510202898), ('blackberry curve 8520', 8.18705884961779)] \n",
      "\n",
      "Bruce ->  [('samsung f400', 8.697032488543293), ('cubot x9', 7.983537169006778), ('samsung gt e1270', 7.398861424327828), ('lg g3 d855 657484', 7.355956099223014), ('samsung i9500 galaxy s iv', 6.816915173854186)] \n",
      "\n",
      "salvatore ->  [('cubot s208', 9.815581749104222), ('doogee x5 pro', 9.79319034953659), ('lenovo a806', 9.769723510921533), ('huawei p9 lite', 9.651361012618253), ('huawei p8 lite', 9.496792137231875)] \n",
      "\n",
      "Sean ->  [('htc p4350', 10), ('lg google nexus 5', 9.245665938360158), ('huawei y6 ii compact', 9.104286659436546), ('samsung galaxy s7 edge', 8.99446977445001), ('sony xperia e5', 8.97102182903476)] \n",
      "\n",
      "Hannah ->  [('apple iphone 5s', 9.472621508493905), ('apple iphone 6s', 8.689812933852595), ('blu win hd', 7.929030626129806), ('samsung galaxy s iii', 7.496859150197757), ('samsung galaxy s7 edge', 7.370742488807453)] \n",
      "\n"
     ]
    },
    {
     "name": "stdout",
     "output_type": "stream",
     "text": [
      "sewut ->  [('samsung p520', 9.381824407762167), ('nokia 2310', 9.343205199663792), ('sony ericsson w610i', 9.342482500424664), ('sony ericsson m600i', 9.215878128093658), ('samsung sgh f250', 9.205804561470947)] \n",
      "\n",
      "Vivek ->  [('blackberry z30', 7.428524409521249), ('htc one m9 plus', 7.425656329576478), ('google nexus 6', 7.367548977244792), ('huawei honor 5x', 7.191711051511751), ('motorola moto g4', 6.339605323702376)] \n",
      "\n",
      "Andi ->  [('acer liquid z3 duo', 9.678803697807602), ('microsoft lumia 640 xl', 9.487607247167675), ('samsung sph m540', 9.313696269800406), ('cubot note s', 8.960617281907334), ('htc wildfire s', 8.79266685306129)] \n",
      "\n",
      "Hugo ->  [('cubot gt99', 10), ('motorola moto g', 9.714481732022625), ('lg l90 d410', 9.70650660446587), ('apple iphone 7', 9.565415947873888), ('samsung galaxy s4 mini gt i9190 gt i9192 dual sim', 9.433376331493498)] \n",
      "\n",
      "ÐÐ²Ð³ÐµÐ½Ð¸Ñ ->  [('sony xperia l', 9.92315690846358), ('sony xperia m', 9.555051041731906), ('sony xperia z1 compact d5503', 9.536901730605866), ('lenovo ideaphone s720', 9.265946042042273), ('lenovo rocstar a319', 9.01558032775435)] \n",
      "\n",
      "dal07 ->  [('siemens cx75', 9.39352089927415), ('samsung sgh g400', 9.385230273609487), ('samsung f400', 9.381935924643711), ('samsung sgh m150', 9.344186341240952), ('samsung sgh b130', 9.256044988791302)] \n",
      "\n",
      "Sandro ->  [('sony xperia c', 9.948723553297764), ('nokia 301', 9.689261464259168), ('blackberry passport', 9.43225704255498), ('nokia 105', 8.972660422142424), ('nokia lumia 735', 8.806344513841879)] \n",
      "\n",
      "Flo ->  [('htc 7 mozart', 8.633469800455124), ('asus zenfone 3 max', 8.063644915215562), ('lg google nexus 5', 7.988841062465513), ('htc hd7', 7.844662095684653), ('sony ericsson p1i', 7.823289087609944)] \n",
      "\n",
      "Carla ->  [('huawei p8', 9.434483823658141), ('lg g3 d855 657484', 9.354068591704932), ('samsung galaxy s4 mini gt i9190 gt i9192 dual sim', 8.964825281880714), ('htc desire 500', 8.931059295500985), ('samsung galaxy j5 4g lte 5 2 inches', 8.88291892719193)] \n",
      "\n",
      "Sandeep ->  [('nokia 3110 classic', 9.370945926617992), ('apple iphone 6s', 9.327113058813698), ('samsung galaxy s6', 8.613849368639), ('lg p920 optimus 3d', 8.402212227860806), ('sony ericsson w200i', 8.206670373922488)] \n",
      "\n",
      "Bert ->  [('nokia lumia 630', 9.806514695485468), ('wiko getaway', 9.560167551562628), ('samsung galaxy j7 prime', 9.492054576671954), ('sony xperia z ultra', 9.146905762361467), ('samsung galaxy s4 zoom', 8.949118859113975)] \n",
      "\n",
      "91mobiles Customer ->  [('lenovo zuk z1', 9.134947420951603), ('htc one x9', 8.066091779804692)] \n",
      "\n",
      "Rich ->  [('htc 8x', 9.896512759116854), ('apple iphone 5s', 8.914285854206351), ('lg g2 594708', 8.793479139016858), ('motorola moto x', 8.488793733717646), ('nokia lumia 635', 8.480456096295098)] \n",
      "\n",
      "Christophe ->  [('sony xperia z3', 9.668516455081251), ('motorola moto e', 9.178873392100092), ('huawei ascend p7', 8.841958558564539), ('nokia lumia 530', 8.328837849834455), ('zte blade v7 lite', 8.238622298730668)] \n",
      "\n"
     ]
    }
   ],
   "source": [
    "#recommend top 5 products for test users\n",
    "top_5 = get_top_n(knn_i_pred,5)\n",
    "print('Top 5 recommendations for all test users are: \\n')\n",
    "for key,value in top_5.items(): print(key,'-> ',value,'\\n') # to print all the recommendations for all the users\n",
    "#print('Top 5 recommendations for 3 users are: \\n')\n",
    "#for key,value in {k: v for k, v in top_5.items() if k in ['Amazon Customer','Cliente Amazon',\"Client d'Amazon\"]}.items(): print(key,'-> ',value,'\\n')"
   ]
  },
  {
   "cell_type": "markdown",
   "id": "64459de8",
   "metadata": {},
   "source": [
    "# 9."
   ]
  },
  {
   "cell_type": "markdown",
   "id": "7e1fad9e",
   "metadata": {},
   "source": [
    "### Cross Validation"
   ]
  },
  {
   "cell_type": "code",
   "execution_count": 63,
   "id": "386b72de",
   "metadata": {},
   "outputs": [
    {
     "name": "stdout",
     "output_type": "stream",
     "text": [
      "\n",
      " Mean svd cv score: 2.96 \n",
      "\n"
     ]
    },
    {
     "data": {
      "text/plain": [
       "{'test_rmse': array([2.93977702, 2.96445883, 2.94438658, 2.97423564, 2.99447597]),\n",
       " 'fit_time': (3.1978914737701416,\n",
       "  3.2318661212921143,\n",
       "  3.26462459564209,\n",
       "  3.1952266693115234,\n",
       "  3.2359719276428223),\n",
       " 'test_time': (0.13199782371520996,\n",
       "  0.10526442527770996,\n",
       "  0.09375572204589844,\n",
       "  0.10938262939453125,\n",
       "  1.527829647064209)}"
      ]
     },
     "execution_count": 63,
     "metadata": {},
     "output_type": "execute_result"
    }
   ],
   "source": [
    "svd_cv = cross_validate(svd,revs50_, measures=['RMSE'], cv=5, verbose=False)\n",
    "print('\\n Mean svd cv score:', round(svd_cv['test_rmse'].mean(),2),'\\n')\n",
    "svd_cv"
   ]
  },
  {
   "cell_type": "code",
   "execution_count": 64,
   "id": "c78bd184",
   "metadata": {},
   "outputs": [
    {
     "name": "stdout",
     "output_type": "stream",
     "text": [
      "Estimating biases using als...\n",
      "Computing the pearson_baseline similarity matrix...\n",
      "Done computing similarity matrix.\n",
      "Estimating biases using als...\n",
      "Computing the pearson_baseline similarity matrix...\n",
      "Done computing similarity matrix.\n",
      "Estimating biases using als...\n",
      "Computing the pearson_baseline similarity matrix...\n",
      "Done computing similarity matrix.\n",
      "Estimating biases using als...\n",
      "Computing the pearson_baseline similarity matrix...\n",
      "Done computing similarity matrix.\n",
      "Estimating biases using als...\n",
      "Computing the pearson_baseline similarity matrix...\n",
      "Done computing similarity matrix.\n",
      "\n",
      " Mean knn_i_cv score: 2.85 \n",
      "\n"
     ]
    },
    {
     "data": {
      "text/plain": [
       "{'test_rmse': array([2.83939645, 2.84933716, 2.87270487, 2.84477479, 2.83667554]),\n",
       " 'fit_time': (4.4073193073272705,\n",
       "  4.256576776504517,\n",
       "  4.3550865650177,\n",
       "  4.227660179138184,\n",
       "  4.404470920562744),\n",
       " 'test_time': (5.3786749839782715,\n",
       "  6.326425075531006,\n",
       "  5.480878829956055,\n",
       "  6.298483610153198,\n",
       "  5.404011964797974)}"
      ]
     },
     "execution_count": 64,
     "metadata": {},
     "output_type": "execute_result"
    }
   ],
   "source": [
    "knn_i_cv = cross_validate(knn_i,revs50_, measures=['RMSE'], cv=5, verbose=False)\n",
    "print('\\n Mean knn_i_cv score:', round(knn_i_cv['test_rmse'].mean(),2),'\\n')\n",
    "knn_i_cv"
   ]
  },
  {
   "cell_type": "code",
   "execution_count": 65,
   "id": "e324f8de",
   "metadata": {},
   "outputs": [
    {
     "name": "stdout",
     "output_type": "stream",
     "text": [
      "Estimating biases using als...\n",
      "Computing the pearson_baseline similarity matrix...\n",
      "Done computing similarity matrix.\n",
      "Estimating biases using als...\n",
      "Computing the pearson_baseline similarity matrix...\n",
      "Done computing similarity matrix.\n",
      "Estimating biases using als...\n",
      "Computing the pearson_baseline similarity matrix...\n",
      "Done computing similarity matrix.\n",
      "Estimating biases using als...\n",
      "Computing the pearson_baseline similarity matrix...\n",
      "Done computing similarity matrix.\n",
      "Estimating biases using als...\n",
      "Computing the pearson_baseline similarity matrix...\n",
      "Done computing similarity matrix.\n",
      "\n",
      " Mean knn_u_cv score: 2.88 \n",
      "\n"
     ]
    },
    {
     "data": {
      "text/plain": [
       "{'test_rmse': array([2.89650231, 2.88105365, 2.88223262, 2.88355246, 2.8781554 ]),\n",
       " 'fit_time': (1.4347362518310547,\n",
       "  1.448533058166504,\n",
       "  1.5435969829559326,\n",
       "  1.4473621845245361,\n",
       "  1.4875118732452393),\n",
       " 'test_time': (2.344235897064209,\n",
       "  2.3944499492645264,\n",
       "  2.4025180339813232,\n",
       "  2.527998924255371,\n",
       "  2.368591785430908)}"
      ]
     },
     "execution_count": 65,
     "metadata": {},
     "output_type": "execute_result"
    }
   ],
   "source": [
    "knn_u_cv = cross_validate(knn_u,revs50_, measures=['RMSE'], cv=5, verbose=False)\n",
    "print('\\n Mean knn_u_cv score:', round(knn_u_cv['test_rmse'].mean(),2),'\\n')\n",
    "knn_u_cv"
   ]
  },
  {
   "cell_type": "code",
   "execution_count": 66,
   "id": "56e1f367",
   "metadata": {},
   "outputs": [
    {
     "data": {
      "text/plain": [
       "<AxesSubplot:>"
      ]
     },
     "execution_count": 66,
     "metadata": {},
     "output_type": "execute_result"
    },
    {
     "data": {
      "image/png": "[encoded data removed]",
      "text/plain": [
       "<Figure size 432x288 with 1 Axes>"
      ]
     },
     "metadata": {
      "needs_background": "light"
     },
     "output_type": "display_data"
    }
   ],
   "source": [
    "# Comparison of RMSE scores(mean cv) from different collaorative algorithms\n",
    "sns.barplot(y=['svd_cv_rmse','knn_i_cv_rmse', 'knn_u_cv_rmse'],\n",
    "            x=[svd_cv['test_rmse'].mean(),knn_i_cv['test_rmse'].mean(), knn_u_cv['test_rmse'].mean()])"
   ]
  },
  {
   "cell_type": "markdown",
   "id": "bf21a1b5",
   "metadata": {},
   "source": [
    "Thus, for cross validation scores too knn_i gives a better performance."
   ]
  },
  {
   "cell_type": "markdown",
   "id": "e68fe594",
   "metadata": {},
   "source": [
    "# 10."
   ]
  },
  {
   "cell_type": "markdown",
   "id": "803f2af3",
   "metadata": {},
   "source": [
    "In what business scenario you should use popularity based Recommendation Systems ?\n",
    "\n",
    "Popularity based recommendation systems can be useful in multiple scenarios like:\n",
    "\n",
    "    1) When there is no data about the user and items.\n",
    "    \n",
    "    2) When it is required to show most popular items in different categories along with personalized results like:\n",
    "        1. Most popular punjabi songs or most popular english songs on a music website/app.\n",
    "        2. Most popular trend in western wear or traditional wear.\n",
    "        3. Most popular holiday packages for honeymoon trips, or bike trips or himalayan trips etc."
   ]
  },
  {
   "cell_type": "markdown",
   "id": "b1861c00",
   "metadata": {},
   "source": [
    "# 11."
   ]
  },
  {
   "cell_type": "markdown",
   "id": "30756df0",
   "metadata": {},
   "source": [
    "In what business scenario you should use CF based Recommendation Systems ?"
   ]
  },
  {
   "cell_type": "markdown",
   "id": "42e286a6",
   "metadata": {},
   "source": [
    "Collaborative filtering is useful in scenarios like:\n",
    "\n",
    "    Giving personalised recommendation to the user, when user history or item data is available.\n",
    "    For example: Personalized movie recommendation of movie sites like Netflix, Amazon Prime, Youtube etc."
   ]
  },
  {
   "cell_type": "markdown",
   "id": "a64755a0",
   "metadata": {},
   "source": [
    "# 12."
   ]
  },
  {
   "cell_type": "markdown",
   "id": "7ceacc0d",
   "metadata": {},
   "source": [
    "What other possible methods can you think of which can further improve the recommendation for different users ?"
   ]
  },
  {
   "cell_type": "markdown",
   "id": "c963edd6",
   "metadata": {},
   "source": [
    "Popularity and Collaborative Filtering, hybrid recommendation methods like Content + Collaborative method, Demographic, Utility based, and Knowledge based recommendation system can also be used."
   ]
  },
  {
   "cell_type": "code",
   "execution_count": null,
   "id": "267538a2",
   "metadata": {},
   "outputs": [],
   "source": []
  }
 ],
 "metadata": {
  "kernelspec": {
   "display_name": "Python 3",
   "language": "python",
   "name": "python3"
  },
  "language_info": {
   "codemirror_mode": {
    "name": "ipython",
    "version": 3
   },
   "file_extension": ".py",
   "mimetype": "text/x-python",
   "name": "python",
   "nbconvert_exporter": "python",
   "pygments_lexer": "ipython3",
   "version": "3.8.8"
  }
 },
 "nbformat": 4,
 "nbformat_minor": 5
}
